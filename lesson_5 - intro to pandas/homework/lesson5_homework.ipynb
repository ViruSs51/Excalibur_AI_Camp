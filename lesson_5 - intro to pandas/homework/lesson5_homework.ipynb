{
  "cells": [
    {
      "cell_type": "code",
      "execution_count": null,
      "metadata": {
        "id": "cTn1XiWA0MTc"
      },
      "outputs": [],
      "source": [
        "# make sure you have the latest version of sigmoid_check installed with !pip install sigmoid_check --upgrade\n",
        "from sigmoid_check.excalibur import *"
      ]
    },
    {
      "cell_type": "code",
      "execution_count": null,
      "metadata": {
        "id": "uTWtjfpG0MTh",
        "outputId": "ceb67f30-e6fb-46df-c0a0-9badda65e166"
      },
      "outputs": [
        {
          "name": "stdout",
          "output_type": "stream",
          "text": [
            "❗ The implementation is incorrect or the exercise was not implemented.\n"
          ]
        }
      ],
      "source": [
        "# Given a list of dictionaries `data`, create a pandas DataFrame named `df_from_dict`.\n",
        "@check_pandas_1\n",
        "def pandas_1(data):\n",
        "    # This line is mandatory and should not be removed.\n",
        "    ex_stat_init = True\n",
        "\n",
        "    # BELOW GOES YOUR CODE\n",
        "\n",
        "    # ABOVE GOES YOUR CODE\n",
        "    return {\"df_from_dict\": df_from_dict}\n",
        "\n",
        "pandas_1()"
      ]
    },
    {
      "cell_type": "code",
      "execution_count": null,
      "metadata": {
        "id": "o-iNe5R80MTk",
        "outputId": "ef790a6d-04ed-4bb6-cb40-f0a1fee382d7"
      },
      "outputs": [
        {
          "name": "stdout",
          "output_type": "stream",
          "text": [
            "❗ The implementation is incorrect or the exercise was not implemented.\n"
          ]
        }
      ],
      "source": [
        "# Create a pandas Series named `series_from_list` from a list of floats `float_list`, with no index specified.\n",
        "@check_pandas_2\n",
        "def pandas_2(float_list):\n",
        "    # This line is mandatory and should not be removed.\n",
        "    ex_stat_init = True\n",
        "\n",
        "    # BELOW GOES YOUR CODE\n",
        "\n",
        "    # ABOVE GOES YOUR CODE\n",
        "    return {\"series_from_list\": series_from_list}\n",
        "\n",
        "pandas_2()"
      ]
    },
    {
      "cell_type": "code",
      "execution_count": null,
      "metadata": {
        "id": "4daHFQuA0MTk",
        "outputId": "e8eef203-99a5-46ea-d65b-1b75e08b6a19"
      },
      "outputs": [
        {
          "name": "stdout",
          "output_type": "stream",
          "text": [
            "❗ The implementation is incorrect or the exercise was not implemented.\n"
          ]
        }
      ],
      "source": [
        "# Given a dictionary `dict_data` containing country names as keys and populations as values, create a pandas Series named `country_population`, using the dictionary keys as index.\n",
        "@check_pandas_3\n",
        "def pandas_3(dict_data):\n",
        "    # This line is mandatory and should not be removed.\n",
        "    ex_stat_init = True\n",
        "\n",
        "    # BELOW GOES YOUR CODE\n",
        "\n",
        "    # ABOVE GOES YOUR CODE\n",
        "    return {\"country_population\": country_population}\n",
        "\n",
        "pandas_3()"
      ]
    },
    {
      "cell_type": "code",
      "execution_count": null,
      "metadata": {
        "id": "Gzdaj9X50MTm",
        "outputId": "a85f11fb-c9ad-4d6b-ebf7-1e142031d9f5"
      },
      "outputs": [
        {
          "name": "stdout",
          "output_type": "stream",
          "text": [
            "❗ The implementation is incorrect or the exercise was not implemented.\n"
          ]
        }
      ],
      "source": [
        "# From a pandas Series `series_population`, access the index and save it in a variable `population_index`.\n",
        "@check_pandas_4\n",
        "def pandas_4(series_population):\n",
        "    # This line is mandatory and should not be removed.\n",
        "    ex_stat_init = True\n",
        "\n",
        "    # BELOW GOES YOUR CODE\n",
        "\n",
        "    # ABOVE GOES YOUR CODE\n",
        "    return {\"population_index\": population_index}\n",
        "\n",
        "pandas_4()"
      ]
    },
    {
      "cell_type": "code",
      "execution_count": null,
      "metadata": {
        "id": "-bOhUgMg0MTn",
        "outputId": "01ac5b08-5313-432a-e15e-e7975e13770a"
      },
      "outputs": [
        {
          "name": "stdout",
          "output_type": "stream",
          "text": [
            "❗ The implementation is incorrect or the exercise was not implemented.\n"
          ]
        }
      ],
      "source": [
        "# Using a pandas Series `series_temperatures`, extract the values and store them in a variable `temperature_values`.\n",
        "@check_pandas_5\n",
        "def pandas_5(series_temperatures):\n",
        "    # This line is mandatory and should not be removed.\n",
        "    ex_stat_init = True\n",
        "\n",
        "    # BELOW GOES YOUR CODE\n",
        "\n",
        "    # ABOVE GOES YOUR CODE\n",
        "    return {\"temperature_values\": temperature_values}\n",
        "\n",
        "pandas_5()"
      ]
    },
    {
      "cell_type": "code",
      "execution_count": null,
      "metadata": {
        "id": "uLapo4Pn0MTo",
        "outputId": "dc673416-723c-46cf-c077-8fdb21cef085"
      },
      "outputs": [
        {
          "name": "stdout",
          "output_type": "stream",
          "text": [
            "❗ The implementation is incorrect or the exercise was not implemented.\n"
          ]
        }
      ],
      "source": [
        "# For a pandas Series `series_ages`, get the data type of the elements in the series and store it in a variable `ages_dtype`.\n",
        "@check_pandas_6\n",
        "def pandas_6(series_ages):\n",
        "    # This line is mandatory and should not be removed.\n",
        "    ex_stat_init = True\n",
        "\n",
        "    # BELOW GOES YOUR CODE\n",
        "\n",
        "    # ABOVE GOES YOUR CODE\n",
        "    return {\"ages_dtype\": ages_dtype}\n",
        "\n",
        "pandas_6()"
      ]
    },
    {
      "cell_type": "code",
      "execution_count": null,
      "metadata": {
        "id": "fqz9Toi10MTp",
        "outputId": "f85d26e5-9ce2-40d3-c8e7-f75a336450b7"
      },
      "outputs": [
        {
          "name": "stdout",
          "output_type": "stream",
          "text": [
            "❗ The implementation is incorrect or the exercise was not implemented.\n"
          ]
        }
      ],
      "source": [
        "# From a Series `series_custom_index` with a custom index, access the element with index 'A' and store it in a variable `element_A`.\n",
        "@check_pandas_7\n",
        "def pandas_7(series_custom_index):\n",
        "    # This line is mandatory and should not be removed.\n",
        "    ex_stat_init = True\n",
        "\n",
        "    # BELOW GOES YOUR CODE\n",
        "\n",
        "    # ABOVE GOES YOUR CODE\n",
        "    return {\"element_A\": element_A}\n",
        "\n",
        "pandas_7()"
      ]
    },
    {
      "cell_type": "code",
      "execution_count": null,
      "metadata": {
        "id": "VTlYrgg30MTq",
        "outputId": "8330c459-b6ee-49ff-cff6-a0dc40bf3c93"
      },
      "outputs": [
        {
          "name": "stdout",
          "output_type": "stream",
          "text": [
            "❗ The implementation is incorrect or the exercise was not implemented.\n"
          ]
        }
      ],
      "source": [
        "# Using a pandas Series `series_items`, slice the series to contain elements with indices from 'b' to 'd', inclusive, and save it into `sliced_series`.\n",
        "@check_pandas_8\n",
        "def pandas_8(series_items):\n",
        "    # This line is mandatory and should not be removed.\n",
        "    ex_stat_init = True\n",
        "\n",
        "    # BELOW GOES YOUR CODE\n",
        "\n",
        "    # ABOVE GOES YOUR CODE\n",
        "    return {\"sliced_series\": sliced_series}\n",
        "\n",
        "pandas_8()"
      ]
    },
    {
      "cell_type": "code",
      "execution_count": null,
      "metadata": {
        "id": "YiIg6H3h0MTs",
        "outputId": "208f8ddf-648c-4f9e-c6a5-fcfb6e288300"
      },
      "outputs": [
        {
          "name": "stdout",
          "output_type": "stream",
          "text": [
            "❗ The implementation is incorrect or the exercise was not implemented.\n"
          ]
        }
      ],
      "source": [
        "# From a Series `series_prices`, select elements with custom indices ['apple', 'banana', 'cherry'] and store them in `selected_prices`.\n",
        "@check_pandas_9\n",
        "def pandas_9(series_prices):\n",
        "    # This line is mandatory and should not be removed.\n",
        "    ex_stat_init = True\n",
        "\n",
        "    # BELOW GOES YOUR CODE\n",
        "\n",
        "    # ABOVE GOES YOUR CODE\n",
        "    return {\"selected_prices\": selected_prices}\n",
        "\n",
        "pandas_9()"
      ]
    },
    {
      "cell_type": "code",
      "execution_count": null,
      "metadata": {
        "id": "sLQZGjPy0MTs",
        "outputId": "e0bb21a3-0800-4e43-960c-a85c81417d7c"
      },
      "outputs": [
        {
          "name": "stdout",
          "output_type": "stream",
          "text": [
            "❗ The implementation is incorrect or the exercise was not implemented.\n"
          ]
        }
      ],
      "source": [
        "# Create a DataFrame `df_custom` from a list of lists `list_of_lists_data`, ensuring to label the columns as 'A', 'B', 'C'.\n",
        "@check_pandas_10\n",
        "def pandas_10(list_of_lists_data):\n",
        "    # This line is mandatory and should not be removed.\n",
        "    ex_stat_init = True\n",
        "\n",
        "    # BELOW GOES YOUR CODE\n",
        "\n",
        "    # ABOVE GOES YOUR CODE\n",
        "    return {\"df_custom\": df_custom}\n",
        "\n",
        "pandas_10()"
      ]
    },
    {
      "cell_type": "code",
      "execution_count": null,
      "metadata": {
        "id": "_eBCm8dS0MTt",
        "outputId": "759f1208-1cf7-411b-d8cc-4c317892ae17"
      },
      "outputs": [
        {
          "name": "stdout",
          "output_type": "stream",
          "text": [
            "❗ The implementation is incorrect or the exercise was not implemented.\n"
          ]
        }
      ],
      "source": [
        "# Given a list of tuples `data_tuples`, create a DataFrame named `df_from_tuples` and rename its columns to 'X', 'Y', 'Z'.\n",
        "@check_pandas_11\n",
        "def pandas_11(data_tuples):\n",
        "    # This line is mandatory and should not be removed.\n",
        "    ex_stat_init = True\n",
        "\n",
        "    # BELOW GOES YOUR CODE\n",
        "\n",
        "    # ABOVE GOES YOUR CODE\n",
        "    return {\"df_from_tuples\": df_from_tuples}\n",
        "\n",
        "pandas_11()"
      ]
    },
    {
      "cell_type": "code",
      "execution_count": null,
      "metadata": {
        "id": "NMU1kRLr0MTt",
        "outputId": "9af6c9aa-cbf1-4d76-f277-c15bf5349bc1"
      },
      "outputs": [
        {
          "name": "stdout",
          "output_type": "stream",
          "text": [
            "❗ The implementation is incorrect or the exercise was not implemented.\n"
          ]
        }
      ],
      "source": [
        "# Using DataFrame `df_sales`, access and store the column names in variable `sales_columns`.\n",
        "@check_pandas_12\n",
        "def pandas_12(df_sales):\n",
        "    # This line is mandatory and should not be removed.\n",
        "    ex_stat_init = True\n",
        "\n",
        "    # BELOW GOES YOUR CODE\n",
        "\n",
        "    # ABOVE GOES YOUR CODE\n",
        "    return {\"sales_columns\": sales_columns}\n",
        "\n",
        "pandas_12()"
      ]
    },
    {
      "cell_type": "code",
      "execution_count": null,
      "metadata": {
        "id": "WxFQ-4Yi0MTu",
        "outputId": "2398922c-d842-4767-c622-6f2cedee9042"
      },
      "outputs": [
        {
          "name": "stdout",
          "output_type": "stream",
          "text": [
            "❗ The implementation is incorrect or the exercise was not implemented.\n"
          ]
        }
      ],
      "source": [
        "# Store the index of the DataFrame `df_employees` in a variable `employees_index`.\n",
        "@check_pandas_13\n",
        "def pandas_13(df_employees):\n",
        "    # This line is mandatory and should not be removed.\n",
        "    ex_stat_init = True\n",
        "\n",
        "    # BELOW GOES YOUR CODE\n",
        "\n",
        "    # ABOVE GOES YOUR CODE\n",
        "    return {\"employees_index\": employees_index}\n",
        "\n",
        "pandas_13()"
      ]
    },
    {
      "cell_type": "code",
      "execution_count": null,
      "metadata": {
        "id": "byn2tR6o0MTu",
        "outputId": "7b1db3d8-d8e5-4a07-f700-1e30a32281df"
      },
      "outputs": [
        {
          "name": "stdout",
          "output_type": "stream",
          "text": [
            "❗ The implementation is incorrect or the exercise was not implemented.\n"
          ]
        }
      ],
      "source": [
        "# Retrieve the values from DataFrame `df_weather` and save them into `weather_values`.\n",
        "@check_pandas_14\n",
        "def pandas_14(df_weather):\n",
        "    # This line is mandatory and should not be removed.\n",
        "    ex_stat_init = True\n",
        "\n",
        "    # BELOW GOES YOUR CODE\n",
        "\n",
        "    # ABOVE GOES YOUR CODE\n",
        "    return {\"weather_values\": weather_values}\n",
        "\n",
        "pandas_14()"
      ]
    },
    {
      "cell_type": "code",
      "execution_count": null,
      "metadata": {
        "id": "IfbPOb4d0MTv",
        "outputId": "069bb056-d41f-4c80-d607-054c24409e95"
      },
      "outputs": [
        {
          "name": "stdout",
          "output_type": "stream",
          "text": [
            "❗ The implementation is incorrect or the exercise was not implemented.\n"
          ]
        }
      ],
      "source": [
        "# Determine the shape of the DataFrame `df_financials` and store it in a variable `financials_shape`.\n",
        "@check_pandas_15\n",
        "def pandas_15(df_financials):\n",
        "    # This line is mandatory and should not be removed.\n",
        "    ex_stat_init = True\n",
        "\n",
        "    # BELOW GOES YOUR CODE\n",
        "\n",
        "    # ABOVE GOES YOUR CODE\n",
        "    return {\"financials_shape\": financials_shape}\n",
        "\n",
        "pandas_15()"
      ]
    },
    {
      "cell_type": "code",
      "execution_count": null,
      "metadata": {
        "id": "22gEUqbb0MTv",
        "outputId": "5e5284b4-e6fd-44b3-f831-7f54306dcf4e"
      },
      "outputs": [
        {
          "name": "stdout",
          "output_type": "stream",
          "text": [
            "❗ The implementation is incorrect or the exercise was not implemented.\n"
          ]
        }
      ],
      "source": [
        "# Get the data types of each column in DataFrame `df_customer_info` and store them in a variable `customer_info_dtypes`.\n",
        "@check_pandas_16\n",
        "def pandas_16(df_customer_info):\n",
        "    # This line is mandatory and should not be removed.\n",
        "    ex_stat_init = True\n",
        "\n",
        "    # BELOW GOES YOUR CODE\n",
        "\n",
        "    # ABOVE GOES YOUR CODE\n",
        "    return {\"customer_info_dtypes\": customer_info_dtypes}\n",
        "\n",
        "pandas_16()"
      ]
    },
    {
      "cell_type": "code",
      "execution_count": null,
      "metadata": {
        "id": "Z8Kaav2r0MTv",
        "outputId": "e700f745-d97e-49ff-cb93-1c6ca3522c73"
      },
      "outputs": [
        {
          "name": "stdout",
          "output_type": "stream",
          "text": [
            "❗ The implementation is incorrect or the exercise was not implemented.\n"
          ]
        }
      ],
      "source": [
        "# Using the DataFrame `df_transactions`, get the first 5 rows and store them in `transactions_head`.\n",
        "@check_pandas_17\n",
        "def pandas_17(df_transactions):\n",
        "    # This line is mandatory and should not be removed.\n",
        "    ex_stat_init = True\n",
        "\n",
        "    # BELOW GOES YOUR CODE\n",
        "\n",
        "    # ABOVE GOES YOUR CODE\n",
        "    return {\"transactions_head\": transactions_head}\n",
        "\n",
        "pandas_17()"
      ]
    },
    {
      "cell_type": "code",
      "execution_count": null,
      "metadata": {
        "id": "2wM-nZlw0MTx",
        "outputId": "db34c7bb-151d-4fac-9044-feb8845181c1"
      },
      "outputs": [
        {
          "name": "stdout",
          "output_type": "stream",
          "text": [
            "❗ The implementation is incorrect or the exercise was not implemented.\n"
          ]
        }
      ],
      "source": [
        "# Retrieve the last 3 rows from DataFrame `df_activities` and save them into `activities_tail`.\n",
        "@check_pandas_18\n",
        "def pandas_18(df_activities):\n",
        "    # This line is mandatory and should not be removed.\n",
        "    ex_stat_init = True\n",
        "\n",
        "    # BELOW GOES YOUR CODE\n",
        "\n",
        "    # ABOVE GOES YOUR CODE\n",
        "    return {\"activities_tail\": activities_tail}\n",
        "\n",
        "pandas_18()"
      ]
    },
    {
      "cell_type": "code",
      "execution_count": null,
      "metadata": {
        "id": "mwtQW44a0MTx",
        "outputId": "6c30db79-c563-46eb-ee1a-e959c60e651c"
      },
      "outputs": [
        {
          "name": "stdout",
          "output_type": "stream",
          "text": [
            "❗ The implementation is incorrect or the exercise was not implemented.\n"
          ]
        }
      ],
      "source": [
        "# Get a summary of information about DataFrame `df_inventory`, storing the result in a variable `inventory_info`.\n",
        "@check_pandas_19\n",
        "def pandas_19(df_inventory):\n",
        "    # This line is mandatory and should not be removed.\n",
        "    ex_stat_init = True\n",
        "\n",
        "    # BELOW GOES YOUR CODE\n",
        "\n",
        "    # ABOVE GOES YOUR CODE\n",
        "    return {\"inventory_info\": inventory_info}\n",
        "\n",
        "pandas_19()"
      ]
    },
    {
      "cell_type": "code",
      "execution_count": null,
      "metadata": {
        "id": "MjJ_yyfj0MTy",
        "outputId": "f962a9a7-9a08-4afe-d673-810d9aeda1f5"
      },
      "outputs": [
        {
          "name": "stdout",
          "output_type": "stream",
          "text": [
            "❗ The implementation is incorrect or the exercise was not implemented.\n"
          ]
        }
      ],
      "source": [
        "# For the DataFrame `df_scores`, generate descriptive statistics and store them in `scores_statistics`.\n",
        "@check_pandas_20\n",
        "def pandas_20(df_scores):\n",
        "    # This line is mandatory and should not be removed.\n",
        "    ex_stat_init = True\n",
        "\n",
        "    # BELOW GOES YOUR CODE\n",
        "\n",
        "    # ABOVE GOES YOUR CODE\n",
        "    return {\"scores_statistics\": scores_statistics}\n",
        "\n",
        "pandas_20()"
      ]
    },
    {
      "cell_type": "code",
      "execution_count": null,
      "metadata": {
        "id": "VEYHLLZm0MTy",
        "outputId": "13833651-c1b1-44e6-928b-8a53855758f1"
      },
      "outputs": [
        {
          "name": "stdout",
          "output_type": "stream",
          "text": [
            "❗ The implementation is incorrect or the exercise was not implemented.\n"
          ]
        }
      ],
      "source": [
        "# Use DataFrame `df_orders` to create a boolean mask `orders_non_missing`, detecting non-missing values.\n",
        "@check_pandas_21\n",
        "def pandas_21(df_orders):\n",
        "    # This line is mandatory and should not be removed.\n",
        "    ex_stat_init = True\n",
        "\n",
        "    # BELOW GOES YOUR CODE\n",
        "\n",
        "    # ABOVE GOES YOUR CODE\n",
        "    return {\"orders_non_missing\": orders_non_missing}\n",
        "\n",
        "pandas_21()"
      ]
    },
    {
      "cell_type": "code",
      "execution_count": null,
      "metadata": {
        "id": "NBNW7Lo50MTz",
        "outputId": "31b23fee-b7a5-4c8c-dce6-69db8c164268"
      },
      "outputs": [
        {
          "name": "stdout",
          "output_type": "stream",
          "text": [
            "❗ The implementation is incorrect or the exercise was not implemented.\n"
          ]
        }
      ],
      "source": [
        "# Drop rows with missing values in DataFrame `df_stats` and save the result into `cleaned_stats`.\n",
        "@check_pandas_22\n",
        "def pandas_22(df_stats):\n",
        "    # This line is mandatory and should not be removed.\n",
        "    ex_stat_init = True\n",
        "\n",
        "    # BELOW GOES YOUR CODE\n",
        "\n",
        "    # ABOVE GOES YOUR CODE\n",
        "    return {\"cleaned_stats\": cleaned_stats}\n",
        "\n",
        "pandas_22()"
      ]
    },
    {
      "cell_type": "code",
      "execution_count": null,
      "metadata": {
        "id": "kBjShvl50MTz",
        "outputId": "11644125-2388-42c4-9edf-cad4f1d4398b"
      },
      "outputs": [
        {
          "name": "stdout",
          "output_type": "stream",
          "text": [
            "❗ The implementation is incorrect or the exercise was not implemented.\n"
          ]
        }
      ],
      "source": [
        "# From DataFrame `df_statistics`, drop columns with missing values and store the result into `statistics_cleaned`.\n",
        "@check_pandas_23\n",
        "def pandas_23(df_statistics):\n",
        "    # This line is mandatory and should not be removed.\n",
        "    ex_stat_init = True\n",
        "\n",
        "    # BELOW GOES YOUR CODE\n",
        "\n",
        "    # ABOVE GOES YOUR CODE\n",
        "    return {\"statistics_cleaned\": statistics_cleaned}\n",
        "\n",
        "pandas_23()"
      ]
    },
    {
      "cell_type": "code",
      "execution_count": null,
      "metadata": {
        "id": "eX-jhX8n0MTz",
        "outputId": "6215e5bb-a8f3-4657-e6f0-239d09c0df3f"
      },
      "outputs": [
        {
          "name": "stdout",
          "output_type": "stream",
          "text": [
            "❗ The implementation is incorrect or the exercise was not implemented.\n"
          ]
        }
      ],
      "source": [
        "# Fill missing values in DataFrame `df_grades` with 0 and store the resultant DataFrame in `filled_grades`.\n",
        "@check_pandas_24\n",
        "def pandas_24(df_grades):\n",
        "    # This line is mandatory and should not be removed.\n",
        "    ex_stat_init = True\n",
        "\n",
        "    # BELOW GOES YOUR CODE\n",
        "\n",
        "    # ABOVE GOES YOUR CODE\n",
        "    return {\"filled_grades\": filled_grades}\n",
        "\n",
        "pandas_24()"
      ]
    },
    {
      "cell_type": "code",
      "execution_count": null,
      "metadata": {
        "id": "lh-iGzkt0MTz",
        "outputId": "9a16afc6-8544-4168-96f1-d3412fa98f22"
      },
      "outputs": [
        {
          "name": "stdout",
          "output_type": "stream",
          "text": [
            "❗ The implementation is incorrect or the exercise was not implemented.\n"
          ]
        }
      ],
      "source": [
        "# Apply backward fill on DataFrame `df_sales_data` for missing values and save it into `filled_bfill_sales_data`.\n",
        "@check_pandas_25\n",
        "def pandas_25(df_sales_data):\n",
        "    # This line is mandatory and should not be removed.\n",
        "    ex_stat_init = True\n",
        "\n",
        "    # BELOW GOES YOUR CODE\n",
        "\n",
        "    # ABOVE GOES YOUR CODE\n",
        "    return {\"filled_bfill_sales_data\": filled_bfill_sales_data}\n",
        "\n",
        "pandas_25()"
      ]
    },
    {
      "cell_type": "code",
      "execution_count": null,
      "metadata": {
        "id": "GXUc9qoN0MT0",
        "outputId": "961c7168-d947-48f7-d975-f27095c5d29c"
      },
      "outputs": [
        {
          "name": "stdout",
          "output_type": "stream",
          "text": [
            "❗ The implementation is incorrect or the exercise was not implemented.\n"
          ]
        }
      ],
      "source": [
        "# Apply forward fill on DataFrame `df_attendance` and store the results in `filled_ffill_attendance`.\n",
        "@check_pandas_26\n",
        "def pandas_26(df_attendance):\n",
        "    # This line is mandatory and should not be removed.\n",
        "    ex_stat_init = True\n",
        "\n",
        "    # BELOW GOES YOUR CODE\n",
        "\n",
        "    # ABOVE GOES YOUR CODE\n",
        "    return {\"filled_ffill_attendance\": filled_ffill_attendance}\n",
        "\n",
        "pandas_26()"
      ]
    },
    {
      "cell_type": "code",
      "execution_count": null,
      "metadata": {
        "id": "wivVfQIQ0MT0",
        "outputId": "32db5cde-f468-4c02-a1fe-7a047a6f48b1"
      },
      "outputs": [
        {
          "name": "stdout",
          "output_type": "stream",
          "text": [
            "❗ The implementation is incorrect or the exercise was not implemented.\n"
          ]
        }
      ],
      "source": [
        "# Set 'OrderID' as the index of DataFrame `df_orders_list` and save the updated DataFrame as `orders_indexed`.\n",
        "@check_pandas_27\n",
        "def pandas_27(df_orders_list):\n",
        "    # This line is mandatory and should not be removed.\n",
        "    ex_stat_init = True\n",
        "\n",
        "    # BELOW GOES YOUR CODE\n",
        "\n",
        "    # ABOVE GOES YOUR CODE\n",
        "    return {\"orders_indexed\": orders_indexed}\n",
        "\n",
        "pandas_27()"
      ]
    },
    {
      "cell_type": "code",
      "execution_count": null,
      "metadata": {
        "id": "JaOoqQ5q0MT0",
        "outputId": "8eadadc4-91bd-44fc-96c0-275107b5ef10"
      },
      "outputs": [
        {
          "name": "stdout",
          "output_type": "stream",
          "text": [
            "❗ The implementation is incorrect or the exercise was not implemented.\n"
          ]
        }
      ],
      "source": [
        "# Reset the index of a DataFrame `df_indexed_data` and store it in `df_reset_index`.\n",
        "@check_pandas_28\n",
        "def pandas_28(df_indexed_data):\n",
        "    # This line is mandatory and should not be removed.\n",
        "    ex_stat_init = True\n",
        "\n",
        "    # BELOW GOES YOUR CODE\n",
        "\n",
        "    # ABOVE GOES YOUR CODE\n",
        "    return {\"df_reset_index\": df_reset_index}\n",
        "\n",
        "pandas_28()"
      ]
    },
    {
      "cell_type": "code",
      "execution_count": null,
      "metadata": {
        "id": "eXErWc9N0MT0",
        "outputId": "90568335-85f1-497d-8393-5020d852c1a8"
      },
      "outputs": [
        {
          "name": "stdout",
          "output_type": "stream",
          "text": [
            "❗ The implementation is incorrect or the exercise was not implemented.\n"
          ]
        }
      ],
      "source": [
        "# Create a DataFrame `df_multiindex` with hierarchical indexing from `multiindex_data_list` using levels 'Region' and 'Category'.\n",
        "@check_pandas_29\n",
        "def pandas_29(multiindex_data_list):\n",
        "    # This line is mandatory and should not be removed.\n",
        "    ex_stat_init = True\n",
        "\n",
        "    # BELOW GOES YOUR CODE\n",
        "\n",
        "    # ABOVE GOES YOUR CODE\n",
        "    return {\"df_multiindex\": df_multiindex}\n",
        "\n",
        "pandas_29()"
      ]
    },
    {
      "cell_type": "code",
      "execution_count": null,
      "metadata": {
        "id": "HWSofAUz0MT1",
        "outputId": "0c6df27e-89cc-4dbb-f4e4-7e49ac51de72"
      },
      "outputs": [
        {
          "name": "stdout",
          "output_type": "stream",
          "text": [
            "❗ The implementation is incorrect or the exercise was not implemented.\n"
          ]
        }
      ],
      "source": [
        "# Use DataFrame `df_exams` to filter rows with Score > 80 using boolean indexing and save it in `high_score_exams`.\n",
        "@check_pandas_30\n",
        "def pandas_30(df_exams):\n",
        "    # This line is mandatory and should not be removed.\n",
        "    ex_stat_init = True\n",
        "\n",
        "    # BELOW GOES YOUR CODE\n",
        "\n",
        "    # ABOVE GOES YOUR CODE\n",
        "    return {\"high_score_exams\": high_score_exams}\n",
        "\n",
        "pandas_30()"
      ]
    },
    {
      "cell_type": "code",
      "execution_count": null,
      "metadata": {
        "id": "MIUPaDZN0MT1",
        "outputId": "04b47f95-29a2-4814-e22f-4b41243ae8ab"
      },
      "outputs": [
        {
          "name": "stdout",
          "output_type": "stream",
          "text": [
            "❗ The implementation is incorrect or the exercise was not implemented.\n"
          ]
        }
      ],
      "source": [
        "# From DataFrame `df_transactions`, select the row with label 'TX005' and store it in `transaction_TX005`.\n",
        "@check_pandas_31\n",
        "def pandas_31(df_transactions):\n",
        "    # This line is mandatory and should not be removed.\n",
        "    ex_stat_init = True\n",
        "\n",
        "    # BELOW GOES YOUR CODE\n",
        "\n",
        "    # ABOVE GOES YOUR CODE\n",
        "    return {\"transaction_TX005\": transaction_TX005}\n",
        "\n",
        "pandas_31()"
      ]
    },
    {
      "cell_type": "code",
      "execution_count": null,
      "metadata": {
        "id": "3Yrph_qS0MT2",
        "outputId": "5d913b50-f12f-4a5a-c3e1-06c189807c5a"
      },
      "outputs": [
        {
          "name": "stdout",
          "output_type": "stream",
          "text": [
            "❗ The implementation is incorrect or the exercise was not implemented.\n"
          ]
        }
      ],
      "source": [
        "# Use DataFrame `df_sports` to select rows labeled ['Basketball', 'Football'] and columns labeled ['Wins', 'Losses'], storing the result in `selected_sports`.\n",
        "@check_pandas_32\n",
        "def pandas_32(df_sports):\n",
        "    # This line is mandatory and should not be removed.\n",
        "    ex_stat_init = True\n",
        "\n",
        "    # BELOW GOES YOUR CODE\n",
        "\n",
        "    # ABOVE GOES YOUR CODE\n",
        "    return {\"selected_sports\": selected_sports}\n",
        "\n",
        "pandas_32()"
      ]
    },
    {
      "cell_type": "code",
      "execution_count": null,
      "metadata": {
        "id": "AixmGtyA0MT2",
        "outputId": "6415b5c3-fc16-4bec-ba66-4341cc1d8c44"
      },
      "outputs": [
        {
          "name": "stdout",
          "output_type": "stream",
          "text": [
            "❗ The implementation is incorrect or the exercise was not implemented.\n"
          ]
        }
      ],
      "source": [
        "# From DataFrame `df_catalog`, select rows where 'Category' is 'Electronics' and save them to `electronics_catalog`.\n",
        "@check_pandas_33\n",
        "def pandas_33(df_catalog):\n",
        "    # This line is mandatory and should not be removed.\n",
        "    ex_stat_init = True\n",
        "\n",
        "    # BELOW GOES YOUR CODE\n",
        "\n",
        "    # ABOVE GOES YOUR CODE\n",
        "    return {\"electronics_catalog\": electronics_catalog}\n",
        "\n",
        "pandas_33()"
      ]
    },
    {
      "cell_type": "code",
      "execution_count": null,
      "metadata": {
        "id": "a_8sxXi60MT2",
        "outputId": "c8e71f3e-3d7a-4d79-9300-c54cd6c53f06"
      },
      "outputs": [
        {
          "name": "stdout",
          "output_type": "stream",
          "text": [
            "❗ The implementation is incorrect or the exercise was not implemented.\n"
          ]
        }
      ],
      "source": [
        "# For DataFrame `df_movies`, perform boolean selection where 'Genre' is 'Action' and 'Budget' > 500000, then select 'Title' and 'Revenue' columns, storing result in `selected_movies`.\n",
        "@check_pandas_34\n",
        "def pandas_34(df_movies):\n",
        "    # This line is mandatory and should not be removed.\n",
        "    ex_stat_init = True\n",
        "\n",
        "    # BELOW GOES YOUR CODE\n",
        "\n",
        "    # ABOVE GOES YOUR CODE\n",
        "    return {\"selected_movies\": selected_movies}\n",
        "\n",
        "pandas_34()"
      ]
    },
    {
      "cell_type": "code",
      "execution_count": null,
      "metadata": {
        "id": "xWr8wxRv0MT3"
      },
      "outputs": [],
      "source": [
        "from sigmoid_check.excalibur import *"
      ]
    },
    {
      "cell_type": "code",
      "execution_count": null,
      "metadata": {
        "id": "oo85kL2t0MT3",
        "outputId": "f605d3f5-d644-4c5d-dcc1-fd659577d1d5"
      },
      "outputs": [
        {
          "name": "stdout",
          "output_type": "stream",
          "text": [
            "❗ The implementation is incorrect or the exercise was not implemented.\n"
          ]
        }
      ],
      "source": [
        "# Using .loc, slice DataFrame `df_plants` to include rows 'Rose' through 'Tulip' and store it in `flower_slice`.\n",
        "@check_pandas_35\n",
        "def pandas_35(df_plants):\n",
        "    # This line is mandatory and should not be removed.\n",
        "    ex_stat_init = True\n",
        "\n",
        "    # BELOW GOES YOUR CODE\n",
        "\n",
        "    # ABOVE GOES YOUR CODE\n",
        "    return {\"flower_slice\": flower_slice}\n",
        "\n",
        "pandas_35()"
      ]
    },
    {
      "cell_type": "code",
      "execution_count": null,
      "metadata": {
        "id": "v4kqv0yj0MT3",
        "outputId": "8b13248a-6ce7-439f-8c42-d0f151fad254"
      },
      "outputs": [
        {
          "name": "stdout",
          "output_type": "stream",
          "text": [
            "❗ The implementation is incorrect or the exercise was not implemented.\n"
          ]
        }
      ],
      "source": [
        "# Use .iloc to slice DataFrame `df_students` to include the first three rows and the first two columns, saving them in `student_slice`.\n",
        "@check_pandas_36\n",
        "def pandas_36(df_students):\n",
        "    # This line is mandatory and should not be removed.\n",
        "    ex_stat_init = True\n",
        "\n",
        "    # BELOW GOES YOUR CODE\n",
        "\n",
        "    # ABOVE GOES YOUR CODE\n",
        "    return {\"student_slice\": student_slice}\n",
        "\n",
        "pandas_36()"
      ]
    },
    {
      "cell_type": "code",
      "execution_count": null,
      "metadata": {
        "id": "VDROV2bS0MT4",
        "outputId": "1f502de3-a787-4a94-befb-dad09fb59d92"
      },
      "outputs": [
        {
          "name": "stdout",
          "output_type": "stream",
          "text": [
            "❗ The implementation is incorrect or the exercise was not implemented.\n"
          ]
        }
      ],
      "source": [
        "# From DataFrame `df_reports`, use a combination of .loc and .iloc to select rows 'R102' and 'R103' and the first three columns, storing it as `report_selection`.\n",
        "@check_pandas_37\n",
        "def pandas_37(df_reports):\n",
        "    # This line is mandatory and should not be removed.\n",
        "    ex_stat_init = True\n",
        "\n",
        "    # BELOW GOES YOUR CODE\n",
        "\n",
        "    # ABOVE GOES YOUR CODE\n",
        "    return {\"report_selection\": report_selection}\n",
        "\n",
        "pandas_37()"
      ]
    },
    {
      "cell_type": "code",
      "execution_count": null,
      "metadata": {
        "id": "jj6QvM9v0MT-",
        "outputId": "523de19e-5b47-4214-e815-e1d60c4e0f23"
      },
      "outputs": [
        {
          "name": "stdout",
          "output_type": "stream",
          "text": [
            "❗ The implementation is incorrect or the exercise was not implemented.\n"
          ]
        }
      ],
      "source": [
        "# Modify DataFrame `df_inventory` by setting all 'Quantity' to 50 for rows labeled 'InStock' and store the modified DataFrame as `inventory_modified`.\n",
        "@check_pandas_38\n",
        "def pandas_38(df_inventory):\n",
        "    # This line is mandatory and should not be removed.\n",
        "    ex_stat_init = True\n",
        "\n",
        "    # BELOW GOES YOUR CODE\n",
        "\n",
        "    # ABOVE GOES YOUR CODE\n",
        "    return {\"inventory_modified\": inventory_modified}\n",
        "\n",
        "pandas_38()"
      ]
    },
    {
      "cell_type": "code",
      "execution_count": null,
      "metadata": {
        "id": "xCMKW3eP0MT-",
        "outputId": "550df287-fcf3-4f18-f0a8-d4ffba301641"
      },
      "outputs": [
        {
          "name": "stdout",
          "output_type": "stream",
          "text": [
            "❗ The implementation is incorrect or the exercise was not implemented.\n"
          ]
        }
      ],
      "source": [
        "# Combine .loc and .iloc to modify rows 'R101' to 'R105' in 'df_revenue' setting the first column's value to 1000, storing it in `revenue_updated`.\n",
        "@check_pandas_39\n",
        "def pandas_39(df_revenue):\n",
        "    # This line is mandatory and should not be removed.\n",
        "    ex_stat_init = True\n",
        "\n",
        "    # BELOW GOES YOUR CODE\n",
        "\n",
        "    # ABOVE GOES YOUR CODE\n",
        "    return {\"revenue_updated\": revenue_updated}\n",
        "\n",
        "pandas_39()"
      ]
    },
    {
      "cell_type": "code",
      "execution_count": null,
      "metadata": {
        "id": "RCcWDoqY0MT-",
        "outputId": "aa663881-5a41-4197-9437-6f6f95ee7535"
      },
      "outputs": [
        {
          "name": "stdout",
          "output_type": "stream",
          "text": [
            "❗ The implementation is incorrect or the exercise was not implemented.\n"
          ]
        }
      ],
      "source": [
        "# Using DataFrame `df_hierarchical_example`, demonstrate the use of .loc and .iloc on a DataFrame with a multiindex, saving the selection as `multiindex_selected`, selecting the row with index ('North', 'A') and column 'X'.\n",
        "@check_pandas_40\n",
        "def pandas_40(df_hierarchical_example):\n",
        "    # This line is mandatory and should not be removed.\n",
        "    ex_stat_init = True\n",
        "\n",
        "    # BELOW GOES YOUR CODE\n",
        "\n",
        "    # ABOVE GOES YOUR CODE\n",
        "    return {\"multiindex_selected\": multiindex_selected}\n",
        "\n",
        "pandas_40()"
      ]
    },
    {
      "cell_type": "code",
      "execution_count": null,
      "metadata": {
        "id": "V-aBpE3f0MT_",
        "outputId": "5c6d8505-af53-4063-a7e5-38a8d22e3399"
      },
      "outputs": [
        {
          "name": "stdout",
          "output_type": "stream",
          "text": [
            "❗ The implementation is incorrect or the exercise was not implemented.\n"
          ]
        }
      ],
      "source": [
        "# Concatenate DataFrames `df1` and `df2` horizontally and save the result as `concatenated_df_horizontal`.\n",
        "@check_pandas_41\n",
        "def pandas_41(df1, df2):\n",
        "    # This line is mandatory and should not be removed.\n",
        "    ex_stat_init = True\n",
        "\n",
        "    # BELOW GOES YOUR CODE\n",
        "\n",
        "    # ABOVE GOES YOUR CODE\n",
        "    return {\"concatenated_df_horizontal\": concatenated_df_horizontal}\n",
        "\n",
        "pandas_41()"
      ]
    },
    {
      "cell_type": "code",
      "execution_count": null,
      "metadata": {
        "id": "2PdF8YQ_0MT_",
        "outputId": "a873fb93-139f-4743-9894-bbea3d06e7d6"
      },
      "outputs": [
        {
          "name": "stdout",
          "output_type": "stream",
          "text": [
            "❗ The implementation is incorrect or the exercise was not implemented.\n"
          ]
        }
      ],
      "source": [
        "# Concatenate DataFrames `df_a` and `df_b` vertically, aligning by columns, and store the result in `concatenated_df_vertical`.\n",
        "@check_pandas_42\n",
        "def pandas_42(df_a, df_b):\n",
        "    # This line is mandatory and should not be removed.\n",
        "    ex_stat_init = True\n",
        "\n",
        "    # BELOW GOES YOUR CODE\n",
        "\n",
        "    # ABOVE GOES YOUR CODE\n",
        "    return {\"concatenated_df_vertical\": concatenated_df_vertical}\n",
        "\n",
        "pandas_42()"
      ]
    },
    {
      "cell_type": "code",
      "execution_count": null,
      "metadata": {
        "id": "tgyNXCBr0MT_",
        "outputId": "00dcc8a1-fd60-4368-97ee-915df2023788"
      },
      "outputs": [
        {
          "name": "stdout",
          "output_type": "stream",
          "text": [
            "❗ The implementation is incorrect or the exercise was not implemented.\n"
          ]
        }
      ],
      "source": [
        "# Merge DataFrames `df_left` and `df_right` on key 'ID', using outer method and store result in `merged_outer`.\n",
        "@check_pandas_43\n",
        "def pandas_43(df_left, df_right):\n",
        "    # This line is mandatory and should not be removed.\n",
        "    ex_stat_init = True\n",
        "\n",
        "    # BELOW GOES YOUR CODE\n",
        "\n",
        "    # ABOVE GOES YOUR CODE\n",
        "    return {\"merged_outer\": merged_outer}\n",
        "\n",
        "pandas_43()"
      ]
    },
    {
      "cell_type": "code",
      "execution_count": null,
      "metadata": {
        "id": "2KD23EYU0MT_",
        "outputId": "3eb7367e-02ab-4ae1-d15d-5e88267d40ff"
      },
      "outputs": [
        {
          "name": "stdout",
          "output_type": "stream",
          "text": [
            "❗ The implementation is incorrect or the exercise was not implemented.\n"
          ]
        }
      ],
      "source": [
        "# Perform a right merge on DataFrames `df_personal` and `df_contact` based on the key 'ContactID', saving it as `merged_right`.\n",
        "@check_pandas_44\n",
        "def pandas_44(df_personal, df_contact):\n",
        "    # This line is mandatory and should not be removed.\n",
        "    ex_stat_init = True\n",
        "\n",
        "    # BELOW GOES YOUR CODE\n",
        "\n",
        "    # ABOVE GOES YOUR CODE\n",
        "    return {\"merged_right\": merged_right}\n",
        "\n",
        "pandas_44()"
      ]
    },
    {
      "cell_type": "code",
      "execution_count": null,
      "metadata": {
        "id": "z-FgqKt00MUA",
        "outputId": "daa8c7df-a146-497e-9870-6c8769aca639"
      },
      "outputs": [
        {
          "name": "stdout",
          "output_type": "stream",
          "text": [
            "❗ The implementation is incorrect or the exercise was not implemented.\n"
          ]
        }
      ],
      "source": [
        "# Join DataFrames `df_main` and `df_additional` using an inner join, saving the result in `joined_inner`.\n",
        "@check_pandas_45\n",
        "def pandas_45(df_main, df_additional):\n",
        "    # This line is mandatory and should not be removed.\n",
        "    ex_stat_init = True\n",
        "\n",
        "    # BELOW GOES YOUR CODE\n",
        "\n",
        "    # ABOVE GOES YOUR CODE\n",
        "    return {\"joined_inner\": joined_inner}\n",
        "\n",
        "pandas_45()"
      ]
    },
    {
      "cell_type": "code",
      "execution_count": null,
      "metadata": {
        "id": "0j-faD_R0MUA",
        "outputId": "4c64c14a-c6b5-4b9e-cbb1-c3640e53fa18"
      },
      "outputs": [
        {
          "name": "stdout",
          "output_type": "stream",
          "text": [
            "❗ The implementation is incorrect or the exercise was not implemented.\n"
          ]
        }
      ],
      "source": [
        "# Conduct a left join on DataFrames `df_sales_main` and `df_sales_region` on 'RegionID', storing it as `joined_left`.\n",
        "@check_pandas_46\n",
        "def pandas_46(df_sales_main, df_sales_region):\n",
        "    # This line is mandatory and should not be removed.\n",
        "    ex_stat_init = True\n",
        "\n",
        "    # BELOW GOES YOUR CODE\n",
        "\n",
        "    # ABOVE GOES YOUR CODE\n",
        "    return {\"joined_left\": joined_left}\n",
        "\n",
        "pandas_46()"
      ]
    },
    {
      "cell_type": "code",
      "execution_count": null,
      "metadata": {
        "id": "rXe_auUq0MUA",
        "outputId": "18c9058a-4cc4-44c4-8fd9-227b812f6f7e"
      },
      "outputs": [
        {
          "name": "stdout",
          "output_type": "stream",
          "text": [
            "❗ The implementation is incorrect or the exercise was not implemented.\n"
          ]
        }
      ],
      "source": [
        "# Group DataFrame `df_employee` by 'Department', calculating the average 'Salary' for each group and saving it as `avg_salary_by_department`.\n",
        "@check_pandas_47\n",
        "def pandas_47(df_employee):\n",
        "    # This line is mandatory and should not be removed.\n",
        "    ex_stat_init = True\n",
        "\n",
        "    # BELOW GOES YOUR CODE\n",
        "\n",
        "    # ABOVE GOES YOUR CODE\n",
        "    return {\"avg_salary_by_department\": avg_salary_by_department}\n",
        "\n",
        "pandas_47()"
      ]
    },
    {
      "cell_type": "code",
      "execution_count": null,
      "metadata": {
        "id": "VqL7F13-0MUA",
        "outputId": "262b4518-1ba5-4a2e-be30-8401a40d0764"
      },
      "outputs": [
        {
          "name": "stdout",
          "output_type": "stream",
          "text": [
            "❗ The implementation is incorrect or the exercise was not implemented.\n"
          ]
        }
      ],
      "source": [
        "# Pivot DataFrame `df_orders` with 'OrderID' as index, 'Category' as columns, and 'Amount' as values, resulting in `pivoted_orders`.\n",
        "@check_pandas_48\n",
        "def pandas_48(df_orders):\n",
        "    # This line is mandatory and should not be removed.\n",
        "    ex_stat_init = True\n",
        "\n",
        "    # BELOW GOES YOUR CODE\n",
        "\n",
        "    # ABOVE GOES YOUR CODE\n",
        "    return {\"pivoted_orders\": pivoted_orders}\n",
        "\n",
        "pandas_48()"
      ]
    },
    {
      "cell_type": "code",
      "execution_count": null,
      "metadata": {
        "id": "M4tKnWAK0MUB",
        "outputId": "5438aab7-5b67-42e1-919c-37e7d2aff0c4"
      },
      "outputs": [
        {
          "name": "stdout",
          "output_type": "stream",
          "text": [
            "❗ The implementation is incorrect or the exercise was not implemented.\n"
          ]
        }
      ],
      "source": [
        "# Utilize crosstab to get a frequency table of 'Region' and 'ProductType' categories from `df_business`, storing the result as `region_product_crosstab`.\n",
        "@check_pandas_49\n",
        "def pandas_49(df_business):\n",
        "    # This line is mandatory and should not be removed.\n",
        "    ex_stat_init = True\n",
        "\n",
        "    # BELOW GOES YOUR CODE\n",
        "\n",
        "    # ABOVE GOES YOUR CODE\n",
        "    return {\"region_product_crosstab\": region_product_crosstab}\n",
        "\n",
        "pandas_49()"
      ]
    },
    {
      "cell_type": "code",
      "execution_count": null,
      "metadata": {
        "id": "M2bpvafC0MUB",
        "outputId": "6dd881f4-497d-4898-b07a-898d9cda4dab"
      },
      "outputs": [
        {
          "name": "stdout",
          "output_type": "stream",
          "text": [
            "❗ The implementation is incorrect or the exercise was not implemented.\n"
          ]
        }
      ],
      "source": [
        "# Reshape DataFrame `df_energy` from wide to long format using melt, and store the result in `melted_energy`.\n",
        "@check_pandas_50\n",
        "def pandas_50(df_energy):\n",
        "    # This line is mandatory and should not be removed.\n",
        "    ex_stat_init = True\n",
        "\n",
        "    # BELOW GOES YOUR CODE\n",
        "\n",
        "    # ABOVE GOES YOUR CODE\n",
        "    return {\"melted_energy\": melted_energy}\n",
        "\n",
        "pandas_50()"
      ]
    },
    {
      "cell_type": "code",
      "execution_count": null,
      "metadata": {
        "id": "EUEfinrg0MUB",
        "outputId": "8a7b2dff-787f-4a45-b25c-074018d27eff"
      },
      "outputs": [
        {
          "name": "stdout",
          "output_type": "stream",
          "text": [
            "❗ The implementation is incorrect or the exercise was not implemented.\n"
          ]
        }
      ],
      "source": [
        "# Using DataFrame `df_product_sales`, change its structure by applying a pivot operation with 'ProductID' being the index, columns as 'Month', and 'Sales' as values, storing the result in `pivoted_sales`.\n",
        "@check_pandas_51\n",
        "def pandas_51(df_product_sales):\n",
        "    # This line is mandatory and should not be removed.\n",
        "    ex_stat_init = True\n",
        "\n",
        "    # BELOW GOES YOUR CODE\n",
        "\n",
        "    # ABOVE GOES YOUR CODE\n",
        "    return {\"pivoted_sales\": pivoted_sales}\n",
        "\n",
        "pandas_51()"
      ]
    },
    {
      "cell_type": "code",
      "execution_count": null,
      "metadata": {
        "id": "LsttvfDd0MUC",
        "outputId": "5865b22d-2e31-41bd-e690-79324690e8db"
      },
      "outputs": [
        {
          "name": "stdout",
          "output_type": "stream",
          "text": [
            "❗ The implementation is incorrect or the exercise was not implemented.\n"
          ]
        }
      ],
      "source": [
        "# Create a pandas DataFrame `df_date_range` using a date range starting from '2022-01-01' to '2023-01-01', frequency of 'MS', with columns ['Sales', 'Profit'] filled with zeros.\n",
        "@check_pandas_52\n",
        "def pandas_52():\n",
        "    # This line is mandatory and should not be removed.\n",
        "    ex_stat_init = True\n",
        "\n",
        "    # BELOW GOES YOUR CODE\n",
        "\n",
        "    # ABOVE GOES YOUR CODE\n",
        "    return {\"df_date_range\": df_date_range}\n",
        "\n",
        "pandas_52()"
      ]
    },
    {
      "cell_type": "code",
      "execution_count": null,
      "metadata": {
        "id": "ZtlPQ4in0MUD",
        "outputId": "941f974f-d745-4ec1-8cc6-063cf640a5cf"
      },
      "outputs": [
        {
          "name": "stdout",
          "output_type": "stream",
          "text": [
            "❗ The implementation is incorrect or the exercise was not implemented.\n"
          ]
        }
      ],
      "source": [
        "# Extract the year and month for each entry in DataFrame `df_date_series` with a DateTimeIndex, storing them in `years` and `months` respectively.\n",
        "@check_pandas_53\n",
        "def pandas_53(df_date_series):\n",
        "    # This line is mandatory and should not be removed.\n",
        "    ex_stat_init = True\n",
        "\n",
        "    # BELOW GOES YOUR CODE\n",
        "\n",
        "    # ABOVE GOES YOUR CODE\n",
        "    return {\"years\": years, \"months\": months}\n",
        "\n",
        "pandas_53()"
      ]
    },
    {
      "cell_type": "code",
      "execution_count": null,
      "metadata": {
        "id": "DjIiR-B40MUD",
        "outputId": "0d8bc09f-7f91-49a6-eb58-015544d89a20"
      },
      "outputs": [
        {
          "name": "stdout",
          "output_type": "stream",
          "text": [
            "❗ The implementation is incorrect or the exercise was not implemented.\n"
          ]
        }
      ],
      "source": [
        "# Resample DataFrame `df_time_series` to quarterly frequency, taking the sum, and store the resulting series in `quarterly_series`.\n",
        "@check_pandas_54\n",
        "def pandas_54(df_time_series):\n",
        "    # This line is mandatory and should not be removed.\n",
        "    ex_stat_init = True\n",
        "\n",
        "    # BELOW GOES YOUR CODE\n",
        "\n",
        "    # ABOVE GOES YOUR CODE\n",
        "    return {\"quarterly_series\": quarterly_series}\n",
        "\n",
        "pandas_54()"
      ]
    },
    {
      "cell_type": "code",
      "execution_count": null,
      "metadata": {
        "id": "1IQ5Ll6g0MUD",
        "outputId": "22bbc037-eb5a-4f1c-ff7e-1d0b2c950f35"
      },
      "outputs": [
        {
          "name": "stdout",
          "output_type": "stream",
          "text": [
            "❗ The implementation is incorrect or the exercise was not implemented.\n"
          ]
        }
      ],
      "source": [
        "# Apply a rolling window of 7 days for the DataFrame `df_metrics`, and calculate the mean, storing it in `rolling_mean_metrics`.\n",
        "@check_pandas_55\n",
        "def pandas_55(df_metrics):\n",
        "    # This line is mandatory and should not be removed.\n",
        "    ex_stat_init = True\n",
        "\n",
        "    # BELOW GOES YOUR CODE\n",
        "\n",
        "    # ABOVE GOES YOUR CODE\n",
        "    return {\"rolling_mean_metrics\": rolling_mean_metrics}\n",
        "\n",
        "pandas_55()"
      ]
    },
    {
      "cell_type": "code",
      "execution_count": null,
      "metadata": {
        "id": "lkJWZoxX0MUE",
        "outputId": "a552784d-953e-4e45-88f7-47abf94c389b"
      },
      "outputs": [
        {
          "name": "stdout",
          "output_type": "stream",
          "text": [
            "❗ The implementation is incorrect or the exercise was not implemented.\n"
          ]
        }
      ],
      "source": [
        "# Apply the function `np.log1p` to the column 'Revenue' in DataFrame `df_financial_data`, storing the updated data in `logged_df`.\n",
        "@check_pandas_56\n",
        "def pandas_56(df_financial_data):\n",
        "    # This line is mandatory and should not be removed.\n",
        "    ex_stat_init = True\n",
        "\n",
        "    # BELOW GOES YOUR CODE\n",
        "\n",
        "    # ABOVE GOES YOUR CODE\n",
        "    return {\"logged_df\": logged_df}\n",
        "\n",
        "pandas_56()"
      ]
    },
    {
      "cell_type": "code",
      "execution_count": null,
      "metadata": {
        "id": "Yx8C94mS0MUE",
        "outputId": "ea53babe-8749-4178-c20d-0c343b884aac"
      },
      "outputs": [
        {
          "name": "stdout",
          "output_type": "stream",
          "text": [
            "❗ The implementation is incorrect or the exercise was not implemented.\n"
          ]
        }
      ],
      "source": [
        "# Optimize memory usage of DataFrame `df_large` by converting column 'ID' to int32 and store as `optimized_df`.\n",
        "@check_pandas_57\n",
        "def pandas_57(df_large):\n",
        "    # This line is mandatory and should not be removed.\n",
        "    ex_stat_init = True\n",
        "\n",
        "    # BELOW GOES YOUR CODE\n",
        "\n",
        "    # ABOVE GOES YOUR CODE\n",
        "    return {\"optimized_df\": optimized_df}\n",
        "\n",
        "pandas_57()"
      ]
    },
    {
      "cell_type": "code",
      "execution_count": null,
      "metadata": {
        "id": "EwARiXFe0MUF",
        "outputId": "0e20effa-3ddd-4a21-c4b3-86601f9ac60a"
      },
      "outputs": [
        {
          "name": "stdout",
          "output_type": "stream",
          "text": [
            "❗ The implementation is incorrect or the exercise was not implemented.\n"
          ]
        }
      ],
      "source": [
        "# Convert data types of 'Price' in DataFrame `df_items` from float64 to float32 for memory efficiency, saving the result as `optimized_items`.\n",
        "@check_pandas_58\n",
        "def pandas_58(df_items):\n",
        "    # This line is mandatory and should not be removed.\n",
        "    ex_stat_init = True\n",
        "\n",
        "    # BELOW GOES YOUR CODE\n",
        "\n",
        "    # ABOVE GOES YOUR CODE\n",
        "    return {\"optimized_items\": optimized_items}\n",
        "\n",
        "pandas_58()"
      ]
    },
    {
      "cell_type": "code",
      "execution_count": null,
      "metadata": {
        "id": "cTK-HU5m0MUF",
        "outputId": "fdd1fa9e-56be-40c6-c858-452dd2361bc0"
      },
      "outputs": [
        {
          "name": "stdout",
          "output_type": "stream",
          "text": [
            "❗ The implementation is incorrect or the exercise was not implemented.\n"
          ]
        }
      ],
      "source": [
        "# Remove duplicate entries from DataFrame `df_database` and store the cleaned DataFrame as `unique_database`.\n",
        "@check_pandas_59\n",
        "def pandas_59(df_database):\n",
        "    # This line is mandatory and should not be removed.\n",
        "    ex_stat_init = True\n",
        "\n",
        "    # BELOW GOES YOUR CODE\n",
        "\n",
        "    # ABOVE GOES YOUR CODE\n",
        "    return {\"unique_database\": unique_database}\n",
        "\n",
        "pandas_59()"
      ]
    },
    {
      "cell_type": "code",
      "execution_count": null,
      "metadata": {
        "id": "VGQJ6GVi0MUF",
        "outputId": "0eeacc56-0821-45b3-e961-ac1e0edeab89"
      },
      "outputs": [
        {
          "name": "stdout",
          "output_type": "stream",
          "text": [
            "❗ The implementation is incorrect or the exercise was not implemented.\n"
          ]
        }
      ],
      "source": [
        "# Perform string operation by converting all entries in the 'Names' column of `df_attendees` to uppercase, storing the resulting DataFrame as `uppercase_attendees`.\n",
        "@check_pandas_60\n",
        "def pandas_60(df_attendees):\n",
        "    # This line is mandatory and should not be removed.\n",
        "    ex_stat_init = True\n",
        "\n",
        "    # BELOW GOES YOUR CODE\n",
        "\n",
        "    # ABOVE GOES YOUR CODE\n",
        "    return {\"uppercase_attendees\": uppercase_attendees}\n",
        "\n",
        "pandas_60()"
      ]
    },
    {
      "cell_type": "code",
      "execution_count": null,
      "metadata": {
        "id": "c927jqYF0MUG",
        "outputId": "558104ea-19f7-4a4f-fa42-25139d49fff5"
      },
      "outputs": [
        {
          "name": "stdout",
          "output_type": "stream",
          "text": [
            "❗ The implementation is incorrect or the exercise was not implemented.\n"
          ]
        }
      ],
      "source": [
        "# Select rows from DataFrame `df_students` using the query method to find students with 'Score' greater than 85, storing the result as `high_scorers`.\n",
        "@check_pandas_61\n",
        "def pandas_61(df_students):\n",
        "    # This line is mandatory and should not be removed.\n",
        "    ex_stat_init = True\n",
        "\n",
        "    # BELOW GOES YOUR CODE\n",
        "\n",
        "    # ABOVE GOES YOUR CODE\n",
        "    return {\"high_scorers\": high_scorers}\n",
        "\n",
        "pandas_61()"
      ]
    },
    {
      "cell_type": "code",
      "execution_count": null,
      "metadata": {
        "id": "Ish-GShG0MUG",
        "outputId": "182e1310-be03-4479-e699-80b4f7b1a3a9"
      },
      "outputs": [
        {
          "name": "stdout",
          "output_type": "stream",
          "text": [
            "❗ The implementation is incorrect or the exercise was not implemented.\n"
          ]
        }
      ],
      "source": [
        "# In DataFrame `df_results`, group by 'Team', apply custom function to rank 'Score' in descending order, and store the result in `ranked_teams`.\n",
        "@check_pandas_62\n",
        "def pandas_62(df_results):\n",
        "    # This line is mandatory and should not be removed.\n",
        "    ex_stat_init = True\n",
        "\n",
        "    # BELOW GOES YOUR CODE\n",
        "\n",
        "    # ABOVE GOES YOUR CODE\n",
        "    return {\"ranked_teams\": ranked_teams}\n",
        "\n",
        "pandas_62()"
      ]
    },
    {
      "cell_type": "code",
      "execution_count": null,
      "metadata": {
        "id": "n1YIkWS70MUG",
        "outputId": "1206c3df-93c4-4f95-b073-d5b510c85056"
      },
      "outputs": [
        {
          "name": "stdout",
          "output_type": "stream",
          "text": [
            "❗ The implementation is incorrect or the exercise was not implemented.\n"
          ]
        }
      ],
      "source": [
        "# Perform a aggregation on DataFrame `df_data_group` for 'City' using a custom function that finds the range of 'Temperature', storing as `temperature_range`.\n",
        "@check_pandas_63\n",
        "def pandas_63(df_data_group):\n",
        "    # This line is mandatory and should not be removed.\n",
        "    ex_stat_init = True\n",
        "\n",
        "    # BELOW GOES YOUR CODE\n",
        "\n",
        "    # ABOVE GOES YOUR CODE\n",
        "    return {\"temperature_range\": temperature_range}\n",
        "\n",
        "pandas_63()"
      ]
    },
    {
      "cell_type": "code",
      "execution_count": null,
      "metadata": {
        "id": "CulKDJ9a0MUH",
        "outputId": "9752e7f4-bbe5-4e79-c7b9-227cb22c4025"
      },
      "outputs": [
        {
          "name": "stdout",
          "output_type": "stream",
          "text": [
            "❗ The implementation is incorrect or the exercise was not implemented.\n"
          ]
        }
      ],
      "source": [
        "# Use vectorized operations to add 10 to every element in DataFrame `df_numeric`, saving the result as `adjusted_numeric`.\n",
        "@check_pandas_64\n",
        "def pandas_64(df_numeric):\n",
        "    # This line is mandatory and should not be removed.\n",
        "    ex_stat_init = True\n",
        "\n",
        "    # BELOW GOES YOUR CODE\n",
        "\n",
        "    # ABOVE GOES YOUR CODE\n",
        "    return {\"adjusted_numeric\": adjusted_numeric}\n",
        "\n",
        "pandas_64()"
      ]
    },
    {
      "cell_type": "code",
      "execution_count": null,
      "metadata": {
        "id": "XZIAJLew0MUH",
        "outputId": "9a4013dc-d45c-4296-b81e-b87d053517e3"
      },
      "outputs": [
        {
          "name": "stdout",
          "output_type": "stream",
          "text": [
            "❗ The implementation is incorrect or the exercise was not implemented.\n"
          ]
        }
      ],
      "source": [
        "# Process DataFrame `df_sales_timezones` to convert the 'Timestamp' to a timezone-aware datetime, setting the timezone to 'UTC', and save as `timezone_aware_sales`.\n",
        "@check_pandas_65\n",
        "def pandas_65(df_sales_timezones):\n",
        "    # This line is mandatory and should not be removed.\n",
        "    ex_stat_init = True\n",
        "\n",
        "    # BELOW GOES YOUR CODE\n",
        "\n",
        "    # ABOVE GOES YOUR CODE\n",
        "    return {\"timezone_aware_sales\": timezone_aware_sales}\n",
        "\n",
        "pandas_65()"
      ]
    },
    {
      "cell_type": "code",
      "execution_count": null,
      "metadata": {
        "id": "AqlpWE310MUH",
        "outputId": "ca0188ec-202f-4f70-e239-45d15c9201ed"
      },
      "outputs": [
        {
          "name": "stdout",
          "output_type": "stream",
          "text": [
            "❗ The implementation is incorrect or the exercise was not implemented.\n"
          ]
        }
      ],
      "source": [
        "# Create a pandas DataFrame `df_customer_reviews` from a JSON string `json_input_string`.\n",
        "@check_pandas_66\n",
        "def pandas_66(json_input_string):\n",
        "    # This line is mandatory and should not be removed.\n",
        "    ex_stat_init = True\n",
        "\n",
        "    # BELOW GOES YOUR CODE\n",
        "\n",
        "    # ABOVE GOES YOUR CODE\n",
        "    return {\"df_customer_reviews\": df_customer_reviews}\n",
        "\n",
        "pandas_66()"
      ]
    },
    {
      "cell_type": "code",
      "execution_count": null,
      "metadata": {
        "id": "MrNxBY7y0MUI",
        "outputId": "523d7134-f9aa-4324-8baa-cb15c3acf299"
      },
      "outputs": [
        {
          "name": "stdout",
          "output_type": "stream",
          "text": [
            "❗ The implementation is incorrect or the exercise was not implemented.\n"
          ]
        }
      ],
      "source": [
        "# Given a pandas Series `series_temp_investments`, access specific elements from custom indices ['A1', 'B2', 'C3'] and save them to `selected_investments`.\n",
        "@check_pandas_67\n",
        "def pandas_67(series_temp_investments):\n",
        "    # This line is mandatory and should not be removed.\n",
        "    ex_stat_init = True\n",
        "\n",
        "    # BELOW GOES YOUR CODE\n",
        "\n",
        "    # ABOVE GOES YOUR CODE\n",
        "    return {\"selected_investments\": selected_investments}\n",
        "\n",
        "pandas_67()"
      ]
    },
    {
      "cell_type": "code",
      "execution_count": null,
      "metadata": {
        "id": "PdOqnXTf0MUI",
        "outputId": "bdda0f91-a9e9-40f8-dd72-c9e673c77b28"
      },
      "outputs": [
        {
          "name": "stdout",
          "output_type": "stream",
          "text": [
            "❗ The implementation is incorrect or the exercise was not implemented.\n"
          ]
        }
      ],
      "source": [
        "# Slice pandas Series `series_temp_readings` to return every second element, storing the result in `temp_slice_even`.\n",
        "@check_pandas_68\n",
        "def pandas_68(series_temp_readings):\n",
        "    # This line is mandatory and should not be removed.\n",
        "    ex_stat_init = True\n",
        "\n",
        "    # BELOW GOES YOUR CODE\n",
        "\n",
        "    # ABOVE GOES YOUR CODE\n",
        "    return {\"temp_slice_even\": temp_slice_even}\n",
        "\n",
        "pandas_68()"
      ]
    },
    {
      "cell_type": "code",
      "execution_count": null,
      "metadata": {
        "id": "__HfInvy0MUI",
        "outputId": "eef9e486-72f6-4abb-a50f-573b0b08ff3b"
      },
      "outputs": [
        {
          "name": "stdout",
          "output_type": "stream",
          "text": [
            "❗ The implementation is incorrect or the exercise was not implemented.\n"
          ]
        }
      ],
      "source": [
        "# From a list of dictionaries `sensor_data_list`, create a DataFrame named `df_sensor_readings` with custom column names ['SensorID', 'Temperature', 'Humidity'].\n",
        "@check_pandas_69\n",
        "def pandas_69(sensor_data_list):\n",
        "    # This line is mandatory and should not be removed.\n",
        "    ex_stat_init = True\n",
        "\n",
        "    # BELOW GOES YOUR CODE\n",
        "\n",
        "    # ABOVE GOES YOUR CODE\n",
        "    return {\"df_sensor_readings\": df_sensor_readings}\n",
        "\n",
        "pandas_69()"
      ]
    },
    {
      "cell_type": "code",
      "execution_count": null,
      "metadata": {
        "id": "bSLzu0OO0MUJ",
        "outputId": "fc011b06-57f8-4f95-d42e-14704e48430b"
      },
      "outputs": [
        {
          "name": "stdout",
          "output_type": "stream",
          "text": [
            "❗ The implementation is incorrect or the exercise was not implemented.\n"
          ]
        }
      ],
      "source": [
        "# Access and display the first 10 elements of Series `series_large_dataset`, storing them in `top_ten_elements`.\n",
        "@check_pandas_70\n",
        "def pandas_70(series_large_dataset):\n",
        "    # This line is mandatory and should not be removed.\n",
        "    ex_stat_init = True\n",
        "\n",
        "    # BELOW GOES YOUR CODE\n",
        "\n",
        "    # ABOVE GOES YOUR CODE\n",
        "    return {\"top_ten_elements\": top_ten_elements}\n",
        "\n",
        "pandas_70()"
      ]
    },
    {
      "cell_type": "code",
      "execution_count": null,
      "metadata": {
        "id": "N9LHsOzy0MUJ",
        "outputId": "24eae48c-853c-4f16-d1e2-efd245be9a02"
      },
      "outputs": [
        {
          "name": "stdout",
          "output_type": "stream",
          "text": [
            "❗ The implementation is incorrect or the exercise was not implemented.\n"
          ]
        }
      ],
      "source": [
        "# Use the DataFrame `df_population_data` to extract and store the indices in a variable `population_indices`.\n",
        "@check_pandas_71\n",
        "def pandas_71(df_population_data):\n",
        "    # This line is mandatory and should not be removed.\n",
        "    ex_stat_init = True\n",
        "\n",
        "    # BELOW GOES YOUR CODE\n",
        "\n",
        "    # ABOVE GOES YOUR CODE\n",
        "    return {\"population_indices\": population_indices}\n",
        "\n",
        "pandas_71()"
      ]
    },
    {
      "cell_type": "code",
      "execution_count": null,
      "metadata": {
        "id": "DflyYCjM0MUK",
        "outputId": "3d2dac43-f8ef-4e4a-d278-eda121ce861d"
      },
      "outputs": [
        {
          "name": "stdout",
          "output_type": "stream",
          "text": [
            "❗ The implementation is incorrect or the exercise was not implemented.\n"
          ]
        }
      ],
      "source": [
        "# Combine DataFrames `df_financial_2021` and `df_financial_2020` vertically, so that rows from 2021 follow those of 2020, storing result in `combined_financials`.\n",
        "@check_pandas_72\n",
        "def pandas_72(df_financial_2021, df_financial_2020):\n",
        "    # This line is mandatory and should not be removed.\n",
        "    ex_stat_init = True\n",
        "\n",
        "    # BELOW GOES YOUR CODE\n",
        "\n",
        "    # ABOVE GOES YOUR CODE\n",
        "    return {\"combined_financials\": combined_financials}\n",
        "\n",
        "pandas_72()"
      ]
    },
    {
      "cell_type": "code",
      "execution_count": null,
      "metadata": {
        "id": "QMTqR7m40MUK",
        "outputId": "fa583ec8-3b7e-4b73-83dc-d88e21caa908"
      },
      "outputs": [
        {
          "name": "stdout",
          "output_type": "stream",
          "text": [
            "❗ The implementation is incorrect or the exercise was not implemented.\n"
          ]
        }
      ],
      "source": [
        "# Merge DataFrames `df_clients` and `df_orders` with a common key 'ClientID' using the 'inner' join method, and save the result as `client_orders`.\n",
        "@check_pandas_73\n",
        "def pandas_73(df_clients, df_orders):\n",
        "    # This line is mandatory and should not be removed.\n",
        "    ex_stat_init = True\n",
        "\n",
        "    # BELOW GOES YOUR CODE\n",
        "\n",
        "    # ABOVE GOES YOUR CODE\n",
        "    return {\"client_orders\": client_orders}\n",
        "\n",
        "pandas_73()"
      ]
    },
    {
      "cell_type": "code",
      "execution_count": null,
      "metadata": {
        "id": "ouJIO8xq0MUK",
        "outputId": "627f7fdc-c46a-411a-e79e-7258a5cd566e"
      },
      "outputs": [
        {
          "name": "stdout",
          "output_type": "stream",
          "text": [
            "❗ The implementation is incorrect or the exercise was not implemented.\n"
          ]
        }
      ],
      "source": [
        "# From DataFrame `df_commodity_prices`, locate the element where 'Commodity' is 'Gold' and 'PriceDate' is '2023-06-01', storing it in `gold_price`.\n",
        "@check_pandas_74\n",
        "def pandas_74(df_commodity_prices):\n",
        "    # This line is mandatory and should not be removed.\n",
        "    ex_stat_init = True\n",
        "\n",
        "    # BELOW GOES YOUR CODE\n",
        "\n",
        "    # ABOVE GOES YOUR CODE\n",
        "    return {\"gold_price\": gold_price}\n",
        "\n",
        "pandas_74()"
      ]
    },
    {
      "cell_type": "code",
      "execution_count": null,
      "metadata": {
        "id": "54GkwF6g0MUL",
        "outputId": "b6b08937-b2a8-4d1f-a80d-bd1796eac133"
      },
      "outputs": [
        {
          "name": "stdout",
          "output_type": "stream",
          "text": [
            "❗ The implementation is incorrect or the exercise was not implemented.\n"
          ]
        }
      ],
      "source": [
        "# Use boolean indexing on DataFrame `df_sales_performance` to extract rows where 'Quarter' is Q1 and 'Year' >= 2022, saving the result in `performance_q1_2022`.\n",
        "@check_pandas_75\n",
        "def pandas_75(df_sales_performance):\n",
        "    # This line is mandatory and should not be removed.\n",
        "    ex_stat_init = True\n",
        "\n",
        "    # BELOW GOES YOUR CODE\n",
        "\n",
        "    # ABOVE GOES YOUR CODE\n",
        "    return {\"performance_q1_2022\": performance_q1_2022}\n",
        "\n",
        "pandas_75()"
      ]
    },
    {
      "cell_type": "code",
      "execution_count": null,
      "metadata": {
        "id": "oRjTjbep0MUM",
        "outputId": "7fb341a9-0586-4bcd-8a92-c198a76d4f5e"
      },
      "outputs": [
        {
          "name": "stdout",
          "output_type": "stream",
          "text": [
            "❗ The implementation is incorrect or the exercise was not implemented.\n"
          ]
        }
      ],
      "source": [
        "# Slice DataFrame `df_international_customers` to include rows 'France' to 'Italy' using their index labels and save it in `european_customers`.\n",
        "@check_pandas_76\n",
        "def pandas_76(df_international_customers):\n",
        "    # This line is mandatory and should not be removed.\n",
        "    ex_stat_init = True\n",
        "\n",
        "    # BELOW GOES YOUR CODE\n",
        "\n",
        "    # ABOVE GOES YOUR CODE\n",
        "    return {\"european_customers\": european_customers}\n",
        "\n",
        "pandas_76()"
      ]
    },
    {
      "cell_type": "code",
      "execution_count": null,
      "metadata": {
        "id": "e1ayPJ8H0MUO",
        "outputId": "d1288b32-54b9-442f-e223-6e95afc3f9b3"
      },
      "outputs": [
        {
          "name": "stdout",
          "output_type": "stream",
          "text": [
            "❗ The implementation is incorrect or the exercise was not implemented.\n"
          ]
        }
      ],
      "source": [
        "# Modify DataFrame `df_shipping_list` by setting the 'CollectionDate' column of all rows before '2023-08-01' to NaT, storing the modified DataFrame as `adjusted_shipping`.\n",
        "@check_pandas_77\n",
        "def pandas_77(df_shipping_list):\n",
        "    # This line is mandatory and should not be removed.\n",
        "    ex_stat_init = True\n",
        "\n",
        "    # BELOW GOES YOUR CODE\n",
        "\n",
        "    # ABOVE GOES YOUR CODE\n",
        "    return {\"adjusted_shipping\": adjusted_shipping}\n",
        "\n",
        "pandas_77()"
      ]
    },
    {
      "cell_type": "code",
      "execution_count": null,
      "metadata": {
        "id": "ZNdLIJgi0MUP",
        "outputId": "65a812ee-995a-4812-a4a2-db0316c6e35f"
      },
      "outputs": [
        {
          "name": "stdout",
          "output_type": "stream",
          "text": [
            "❗ The implementation is incorrect or the exercise was not implemented.\n"
          ]
        }
      ],
      "source": [
        "# Merge DataFrames `df_employee_roles` and `df_role_salaries` on 'RoleID', performing a left merge and storing result as `employee_salary_details`.\n",
        "@check_pandas_78\n",
        "def pandas_78(df_employee_roles, df_role_salaries):\n",
        "    # This line is mandatory and should not be removed.\n",
        "    ex_stat_init = True\n",
        "\n",
        "    # BELOW GOES YOUR CODE\n",
        "\n",
        "    # ABOVE GOES YOUR CODE\n",
        "    return {\"employee_salary_details\": employee_salary_details}\n",
        "\n",
        "pandas_78()"
      ]
    },
    {
      "cell_type": "code",
      "execution_count": null,
      "metadata": {
        "id": "lX9T7M8W0MUQ",
        "outputId": "6f06923c-7c72-42a7-ca3d-1b517d77cd3f"
      },
      "outputs": [
        {
          "name": "stdout",
          "output_type": "stream",
          "text": [
            "❗ The implementation is incorrect or the exercise was not implemented.\n"
          ]
        }
      ],
      "source": [
        "# Group DataFrame `df_class_scores` by 'Class' and calculate the maximum 'Score' for each class, saving the result as `max_class_scores`.\n",
        "@check_pandas_79\n",
        "def pandas_79(df_class_scores):\n",
        "    # This line is mandatory and should not be removed.\n",
        "    ex_stat_init = True\n",
        "\n",
        "    # BELOW GOES YOUR CODE\n",
        "\n",
        "    # ABOVE GOES YOUR CODE\n",
        "    return {\"max_class_scores\": max_class_scores}\n",
        "\n",
        "pandas_79()"
      ]
    },
    {
      "cell_type": "code",
      "execution_count": null,
      "metadata": {
        "id": "kuc1jJSd0MUQ",
        "outputId": "a0481b68-e806-4a98-bc85-f49b014ea593"
      },
      "outputs": [
        {
          "name": "stdout",
          "output_type": "stream",
          "text": [
            "❗ The implementation is incorrect or the exercise was not implemented.\n"
          ]
        }
      ],
      "source": [
        "# Pivot DataFrame `df_sales_regions` with 'Region' as rows and 'Quarter' as columns, aggregating 'Sales' values, into `sales_pivot`.\n",
        "@check_pandas_80\n",
        "def pandas_80(df_sales_regions):\n",
        "    # This line is mandatory and should not be removed.\n",
        "    ex_stat_init = True\n",
        "\n",
        "    # BELOW GOES YOUR CODE\n",
        "\n",
        "    # ABOVE GOES YOUR CODE\n",
        "    return {\"sales_pivot\": sales_pivot}\n",
        "\n",
        "pandas_80()"
      ]
    },
    {
      "cell_type": "code",
      "execution_count": null,
      "metadata": {
        "id": "gSSUBqg00MUR",
        "outputId": "05af04ee-9dd1-4302-d297-45802b7ce6af"
      },
      "outputs": [
        {
          "name": "stdout",
          "output_type": "stream",
          "text": [
            "❗ The implementation is incorrect or the exercise was not implemented.\n"
          ]
        }
      ],
      "source": [
        "# Utilize a crosstab of 'CustomerType' and 'Region' from DataFrame `df_customer_data`, storing the result as `customer_region_crosstab`.\n",
        "@check_pandas_81\n",
        "def pandas_81(df_customer_data):\n",
        "    # This line is mandatory and should not be removed.\n",
        "    ex_stat_init = True\n",
        "\n",
        "    # BELOW GOES YOUR CODE\n",
        "\n",
        "    # ABOVE GOES YOUR CODE\n",
        "    return {\"customer_region_crosstab\": customer_region_crosstab}\n",
        "\n",
        "pandas_81()"
      ]
    },
    {
      "cell_type": "code",
      "execution_count": null,
      "metadata": {
        "id": "IycXFl_h0MUR",
        "outputId": "7e4cd6fd-5ad4-4960-c493-469f203a1e9f"
      },
      "outputs": [
        {
          "name": "stdout",
          "output_type": "stream",
          "text": [
            "❗ The implementation is incorrect or the exercise was not implemented.\n"
          ]
        }
      ],
      "source": [
        "# Reshape DataFrame `df_expenses` to long format, using melt function, resulting in `melted_expenses`.\n",
        "@check_pandas_82\n",
        "def pandas_82(df_expenses):\n",
        "    # This line is mandatory and should not be removed.\n",
        "    ex_stat_init = True\n",
        "\n",
        "    # BELOW GOES YOUR CODE\n",
        "\n",
        "    # ABOVE GOES YOUR CODE\n",
        "    return {\"melted_expenses\": melted_expenses}\n",
        "\n",
        "pandas_82()"
      ]
    },
    {
      "cell_type": "code",
      "execution_count": null,
      "metadata": {
        "id": "gBaXmgGl0MUS",
        "outputId": "e1c7407a-2079-4d20-d414-ff7dcc08d4d1"
      },
      "outputs": [
        {
          "name": "stdout",
          "output_type": "stream",
          "text": [
            "❗ The implementation is incorrect or the exercise was not implemented.\n"
          ]
        }
      ],
      "source": [
        "# Use a pivot_table on DataFrame `df_contact_events` with 'ContactID' as index, 'EventType' as columns, and 'EventTimestamp' as values, stored in `pivoted_events`.\n",
        "@check_pandas_83\n",
        "def pandas_83(df_contact_events):\n",
        "    # This line is mandatory and should not be removed.\n",
        "    ex_stat_init = True\n",
        "\n",
        "    # BELOW GOES YOUR CODE\n",
        "\n",
        "    # ABOVE GOES YOUR CODE\n",
        "    return {\"pivoted_events\": pivoted_events}\n",
        "\n",
        "pandas_83()"
      ]
    },
    {
      "cell_type": "code",
      "execution_count": null,
      "metadata": {
        "id": "JBHpA19M0MUT",
        "outputId": "e064e5d7-20af-4a82-f24a-161dbab5873d"
      },
      "outputs": [
        {
          "name": "stdout",
          "output_type": "stream",
          "text": [
            "❗ The implementation is incorrect or the exercise was not implemented.\n"
          ]
        }
      ],
      "source": [
        "# Create DataFrame `df_time_events` using a DateTimeIndex from a 'start' of '2023-01-01', 'end' of '2023-12-31', and a daily frequency.\n",
        "@check_pandas_84\n",
        "def pandas_84():\n",
        "    # This line is mandatory and should not be removed.\n",
        "    ex_stat_init = True\n",
        "\n",
        "    # BELOW GOES YOUR CODE\n",
        "\n",
        "    # ABOVE GOES YOUR CODE\n",
        "    return {\"df_time_events\": df_time_events}\n",
        "\n",
        "pandas_84()"
      ]
    },
    {
      "cell_type": "code",
      "execution_count": null,
      "metadata": {
        "id": "pvqqRa2x0MUT",
        "outputId": "138059ab-0e26-478d-dd7c-d698a5b0b094"
      },
      "outputs": [
        {
          "name": "stdout",
          "output_type": "stream",
          "text": [
            "❗ The implementation is incorrect or the exercise was not implemented.\n"
          ]
        }
      ],
      "source": [
        "# Convert the time zone of the 'datetime' column in DataFrame `df_events`, from UTC to US/Eastern, storing result as `tz_adjusted_events`.\n",
        "@check_pandas_85\n",
        "def pandas_85(df_events):\n",
        "    # This line is mandatory and should not be removed.\n",
        "    ex_stat_init = True\n",
        "\n",
        "    # BELOW GOES YOUR CODE\n",
        "\n",
        "    # ABOVE GOES YOUR CODE\n",
        "    return {\"tz_adjusted_events\": tz_adjusted_events}\n",
        "\n",
        "pandas_85()"
      ]
    },
    {
      "cell_type": "code",
      "execution_count": null,
      "metadata": {
        "id": "8rWFcpZJ0MUU",
        "outputId": "eab388e2-e367-46c5-e170-fa076b31b140"
      },
      "outputs": [
        {
          "name": "stdout",
          "output_type": "stream",
          "text": [
            "❗ The implementation is incorrect or the exercise was not implemented.\n"
          ]
        }
      ],
      "source": [
        "# Calculate the weekly rolling sum on DataFrame `df_financial_changes` for 'ChangeAmount', storing the result in `weekly_rolling_sum`.\n",
        "@check_pandas_86\n",
        "def pandas_86(df_financial_changes):\n",
        "    # This line is mandatory and should not be removed.\n",
        "    ex_stat_init = True\n",
        "\n",
        "    # BELOW GOES YOUR CODE\n",
        "\n",
        "    # ABOVE GOES YOUR CODE\n",
        "    return {\"weekly_rolling_sum\": weekly_rolling_sum}\n",
        "\n",
        "pandas_86()"
      ]
    },
    {
      "cell_type": "code",
      "execution_count": null,
      "metadata": {
        "id": "hhDS-k0I0MUU",
        "outputId": "8f892331-b59d-4451-8def-9a194b64b501"
      },
      "outputs": [
        {
          "name": "stdout",
          "output_type": "stream",
          "text": [
            "❗ The implementation is incorrect or the exercise was not implemented.\n"
          ]
        }
      ],
      "source": [
        "# Use the apply function along with a custom lambda to multiply the 'Rating' column by 2 in DataFrame `df_movie_ratings`, saving it as `scaled_ratings`.\n",
        "@check_pandas_87\n",
        "def pandas_87(df_movie_ratings):\n",
        "    # This line is mandatory and should not be removed.\n",
        "    ex_stat_init = True\n",
        "\n",
        "    # BELOW GOES YOUR CODE\n",
        "\n",
        "    # ABOVE GOES YOUR CODE\n",
        "    return {\"scaled_ratings\": scaled_ratings}\n",
        "\n",
        "pandas_87()"
      ]
    },
    {
      "cell_type": "code",
      "execution_count": null,
      "metadata": {
        "id": "6e3KMJs00MUV",
        "outputId": "0f431ad8-df49-4331-f776-aaf861adf921"
      },
      "outputs": [
        {
          "name": "stdout",
          "output_type": "stream",
          "text": [
            "❗ The implementation is incorrect or the exercise was not implemented.\n"
          ]
        }
      ],
      "source": [
        "# Convert DataFrame `df_sequential` column 'Order' from int64 to int16 for memory efficiency, saving result as `optimized_sequential`.\n",
        "@check_pandas_88\n",
        "def pandas_88(df_sequential):\n",
        "    # This line is mandatory and should not be removed.\n",
        "    ex_stat_init = True\n",
        "\n",
        "    # BELOW GOES YOUR CODE\n",
        "\n",
        "    # ABOVE GOES YOUR CODE\n",
        "    return {\"optimized_sequential\": optimized_sequential}\n",
        "\n",
        "pandas_88()"
      ]
    },
    {
      "cell_type": "code",
      "execution_count": null,
      "metadata": {
        "id": "Urs3rwtT0MUV",
        "outputId": "bb6b4209-fdbe-40c0-8ece-4341462b0932"
      },
      "outputs": [
        {
          "name": "stdout",
          "output_type": "stream",
          "text": [
            "❗ The implementation is incorrect or the exercise was not implemented.\n"
          ]
        }
      ],
      "source": [
        "# Remove duplicate entries based on 'Email' in DataFrame `df_email_contacts`, storing deduplicated DataFrame as `unique_email_contacts`.\n",
        "@check_pandas_89\n",
        "def pandas_89(df_email_contacts):\n",
        "    # This line is mandatory and should not be removed.\n",
        "    ex_stat_init = True\n",
        "\n",
        "    # BELOW GOES YOUR CODE\n",
        "\n",
        "    # ABOVE GOES YOUR CODE\n",
        "    return {\"unique_email_contacts\": unique_email_contacts}\n",
        "\n",
        "pandas_89()"
      ]
    },
    {
      "cell_type": "code",
      "execution_count": null,
      "metadata": {
        "id": "PsrBT_xL0MUV",
        "outputId": "31e134b1-45d5-4862-a25d-f30bea794ac5"
      },
      "outputs": [
        {
          "name": "stdout",
          "output_type": "stream",
          "text": [
            "❗ The implementation is incorrect or the exercise was not implemented.\n"
          ]
        }
      ],
      "source": [
        "# Perform string operation by replacing all occurrences of 'Inc.' with 'Incorporated' in the 'Company_Name' column of `df_business_registry`, storing result in `updated_business_registry`.\n",
        "@check_pandas_90\n",
        "def pandas_90(df_business_registry):\n",
        "    # This line is mandatory and should not be removed.\n",
        "    ex_stat_init = True\n",
        "\n",
        "    # BELOW GOES YOUR CODE\n",
        "\n",
        "    # ABOVE GOES YOUR CODE\n",
        "    return {\"updated_business_registry\": updated_business_registry}\n",
        "\n",
        "pandas_90()"
      ]
    },
    {
      "cell_type": "code",
      "execution_count": null,
      "metadata": {
        "id": "7e5ytkxk0MUV",
        "outputId": "9c2c3873-5da1-4919-c287-838f58f98314"
      },
      "outputs": [
        {
          "name": "stdout",
          "output_type": "stream",
          "text": [
            "❗ The implementation is incorrect or the exercise was not implemented.\n"
          ]
        }
      ],
      "source": [
        "# Select entries from DataFrame `df_jobs` with 'Role' ending in 'Engineer' using the query method, saving result as `engineer_roles`.\n",
        "@check_pandas_91\n",
        "def pandas_91(df_jobs):\n",
        "    # This line is mandatory and should not be removed.\n",
        "    ex_stat_init = True\n",
        "\n",
        "    # BELOW GOES YOUR CODE\n",
        "\n",
        "    # ABOVE GOES YOUR CODE\n",
        "    return {\"engineer_roles\": engineer_roles}\n",
        "\n",
        "pandas_91()"
      ]
    },
    {
      "cell_type": "code",
      "execution_count": null,
      "metadata": {
        "id": "zybo3cjf0MUY",
        "outputId": "6e0829c1-e2b4-4895-c366-823726edc3be"
      },
      "outputs": [
        {
          "name": "stdout",
          "output_type": "stream",
          "text": [
            "❗ The implementation is incorrect or the exercise was not implemented.\n"
          ]
        }
      ],
      "source": [
        "# Group DataFrame `df_market_data` by 'Sector' and aggregate 'MarketCap' using the custom function to find the median, saving in `median_market_cap`.\n",
        "@check_pandas_92\n",
        "def pandas_92(df_market_data):\n",
        "    # This line is mandatory and should not be removed.\n",
        "    ex_stat_init = True\n",
        "\n",
        "    # BELOW GOES YOUR CODE\n",
        "\n",
        "    # ABOVE GOES YOUR CODE\n",
        "    return {\"median_market_cap\": median_market_cap}\n",
        "\n",
        "pandas_92()"
      ]
    },
    {
      "cell_type": "code",
      "execution_count": null,
      "metadata": {
        "id": "6YCuNqZo0MUY",
        "outputId": "f99c2c13-67bf-4025-c26e-a5901e66a20d"
      },
      "outputs": [
        {
          "name": "stdout",
          "output_type": "stream",
          "text": [
            "❗ The implementation is incorrect or the exercise was not implemented.\n"
          ]
        }
      ],
      "source": [
        "# Use vectorized operations on DataFrame `df_portfolio`, to multiply every element in 'Shares' column by its corresponding 'Price', saving the result in `portfolio_value`.\n",
        "@check_pandas_93\n",
        "def pandas_93(df_portfolio):\n",
        "    # This line is mandatory and should not be removed.\n",
        "    ex_stat_init = True\n",
        "\n",
        "    # BELOW GOES YOUR CODE\n",
        "\n",
        "    # ABOVE GOES YOUR CODE\n",
        "    return {\"portfolio_value\": portfolio_value}\n",
        "\n",
        "pandas_93()"
      ]
    },
    {
      "cell_type": "code",
      "execution_count": null,
      "metadata": {
        "id": "o9TVBd7Y0MUZ",
        "outputId": "adddf752-9d25-4d65-f6ae-72615e971373"
      },
      "outputs": [
        {
          "name": "stdout",
          "output_type": "stream",
          "text": [
            "❗ The implementation is incorrect or the exercise was not implemented.\n"
          ]
        }
      ],
      "source": [
        "# Add a 'ProfitMargin' column to DataFrame `df_sales_figures`, calculated as ('Profit' / 'Revenue') * 100 using vectorized operations, saving as `sales_with_margin`.\n",
        "@check_pandas_94\n",
        "def pandas_94(df_sales_figures):\n",
        "    # This line is mandatory and should not be removed.\n",
        "    ex_stat_init = True\n",
        "\n",
        "    # BELOW GOES YOUR CODE\n",
        "\n",
        "    # ABOVE GOES YOUR CODE\n",
        "    return {\"sales_with_margin\": sales_with_margin}\n",
        "\n",
        "pandas_94()"
      ]
    },
    {
      "cell_type": "code",
      "execution_count": null,
      "metadata": {
        "id": "Dr0qfWkg0MUZ",
        "outputId": "a3842dbb-b86c-44d1-dcd7-1250c31cebb9"
      },
      "outputs": [
        {
          "name": "stdout",
          "output_type": "stream",
          "text": [
            "❗ The implementation is incorrect or the exercise was not implemented.\n"
          ]
        }
      ],
      "source": [
        "# Sort DataFrame `df_graduates` by 'GPA' in descending order, saving sorted DataFrame as `sorted_graduates`.\n",
        "@check_pandas_95\n",
        "def pandas_95(df_graduates):\n",
        "    # This line is mandatory and should not be removed.\n",
        "    ex_stat_init = True\n",
        "\n",
        "    # BELOW GOES YOUR CODE\n",
        "\n",
        "    # ABOVE GOES YOUR CODE\n",
        "    return {\"sorted_graduates\": sorted_graduates}\n",
        "\n",
        "pandas_95()"
      ]
    },
    {
      "cell_type": "code",
      "execution_count": null,
      "metadata": {
        "id": "LZ-owRcS0MUZ",
        "outputId": "c7c3cb30-4006-4e8d-d9b4-0b04c1669f00"
      },
      "outputs": [
        {
          "name": "stdout",
          "output_type": "stream",
          "text": [
            "❗ The implementation is incorrect or the exercise was not implemented.\n"
          ]
        }
      ],
      "source": [
        "# Filter DataFrame `df_emissions` for 'Country' is 'USA' and 'Year' before 2000 using boolean conditions, saving result as `us_emissions_pre2000`.\n",
        "@check_pandas_96\n",
        "def pandas_96(df_emissions):\n",
        "    # This line is mandatory and should not be removed.\n",
        "    ex_stat_init = True\n",
        "\n",
        "    # BELOW GOES YOUR CODE\n",
        "\n",
        "    # ABOVE GOES YOUR CODE\n",
        "    return {\"us_emissions_pre2000\": us_emissions_pre2000}\n",
        "\n",
        "pandas_96()"
      ]
    },
    {
      "cell_type": "code",
      "execution_count": null,
      "metadata": {
        "id": "DaTZBvim0MUa",
        "outputId": "026040fa-f1e2-44a8-bb18-b412053fa8e2"
      },
      "outputs": [
        {
          "name": "stdout",
          "output_type": "stream",
          "text": [
            "❗ The implementation is incorrect or the exercise was not implemented.\n"
          ]
        }
      ],
      "source": [
        "# Calculate the cumulative sum of 'Purchases' in DataFrame `df_shopper_history` grouped by 'Year', storing the result in `yearly_cumulative_purchases`.\n",
        "@check_pandas_97\n",
        "def pandas_97(df_shopper_history):\n",
        "    # This line is mandatory and should not be removed.\n",
        "    ex_stat_init = True\n",
        "\n",
        "    # BELOW GOES YOUR CODE\n",
        "\n",
        "    # ABOVE GOES YOUR CODE\n",
        "    return {\"yearly_cumulative_purchases\": yearly_cumulative_purchases}\n",
        "\n",
        "pandas_97()"
      ]
    },
    {
      "cell_type": "code",
      "execution_count": null,
      "metadata": {
        "id": "K-6v6hTc0MUb",
        "outputId": "20f64d06-62c1-4539-c4c3-fc6886ce6178"
      },
      "outputs": [
        {
          "name": "stdout",
          "output_type": "stream",
          "text": [
            "❗ The implementation is incorrect or the exercise was not implemented.\n"
          ]
        }
      ],
      "source": [
        "# Create DataFrame `df_series_fan_following` with integers between 1000 and 5000 equally separated, indexed by monthly dates starting from '2022-01-01', till '2022-05-01', with column name 'Fans' and frequency 'MS'.\n",
        "@check_pandas_98\n",
        "def pandas_98():\n",
        "    # This line is mandatory and should not be removed.\n",
        "    ex_stat_init = True\n",
        "\n",
        "    # BELOW GOES YOUR CODE\n",
        "\n",
        "    # ABOVE GOES YOUR CODE\n",
        "    return {\"df_series_fan_following\": df_series_fan_following}\n",
        "\n",
        "pandas_98()"
      ]
    },
    {
      "cell_type": "code",
      "execution_count": null,
      "metadata": {
        "id": "7LZmXCKM0MUb",
        "outputId": "9a07b482-5e7e-4355-e41a-ccbef734675e"
      },
      "outputs": [
        {
          "name": "stdout",
          "output_type": "stream",
          "text": [
            "❗ The implementation is incorrect or the exercise was not implemented.\n"
          ]
        }
      ],
      "source": [
        "# Calculate difference in 'ClosingPrice' from previous day in DataFrame `df_stock_prices`, storing result as `closing_price_diff`.\n",
        "@check_pandas_99\n",
        "def pandas_99(df_stock_prices):\n",
        "    # This line is mandatory and should not be removed.\n",
        "    ex_stat_init = True\n",
        "\n",
        "    # BELOW GOES YOUR CODE\n",
        "\n",
        "    # ABOVE GOES YOUR CODE\n",
        "    return {\"closing_price_diff\": closing_price_diff}\n",
        "\n",
        "pandas_99()"
      ]
    },
    {
      "cell_type": "code",
      "execution_count": null,
      "metadata": {
        "id": "a-MlH2cP0MUb",
        "outputId": "cbeea14a-1316-4bdc-ad0b-d4c8a124f629"
      },
      "outputs": [
        {
          "name": "stdout",
          "output_type": "stream",
          "text": [
            "❗ The implementation is incorrect or the exercise was not implemented.\n"
          ]
        }
      ],
      "source": [
        "# Merge DataFrames `df_social_media_insights` and `df_campaign_performance` on 'CampaignID', using outer method saving result as `merged_campaign_data`.\n",
        "@check_pandas_100\n",
        "def pandas_100(df_social_media_insights, df_campaign_performance):\n",
        "    # This line is mandatory and should not be removed.\n",
        "    ex_stat_init = True\n",
        "\n",
        "    # BELOW GOES YOUR CODE\n",
        "\n",
        "    # ABOVE GOES YOUR CODE\n",
        "    return {\"merged_campaign_data\": merged_campaign_data}\n",
        "\n",
        "pandas_100()"
      ]
    }
  ],
  "metadata": {
    "kernelspec": {
      "display_name": "excalibur",
      "language": "python",
      "name": "python3"
    },
    "language_info": {
      "codemirror_mode": {
        "name": "ipython",
        "version": 3
      },
      "file_extension": ".py",
      "mimetype": "text/x-python",
      "name": "python",
      "nbconvert_exporter": "python",
      "pygments_lexer": "ipython3",
      "version": "3.12.5"
    },
    "colab": {
      "provenance": []
    }
  },
  "nbformat": 4,
  "nbformat_minor": 0
}