{
 "cells": [
  {
   "cell_type": "markdown",
   "id": "285a9b25",
   "metadata": {},
   "source": [
    "## Lesson 17: Model Evaluation and Validation"
   ]
  },
  {
   "cell_type": "markdown",
   "id": "ce7ce421",
   "metadata": {},
   "source": [
    "## Table of Contents\n",
    "\n",
    "1. [Evaluation Metrics for classification tasks](#classification)\n",
    "    1. [Accuracy](#accuracy)\n",
    "    2. [Precission/Recall](#pr)\n",
    "    3. [F1-Score](#f1)\n",
    "    4. [Confusion Matrix](#cm)\n",
    "    5. [ROC/AUC](#ra)\n",
    "    6. [Which classification metric to choose when](#guide-cm)\n",
    "2. [Regression Evaluation Metrics](#regression)\n",
    "    1. [MSE](#mse)\n",
    "    2. [RMSE](#rmse)\n",
    "    3. [MAE](#mae)\n",
    "    4. [MAPE](#mape)\n",
    "    5. [R squared](#r2)\n",
    "    6. [Advantages/disadvantages](#reg-other)\n",
    "3. [Model Validation](#validation)"
   ]
  },
  {
   "cell_type": "code",
   "execution_count": 2,
   "id": "6563e2ae",
   "metadata": {},
   "outputs": [],
   "source": [
    "import pandas as pd\n",
    "import seaborn as sns\n",
    "from sklearn.model_selection import train_test_split\n",
    "from sklearn.linear_model import LogisticRegression\n",
    "import numpy as np\n",
    "import matplotlib.pyplot as plt"
   ]
  },
  {
   "cell_type": "markdown",
   "id": "80634151",
   "metadata": {},
   "source": [
    "### Evaluation Metrics for classification tasks<a id=\"classification\">"
   ]
  },
  {
   "cell_type": "markdown",
   "id": "b7056506",
   "metadata": {},
   "source": [
    "We’ll begin with a simple dataset containing one feature, *Tumor Size*, and a target variable, *Malignant* (indicating whether the tumor is malignant). Our goal is to build a model that predicts the probability of malignancy based solely on tumor size. This model could assist in automatically classifying patients based on scan results, with cases classified as malignant flagged for further review by a medical expert.\n",
    "\n",
    "We’ll start with a quick exploratory data analysis, followed by training a logistic regression model."
   ]
  },
  {
   "cell_type": "code",
   "execution_count": 3,
   "id": "50cd5391",
   "metadata": {},
   "outputs": [],
   "source": [
    "df = pd.read_csv('data/tumor_data_univariate.csv')"
   ]
  },
  {
   "cell_type": "code",
   "execution_count": 4,
   "id": "43514634",
   "metadata": {},
   "outputs": [
    {
     "data": {
      "text/html": [
       "<div>\n",
       "<style scoped>\n",
       "    .dataframe tbody tr th:only-of-type {\n",
       "        vertical-align: middle;\n",
       "    }\n",
       "\n",
       "    .dataframe tbody tr th {\n",
       "        vertical-align: top;\n",
       "    }\n",
       "\n",
       "    .dataframe thead th {\n",
       "        text-align: right;\n",
       "    }\n",
       "</style>\n",
       "<table border=\"1\" class=\"dataframe\">\n",
       "  <thead>\n",
       "    <tr style=\"text-align: right;\">\n",
       "      <th></th>\n",
       "      <th>Tumor_Size</th>\n",
       "      <th>Malignant</th>\n",
       "    </tr>\n",
       "  </thead>\n",
       "  <tbody>\n",
       "    <tr>\n",
       "      <th>0</th>\n",
       "      <td>1.935247</td>\n",
       "      <td>0</td>\n",
       "    </tr>\n",
       "    <tr>\n",
       "      <th>1</th>\n",
       "      <td>4.758500</td>\n",
       "      <td>1</td>\n",
       "    </tr>\n",
       "    <tr>\n",
       "      <th>2</th>\n",
       "      <td>3.686770</td>\n",
       "      <td>1</td>\n",
       "    </tr>\n",
       "    <tr>\n",
       "      <th>3</th>\n",
       "      <td>3.033427</td>\n",
       "      <td>0</td>\n",
       "    </tr>\n",
       "    <tr>\n",
       "      <th>4</th>\n",
       "      <td>0.864491</td>\n",
       "      <td>0</td>\n",
       "    </tr>\n",
       "    <tr>\n",
       "      <th>...</th>\n",
       "      <td>...</td>\n",
       "      <td>...</td>\n",
       "    </tr>\n",
       "    <tr>\n",
       "      <th>395</th>\n",
       "      <td>4.660711</td>\n",
       "      <td>1</td>\n",
       "    </tr>\n",
       "    <tr>\n",
       "      <th>396</th>\n",
       "      <td>4.306222</td>\n",
       "      <td>1</td>\n",
       "    </tr>\n",
       "    <tr>\n",
       "      <th>397</th>\n",
       "      <td>2.202071</td>\n",
       "      <td>0</td>\n",
       "    </tr>\n",
       "    <tr>\n",
       "      <th>398</th>\n",
       "      <td>3.779268</td>\n",
       "      <td>1</td>\n",
       "    </tr>\n",
       "    <tr>\n",
       "      <th>399</th>\n",
       "      <td>3.797260</td>\n",
       "      <td>0</td>\n",
       "    </tr>\n",
       "  </tbody>\n",
       "</table>\n",
       "<p>400 rows × 2 columns</p>\n",
       "</div>"
      ],
      "text/plain": [
       "     Tumor_Size  Malignant\n",
       "0      1.935247          0\n",
       "1      4.758500          1\n",
       "2      3.686770          1\n",
       "3      3.033427          0\n",
       "4      0.864491          0\n",
       "..          ...        ...\n",
       "395    4.660711          1\n",
       "396    4.306222          1\n",
       "397    2.202071          0\n",
       "398    3.779268          1\n",
       "399    3.797260          0\n",
       "\n",
       "[400 rows x 2 columns]"
      ]
     },
     "execution_count": 4,
     "metadata": {},
     "output_type": "execute_result"
    }
   ],
   "source": [
    "df"
   ]
  },
  {
   "cell_type": "code",
   "execution_count": 5,
   "id": "67500178",
   "metadata": {},
   "outputs": [
    {
     "data": {
      "text/html": [
       "<div>\n",
       "<style scoped>\n",
       "    .dataframe tbody tr th:only-of-type {\n",
       "        vertical-align: middle;\n",
       "    }\n",
       "\n",
       "    .dataframe tbody tr th {\n",
       "        vertical-align: top;\n",
       "    }\n",
       "\n",
       "    .dataframe thead th {\n",
       "        text-align: right;\n",
       "    }\n",
       "</style>\n",
       "<table border=\"1\" class=\"dataframe\">\n",
       "  <thead>\n",
       "    <tr style=\"text-align: right;\">\n",
       "      <th></th>\n",
       "      <th>Tumor_Size</th>\n",
       "      <th>Malignant</th>\n",
       "    </tr>\n",
       "  </thead>\n",
       "  <tbody>\n",
       "    <tr>\n",
       "      <th>count</th>\n",
       "      <td>400.000000</td>\n",
       "      <td>400.000000</td>\n",
       "    </tr>\n",
       "    <tr>\n",
       "      <th>mean</th>\n",
       "      <td>2.521534</td>\n",
       "      <td>0.357500</td>\n",
       "    </tr>\n",
       "    <tr>\n",
       "      <th>std</th>\n",
       "      <td>1.439406</td>\n",
       "      <td>0.479864</td>\n",
       "    </tr>\n",
       "    <tr>\n",
       "      <th>min</th>\n",
       "      <td>0.124802</td>\n",
       "      <td>0.000000</td>\n",
       "    </tr>\n",
       "    <tr>\n",
       "      <th>25%</th>\n",
       "      <td>1.282270</td>\n",
       "      <td>0.000000</td>\n",
       "    </tr>\n",
       "    <tr>\n",
       "      <th>50%</th>\n",
       "      <td>2.607417</td>\n",
       "      <td>0.000000</td>\n",
       "    </tr>\n",
       "    <tr>\n",
       "      <th>75%</th>\n",
       "      <td>3.762859</td>\n",
       "      <td>1.000000</td>\n",
       "    </tr>\n",
       "    <tr>\n",
       "      <th>max</th>\n",
       "      <td>4.953475</td>\n",
       "      <td>1.000000</td>\n",
       "    </tr>\n",
       "  </tbody>\n",
       "</table>\n",
       "</div>"
      ],
      "text/plain": [
       "       Tumor_Size   Malignant\n",
       "count  400.000000  400.000000\n",
       "mean     2.521534    0.357500\n",
       "std      1.439406    0.479864\n",
       "min      0.124802    0.000000\n",
       "25%      1.282270    0.000000\n",
       "50%      2.607417    0.000000\n",
       "75%      3.762859    1.000000\n",
       "max      4.953475    1.000000"
      ]
     },
     "execution_count": 5,
     "metadata": {},
     "output_type": "execute_result"
    }
   ],
   "source": [
    "df.describe()"
   ]
  },
  {
   "cell_type": "code",
   "execution_count": 6,
   "id": "1a64f8ce",
   "metadata": {},
   "outputs": [
    {
     "data": {
      "text/plain": [
       "0    257\n",
       "1    143\n",
       "Name: Malignant, dtype: int64"
      ]
     },
     "execution_count": 6,
     "metadata": {},
     "output_type": "execute_result"
    }
   ],
   "source": [
    "df['Malignant'].value_counts()"
   ]
  },
  {
   "cell_type": "code",
   "execution_count": 7,
   "id": "ffcdd205",
   "metadata": {},
   "outputs": [
    {
     "data": {
      "text/plain": [
       "<AxesSubplot:xlabel='Tumor_Size', ylabel='Count'>"
      ]
     },
     "execution_count": 7,
     "metadata": {},
     "output_type": "execute_result"
    },
    {
     "data": {
      "image/png": "[encoded data removed]",
      "text/plain": [
       "<Figure size 432x288 with 1 Axes>"
      ]
     },
     "metadata": {
      "needs_background": "light"
     },
     "output_type": "display_data"
    }
   ],
   "source": [
    "sns.histplot(data=df, x='Tumor_Size', hue='Malignant', kde=False)"
   ]
  },
  {
   "cell_type": "markdown",
   "id": "17835459",
   "metadata": {},
   "source": [
    "There are much more patients with malignant = 1 when tumor size is high."
   ]
  },
  {
   "cell_type": "code",
   "execution_count": 8,
   "id": "e01ef380",
   "metadata": {},
   "outputs": [],
   "source": [
    "X = df[['Tumor_Size']]\n",
    "y = df['Malignant']\n",
    "\n",
    "X_train, X_val, y_train, y_val = train_test_split(X, y, test_size=0.5, random_state=42)"
   ]
  },
  {
   "cell_type": "code",
   "execution_count": 9,
   "id": "5f5c8b34",
   "metadata": {},
   "outputs": [
    {
     "data": {
      "text/html": [
       "<style>#sk-container-id-1 {color: black;background-color: white;}#sk-container-id-1 pre{padding: 0;}#sk-container-id-1 div.sk-toggleable {background-color: white;}#sk-container-id-1 label.sk-toggleable__label {cursor: pointer;display: block;width: 100%;margin-bottom: 0;padding: 0.3em;box-sizing: border-box;text-align: center;}#sk-container-id-1 label.sk-toggleable__label-arrow:before {content: \"▸\";float: left;margin-right: 0.25em;color: #696969;}#sk-container-id-1 label.sk-toggleable__label-arrow:hover:before {color: black;}#sk-container-id-1 div.sk-estimator:hover label.sk-toggleable__label-arrow:before {color: black;}#sk-container-id-1 div.sk-toggleable__content {max-height: 0;max-width: 0;overflow: hidden;text-align: left;background-color: #f0f8ff;}#sk-container-id-1 div.sk-toggleable__content pre {margin: 0.2em;color: black;border-radius: 0.25em;background-color: #f0f8ff;}#sk-container-id-1 input.sk-toggleable__control:checked~div.sk-toggleable__content {max-height: 200px;max-width: 100%;overflow: auto;}#sk-container-id-1 input.sk-toggleable__control:checked~label.sk-toggleable__label-arrow:before {content: \"▾\";}#sk-container-id-1 div.sk-estimator input.sk-toggleable__control:checked~label.sk-toggleable__label {background-color: #d4ebff;}#sk-container-id-1 div.sk-label input.sk-toggleable__control:checked~label.sk-toggleable__label {background-color: #d4ebff;}#sk-container-id-1 input.sk-hidden--visually {border: 0;clip: rect(1px 1px 1px 1px);clip: rect(1px, 1px, 1px, 1px);height: 1px;margin: -1px;overflow: hidden;padding: 0;position: absolute;width: 1px;}#sk-container-id-1 div.sk-estimator {font-family: monospace;background-color: #f0f8ff;border: 1px dotted black;border-radius: 0.25em;box-sizing: border-box;margin-bottom: 0.5em;}#sk-container-id-1 div.sk-estimator:hover {background-color: #d4ebff;}#sk-container-id-1 div.sk-parallel-item::after {content: \"\";width: 100%;border-bottom: 1px solid gray;flex-grow: 1;}#sk-container-id-1 div.sk-label:hover label.sk-toggleable__label {background-color: #d4ebff;}#sk-container-id-1 div.sk-serial::before {content: \"\";position: absolute;border-left: 1px solid gray;box-sizing: border-box;top: 0;bottom: 0;left: 50%;z-index: 0;}#sk-container-id-1 div.sk-serial {display: flex;flex-direction: column;align-items: center;background-color: white;padding-right: 0.2em;padding-left: 0.2em;position: relative;}#sk-container-id-1 div.sk-item {position: relative;z-index: 1;}#sk-container-id-1 div.sk-parallel {display: flex;align-items: stretch;justify-content: center;background-color: white;position: relative;}#sk-container-id-1 div.sk-item::before, #sk-container-id-1 div.sk-parallel-item::before {content: \"\";position: absolute;border-left: 1px solid gray;box-sizing: border-box;top: 0;bottom: 0;left: 50%;z-index: -1;}#sk-container-id-1 div.sk-parallel-item {display: flex;flex-direction: column;z-index: 1;position: relative;background-color: white;}#sk-container-id-1 div.sk-parallel-item:first-child::after {align-self: flex-end;width: 50%;}#sk-container-id-1 div.sk-parallel-item:last-child::after {align-self: flex-start;width: 50%;}#sk-container-id-1 div.sk-parallel-item:only-child::after {width: 0;}#sk-container-id-1 div.sk-dashed-wrapped {border: 1px dashed gray;margin: 0 0.4em 0.5em 0.4em;box-sizing: border-box;padding-bottom: 0.4em;background-color: white;}#sk-container-id-1 div.sk-label label {font-family: monospace;font-weight: bold;display: inline-block;line-height: 1.2em;}#sk-container-id-1 div.sk-label-container {text-align: center;}#sk-container-id-1 div.sk-container {/* jupyter's `normalize.less` sets `[hidden] { display: none; }` but bootstrap.min.css set `[hidden] { display: none !important; }` so we also need the `!important` here to be able to override the default hidden behavior on the sphinx rendered scikit-learn.org. See: https://github.com/scikit-learn/scikit-learn/issues/21755 */display: inline-block !important;position: relative;}#sk-container-id-1 div.sk-text-repr-fallback {display: none;}</style><div id=\"sk-container-id-1\" class=\"sk-top-container\"><div class=\"sk-text-repr-fallback\"><pre>LogisticRegression()</pre><b>In a Jupyter environment, please rerun this cell to show the HTML representation or trust the notebook. <br />On GitHub, the HTML representation is unable to render, please try loading this page with nbviewer.org.</b></div><div class=\"sk-container\" hidden><div class=\"sk-item\"><div class=\"sk-estimator sk-toggleable\"><input class=\"sk-toggleable__control sk-hidden--visually\" id=\"sk-estimator-id-1\" type=\"checkbox\" checked><label for=\"sk-estimator-id-1\" class=\"sk-toggleable__label sk-toggleable__label-arrow\">LogisticRegression</label><div class=\"sk-toggleable__content\"><pre>LogisticRegression()</pre></div></div></div></div></div>"
      ],
      "text/plain": [
       "LogisticRegression()"
      ]
     },
     "execution_count": 9,
     "metadata": {},
     "output_type": "execute_result"
    }
   ],
   "source": [
    "model = LogisticRegression()\n",
    "\n",
    "model.fit(X_train, y_train)"
   ]
  },
  {
   "cell_type": "code",
   "execution_count": 10,
   "id": "5e8341f4",
   "metadata": {},
   "outputs": [
    {
     "data": {
      "text/plain": [
       "array([0, 1, 1, 0, 0, 0, 0, 1, 1, 1, 1, 1, 0, 0, 0, 0, 1, 1, 0, 1, 0, 0,\n",
       "       0, 1, 0, 1, 0, 0, 0, 1, 1, 0, 1, 0, 0, 1, 1, 0, 0, 0, 1, 1, 1, 1,\n",
       "       0, 0, 0, 0, 0, 0, 0, 1, 0, 1, 0, 0, 0, 0, 0, 0, 0, 0, 0, 0, 0, 0,\n",
       "       1, 0, 0, 1, 0, 1, 0, 1, 1, 0, 0, 0, 1, 0, 0, 0, 0, 0, 0, 0, 1, 0,\n",
       "       0, 0, 0, 0, 1, 1, 0, 1, 1, 0, 0, 1, 1, 0, 0, 0, 0, 1, 0, 1, 1, 0,\n",
       "       0, 0, 1, 0, 0, 0, 0, 0, 1, 0, 1, 0, 0, 0, 0, 0, 1, 0, 0, 1, 0, 0,\n",
       "       0, 0, 0, 0, 0, 1, 1, 0, 0, 1, 0, 0, 1, 0, 0, 0, 1, 0, 0, 0, 0, 1,\n",
       "       0, 1, 0, 0, 0, 1, 0, 0, 0, 0, 0, 0, 0, 0, 0, 1, 1, 1, 0, 0, 0, 0,\n",
       "       0, 1, 0, 0, 0, 0, 0, 1, 1, 1, 1, 1, 0, 0, 0, 0, 0, 1, 1, 0, 1, 0,\n",
       "       0, 0], dtype=int64)"
      ]
     },
     "execution_count": 10,
     "metadata": {},
     "output_type": "execute_result"
    }
   ],
   "source": [
    "model.predict(X_val)"
   ]
  },
  {
   "cell_type": "markdown",
   "id": "50563355",
   "metadata": {},
   "source": [
    "Previously, we used the `predict` method to obtain the predicted class directly. However, most classifiers, including logistic regression, initially return the probability of an instance belonging to the positive class. By applying a threshold (commonly 0.5), the instance is then classified into the corresponding class. Let's retrieve the predicted probability of the positive class using the `predict_proba` method."
   ]
  },
  {
   "cell_type": "code",
   "execution_count": 11,
   "id": "6b658496",
   "metadata": {},
   "outputs": [],
   "source": [
    "y_pred = model.predict_proba(X_val)[:, 1]"
   ]
  },
  {
   "cell_type": "code",
   "execution_count": 12,
   "id": "02226e88",
   "metadata": {},
   "outputs": [
    {
     "data": {
      "text/plain": [
       "array([0.06814975, 0.80037182, 0.84708723, 0.380994  , 0.39736549,\n",
       "       0.14296916, 0.1054425 , 0.67589521, 0.5814911 , 0.7297419 ,\n",
       "       0.59618918, 0.50846796, 0.04686187, 0.03023209, 0.05518571,\n",
       "       0.03524178, 0.5880923 , 0.75782778, 0.32334269, 0.71371725,\n",
       "       0.04344303, 0.07646429, 0.22569933, 0.72110037, 0.19126001,\n",
       "       0.77120755, 0.49489984, 0.10352035, 0.06126859, 0.81533407,\n",
       "       0.83374328, 0.4944849 , 0.87413168, 0.08148669, 0.41808322,\n",
       "       0.71393167, 0.71889409, 0.07260074, 0.10032783, 0.10755934,\n",
       "       0.58111879, 0.82687142, 0.67625978, 0.69274688, 0.15689879,\n",
       "       0.48877774, 0.03857541, 0.05338399, 0.13075676, 0.094939  ,\n",
       "       0.14346018, 0.60478229, 0.2901313 , 0.6774301 , 0.04279598,\n",
       "       0.25321082, 0.18553067, 0.33480572, 0.45949029, 0.06280567,\n",
       "       0.09562032, 0.0572823 , 0.39149505, 0.17797767, 0.49902712,\n",
       "       0.07161694, 0.52958229, 0.17880294, 0.16422883, 0.72696788,\n",
       "       0.38163248, 0.85648593, 0.06649025, 0.53481631, 0.65094922,\n",
       "       0.24098631, 0.20751956, 0.04238682, 0.57334763, 0.43679996,\n",
       "       0.44739772, 0.24478385, 0.06843648, 0.1322016 , 0.33388835,\n",
       "       0.17660616, 0.85727562, 0.35875733, 0.0960309 , 0.05510813,\n",
       "       0.31130643, 0.03644483, 0.80260283, 0.52810362, 0.16442701,\n",
       "       0.74875114, 0.56266208, 0.05470085, 0.0740592 , 0.62353156,\n",
       "       0.85930248, 0.12927037, 0.13849397, 0.06153448, 0.30770971,\n",
       "       0.77864228, 0.13018644, 0.58949102, 0.5072754 , 0.48454862,\n",
       "       0.09288876, 0.07418313, 0.73467923, 0.12457522, 0.09002058,\n",
       "       0.20355607, 0.05405264, 0.03553302, 0.8652983 , 0.16212312,\n",
       "       0.66455127, 0.04411777, 0.35046564, 0.03733741, 0.27009193,\n",
       "       0.07303247, 0.76933914, 0.03169343, 0.07768058, 0.83187872,\n",
       "       0.04446094, 0.03571122, 0.40897099, 0.20183278, 0.36890875,\n",
       "       0.16289634, 0.4917909 , 0.63856662, 0.51717181, 0.15121621,\n",
       "       0.13873756, 0.86267207, 0.03579854, 0.10253874, 0.61959019,\n",
       "       0.41992292, 0.15289687, 0.06829399, 0.74805051, 0.37696578,\n",
       "       0.03994323, 0.05410983, 0.32199762, 0.81591162, 0.03275348,\n",
       "       0.80935074, 0.33051199, 0.48103605, 0.22220202, 0.65126895,\n",
       "       0.14843193, 0.03015803, 0.28052944, 0.03645377, 0.06889499,\n",
       "       0.28792095, 0.03322423, 0.36435979, 0.32339307, 0.80215665,\n",
       "       0.66352891, 0.87220588, 0.05244247, 0.34794039, 0.13630474,\n",
       "       0.38829851, 0.24034095, 0.511465  , 0.04355864, 0.18440985,\n",
       "       0.04916543, 0.12626526, 0.14775845, 0.82907647, 0.71227454,\n",
       "       0.79779858, 0.8512921 , 0.76218256, 0.07263492, 0.17066299,\n",
       "       0.23990688, 0.46224559, 0.03234495, 0.62430335, 0.76833467,\n",
       "       0.31024574, 0.59033972, 0.04265675, 0.03747554, 0.37056311])"
      ]
     },
     "execution_count": 12,
     "metadata": {},
     "output_type": "execute_result"
    }
   ],
   "source": [
    "y_pred"
   ]
  },
  {
   "cell_type": "markdown",
   "id": "2ddce473",
   "metadata": {},
   "source": [
    "Now, we can visualize the predicted probability as a function of tumor size by obtaining model probabilities across the entire range of tumor sizes in our data (from 0 to 5)."
   ]
  },
  {
   "cell_type": "code",
   "execution_count": 13,
   "id": "903ec470",
   "metadata": {},
   "outputs": [
    {
     "name": "stderr",
     "output_type": "stream",
     "text": [
      "C:\\Users\\dimat\\anaconda3\\lib\\site-packages\\sklearn\\base.py:450: UserWarning: X does not have valid feature names, but LogisticRegression was fitted with feature names\n",
      "  warnings.warn(\n"
     ]
    }
   ],
   "source": [
    "tumor_size_range = np.linspace(0, 5, 200)\n",
    "tumor_size_range = tumor_size_range.reshape(-1, 1)\n",
    "predicted_probabilities = model.predict_proba(tumor_size_range)[:, 1]"
   ]
  },
  {
   "cell_type": "code",
   "execution_count": 14,
   "id": "1b1aa6aa",
   "metadata": {},
   "outputs": [
    {
     "data": {
      "image/png": "[encoded data removed]",
      "text/plain": [
       "<Figure size 432x288 with 1 Axes>"
      ]
     },
     "metadata": {
      "needs_background": "light"
     },
     "output_type": "display_data"
    }
   ],
   "source": [
    "plt.plot(tumor_size_range, predicted_probabilities)\n",
    "\n",
    "plt.scatter(X_val[y_val == 0], y_val[y_val == 0], color='blue', label='0', marker='x')\n",
    "plt.scatter(X_val[y_val == 1], y_val[y_val == 1], color='red', label='1', marker='x')\n",
    "plt.xlabel(\"tumor sizez\")\n",
    "plt.ylabel(\"probability\")\n",
    "plt.legend()\n",
    "plt.show()"
   ]
  },
  {
   "cell_type": "markdown",
   "id": "f83f2e75",
   "metadata": {},
   "source": [
    "We’ve also plotted the instances from the negative class (y=0) in blue and the positive class (y=1) in red. It’s evident that lower tumor sizes correspond to more points in the negative class (y=0). The model successfully captures this relationship, with predicted probability increasing as tumor size grows."
   ]
  },
  {
   "cell_type": "markdown",
   "id": "9b629f2a",
   "metadata": {},
   "source": [
    "### Accuracy<a id=\"accuracy\">"
   ]
  },
  {
   "cell_type": "markdown",
   "id": "e6c3aebd",
   "metadata": {},
   "source": [
    "Accuracy measures the rate of correct classifications. To obtain our classifications, we compare `y_pred` (the predicted probability) to a chosen threshold. Let’s start by setting the threshold at 0.5. For instances where `y_pred >= 0.5`, the prediction is classified as positive; otherwise, it’s classified as negative."
   ]
  },
  {
   "cell_type": "code",
   "execution_count": 15,
   "id": "e57b81d7",
   "metadata": {},
   "outputs": [
    {
     "data": {
      "text/plain": [
       "array([False,  True,  True, False, False, False, False,  True,  True,\n",
       "        True,  True,  True, False, False, False, False,  True,  True,\n",
       "       False,  True, False, False, False,  True, False,  True, False,\n",
       "       False, False,  True,  True, False,  True, False, False,  True,\n",
       "        True, False, False, False,  True,  True,  True,  True, False,\n",
       "       False, False, False, False, False, False,  True, False,  True,\n",
       "       False, False, False, False, False, False, False, False, False,\n",
       "       False, False, False,  True, False, False,  True, False,  True,\n",
       "       False,  True,  True, False, False, False,  True, False, False,\n",
       "       False, False, False, False, False,  True, False, False, False,\n",
       "       False, False,  True,  True, False,  True,  True, False, False,\n",
       "        True,  True, False, False, False, False,  True, False,  True,\n",
       "        True, False, False, False,  True, False, False, False, False,\n",
       "       False,  True, False,  True, False, False, False, False, False,\n",
       "        True, False, False,  True, False, False, False, False, False,\n",
       "       False, False,  True,  True, False, False,  True, False, False,\n",
       "        True, False, False, False,  True, False, False, False, False,\n",
       "        True, False,  True, False, False, False,  True, False, False,\n",
       "       False, False, False, False, False, False, False,  True,  True,\n",
       "        True, False, False, False, False, False,  True, False, False,\n",
       "       False, False, False,  True,  True,  True,  True,  True, False,\n",
       "       False, False, False, False,  True,  True, False,  True, False,\n",
       "       False, False])"
      ]
     },
     "execution_count": 15,
     "metadata": {},
     "output_type": "execute_result"
    }
   ],
   "source": [
    "(y_pred >= 0.5)"
   ]
  },
  {
   "cell_type": "markdown",
   "id": "598ab035",
   "metadata": {},
   "source": [
    "To calculate accuracy, we compare `y_val` (the actual classes) with our predictions (`y_pred >= 0.5`), where `True` corresponds to class 1 and `False` to class 0. The accuracy is then obtained by averaging these matches."
   ]
  },
  {
   "cell_type": "code",
   "execution_count": 16,
   "id": "eb4f2b7b",
   "metadata": {},
   "outputs": [
    {
     "data": {
      "text/plain": [
       "0.8"
      ]
     },
     "execution_count": 16,
     "metadata": {},
     "output_type": "execute_result"
    }
   ],
   "source": [
    "np.mean(y_val == (y_pred >= 0.5))"
   ]
  },
  {
   "cell_type": "markdown",
   "id": "f1a1e972",
   "metadata": {},
   "source": [
    "We can use the `accuracy_score` function from `sklearn`, which takes the actual classes (target) and predicted classes as input to compute accuracy."
   ]
  },
  {
   "cell_type": "code",
   "execution_count": 17,
   "id": "48e17442",
   "metadata": {},
   "outputs": [
    {
     "data": {
      "text/plain": [
       "0.8"
      ]
     },
     "execution_count": 17,
     "metadata": {},
     "output_type": "execute_result"
    }
   ],
   "source": [
    "from sklearn.metrics import accuracy_score\n",
    "\n",
    "accuracy_score(y_val, (y_pred >= 0.5))"
   ]
  },
  {
   "cell_type": "markdown",
   "id": "1c7af462",
   "metadata": {},
   "source": [
    "A 0.5 threshold isn’t always necessary for classification; the optimal threshold depends on the specific problem we’re addressing. Sometimes, a lower or higher threshold can yield better results. In our case, a lower threshold would result in more patients being classified as malignant, potentially reducing the risk of missing true malignant cases."
   ]
  },
  {
   "cell_type": "markdown",
   "id": "014eee52",
   "metadata": {},
   "source": [
    "Let's view how the accuracy score changes depending on the threshold chosen for classification."
   ]
  },
  {
   "cell_type": "code",
   "execution_count": 18,
   "id": "3345ba1a",
   "metadata": {},
   "outputs": [
    {
     "data": {
      "text/plain": [
       "Text(0, 0.5, 'Accuracy')"
      ]
     },
     "execution_count": 18,
     "metadata": {},
     "output_type": "execute_result"
    },
    {
     "data": {
      "image/png": "[encoded data removed]",
      "text/plain": [
       "<Figure size 432x288 with 1 Axes>"
      ]
     },
     "metadata": {
      "needs_background": "light"
     },
     "output_type": "display_data"
    }
   ],
   "source": [
    "from sklearn.metrics import accuracy_score\n",
    "thresholds = np.linspace(0, 1, 20)\n",
    "\n",
    "scores = []\n",
    "\n",
    "for t in thresholds:\n",
    "    score = accuracy_score(y_val, y_pred >= t)\n",
    "    scores.append(score)\n",
    "    \n",
    "plt.plot(thresholds, scores)\n",
    "plt.xlabel(\"Threshold\")\n",
    "plt.ylabel(\"Accuracy\")"
   ]
  },
  {
   "cell_type": "markdown",
   "id": "051f925e",
   "metadata": {},
   "source": [
    "The highest accuracy score occurs when the threshold is close to 0.6. If we set the threshold to 1 (classifying all patients as non-malignant), we still achieve a relatively high accuracy of 0.7. This is because our dataset is imbalanced, with more non-malignant cases than malignant ones. Accuracy is generally not recommended for imbalanced datasets, as it can be misleading, often failing to reflect the model's performance on the minority class."
   ]
  },
  {
   "cell_type": "markdown",
   "id": "940a12e8",
   "metadata": {},
   "source": [
    "### Precision and Recall<a id=\"pr\">"
   ]
  },
  {
   "cell_type": "markdown",
   "id": "1cfed6c5",
   "metadata": {},
   "source": [
    "In classification, predictions fall into four categories:\n",
    "\n",
    "- **True Positives (TP):** Instances that belong to the positive class and are correctly predicted as positive.\n",
    "- **True Negatives (TN):** Instances that belong to the negative class and are correctly predicted as negative.\n",
    "- **False Positives (FP):** Instances that belong to the negative class but are incorrectly predicted as positive.\n",
    "- **False Negatives (FN):** Instances that belong to the positive class but are incorrectly predicted as negative.\n",
    "\n",
    "Let's count how many cases of each we have when using a threshold of 0.5 for classification."
   ]
  },
  {
   "cell_type": "code",
   "execution_count": 19,
   "id": "3a64e8f3",
   "metadata": {},
   "outputs": [],
   "source": [
    "actual_pos = (y_val == 1)\n",
    "actual_neg = (y_val == 0)\n",
    "\n",
    "pred_pos = (y_pred >= 0.5)\n",
    "pred_neg = (y_pred < 0.5)\n",
    "\n",
    "tp = (actual_pos & pred_pos).sum()\n",
    "tn = (actual_neg & pred_neg).sum()\n",
    "fp = (actual_neg & pred_pos).sum()\n",
    "fn = (actual_pos & pred_neg).sum()"
   ]
  },
  {
   "cell_type": "markdown",
   "id": "5f2ff73a",
   "metadata": {},
   "source": [
    "**Recall** is a metric that indicates the proportion of positive class instances correctly identified by the model. It is calculated as: \n",
    "\n",
    "$\\text{Recall} = \\frac{\\text{TP}}{\\text{TP} + \\text{FN}}$\n",
    "\n",
    "**Precision** measures the accuracy of positive predictions, showing the proportion of instances predicted as positive that are actually positive. It is calculated as:\n",
    "\n",
    "$\\text{Precision} = \\frac{\\text{TP}}{\\text{TP} + \\text{FP}}$\n",
    "\n",
    "The value of these metrics can be between 0 and 1.\n",
    "\n",
    "The goal in classification is to maximize both **precision** and **recall**. However, there is often a trade-off: as precision increases (by predicting instances we're more confident about), recall tends to decrease, as we may miss some positive class instances by not classifying them unless we’re highly certain."
   ]
  },
  {
   "cell_type": "markdown",
   "id": "b1fab2ac",
   "metadata": {},
   "source": [
    "Let’s calculate precision and recall, then visualize how they vary as we adjust the classification threshold."
   ]
  },
  {
   "cell_type": "code",
   "execution_count": 20,
   "id": "0d64de9a",
   "metadata": {},
   "outputs": [],
   "source": [
    "recall = tp / (tp + fn)\n",
    "precision = tp / (tp + fp)"
   ]
  },
  {
   "cell_type": "code",
   "execution_count": 21,
   "id": "aa813304",
   "metadata": {},
   "outputs": [
    {
     "data": {
      "text/plain": [
       "0.6935483870967742"
      ]
     },
     "execution_count": 21,
     "metadata": {},
     "output_type": "execute_result"
    }
   ],
   "source": [
    "recall"
   ]
  },
  {
   "cell_type": "code",
   "execution_count": 22,
   "id": "3f68160a",
   "metadata": {},
   "outputs": [
    {
     "data": {
      "text/plain": [
       "0.671875"
      ]
     },
     "execution_count": 22,
     "metadata": {},
     "output_type": "execute_result"
    }
   ],
   "source": [
    "precision"
   ]
  },
  {
   "cell_type": "code",
   "execution_count": 23,
   "id": "879c313d",
   "metadata": {},
   "outputs": [
    {
     "name": "stderr",
     "output_type": "stream",
     "text": [
      "C:\\Users\\dimat\\anaconda3\\lib\\site-packages\\sklearn\\metrics\\_classification.py:1327: UndefinedMetricWarning: Precision is ill-defined and being set to 0.0 due to no predicted samples. Use `zero_division` parameter to control this behavior.\n",
      "  _warn_prf(average, modifier, msg_start, len(result))\n",
      "C:\\Users\\dimat\\anaconda3\\lib\\site-packages\\sklearn\\metrics\\_classification.py:1327: UndefinedMetricWarning: Precision is ill-defined and being set to 0.0 due to no predicted samples. Use `zero_division` parameter to control this behavior.\n",
      "  _warn_prf(average, modifier, msg_start, len(result))\n",
      "C:\\Users\\dimat\\anaconda3\\lib\\site-packages\\sklearn\\metrics\\_classification.py:1327: UndefinedMetricWarning: Precision is ill-defined and being set to 0.0 due to no predicted samples. Use `zero_division` parameter to control this behavior.\n",
      "  _warn_prf(average, modifier, msg_start, len(result))\n"
     ]
    },
    {
     "data": {
      "text/html": [
       "<div>\n",
       "<style scoped>\n",
       "    .dataframe tbody tr th:only-of-type {\n",
       "        vertical-align: middle;\n",
       "    }\n",
       "\n",
       "    .dataframe tbody tr th {\n",
       "        vertical-align: top;\n",
       "    }\n",
       "\n",
       "    .dataframe thead th {\n",
       "        text-align: right;\n",
       "    }\n",
       "</style>\n",
       "<table border=\"1\" class=\"dataframe\">\n",
       "  <thead>\n",
       "    <tr style=\"text-align: right;\">\n",
       "      <th></th>\n",
       "      <th>threshold</th>\n",
       "      <th>recall</th>\n",
       "      <th>precision</th>\n",
       "    </tr>\n",
       "  </thead>\n",
       "  <tbody>\n",
       "    <tr>\n",
       "      <th>0</th>\n",
       "      <td>0.000000</td>\n",
       "      <td>1.000000</td>\n",
       "      <td>0.310000</td>\n",
       "    </tr>\n",
       "    <tr>\n",
       "      <th>1</th>\n",
       "      <td>0.052632</td>\n",
       "      <td>0.919355</td>\n",
       "      <td>0.327586</td>\n",
       "    </tr>\n",
       "    <tr>\n",
       "      <th>2</th>\n",
       "      <td>0.105263</td>\n",
       "      <td>0.854839</td>\n",
       "      <td>0.373239</td>\n",
       "    </tr>\n",
       "    <tr>\n",
       "      <th>3</th>\n",
       "      <td>0.157895</td>\n",
       "      <td>0.854839</td>\n",
       "      <td>0.427419</td>\n",
       "    </tr>\n",
       "    <tr>\n",
       "      <th>4</th>\n",
       "      <td>0.210526</td>\n",
       "      <td>0.822581</td>\n",
       "      <td>0.463636</td>\n",
       "    </tr>\n",
       "    <tr>\n",
       "      <th>5</th>\n",
       "      <td>0.263158</td>\n",
       "      <td>0.774194</td>\n",
       "      <td>0.466019</td>\n",
       "    </tr>\n",
       "    <tr>\n",
       "      <th>6</th>\n",
       "      <td>0.315789</td>\n",
       "      <td>0.774194</td>\n",
       "      <td>0.500000</td>\n",
       "    </tr>\n",
       "    <tr>\n",
       "      <th>7</th>\n",
       "      <td>0.368421</td>\n",
       "      <td>0.741935</td>\n",
       "      <td>0.534884</td>\n",
       "    </tr>\n",
       "    <tr>\n",
       "      <th>8</th>\n",
       "      <td>0.421053</td>\n",
       "      <td>0.725806</td>\n",
       "      <td>0.600000</td>\n",
       "    </tr>\n",
       "    <tr>\n",
       "      <th>9</th>\n",
       "      <td>0.473684</td>\n",
       "      <td>0.709677</td>\n",
       "      <td>0.619718</td>\n",
       "    </tr>\n",
       "    <tr>\n",
       "      <th>10</th>\n",
       "      <td>0.526316</td>\n",
       "      <td>0.677419</td>\n",
       "      <td>0.700000</td>\n",
       "    </tr>\n",
       "    <tr>\n",
       "      <th>11</th>\n",
       "      <td>0.578947</td>\n",
       "      <td>0.677419</td>\n",
       "      <td>0.763636</td>\n",
       "    </tr>\n",
       "    <tr>\n",
       "      <th>12</th>\n",
       "      <td>0.631579</td>\n",
       "      <td>0.564516</td>\n",
       "      <td>0.777778</td>\n",
       "    </tr>\n",
       "    <tr>\n",
       "      <th>13</th>\n",
       "      <td>0.684211</td>\n",
       "      <td>0.467742</td>\n",
       "      <td>0.783784</td>\n",
       "    </tr>\n",
       "    <tr>\n",
       "      <th>14</th>\n",
       "      <td>0.736842</td>\n",
       "      <td>0.354839</td>\n",
       "      <td>0.785714</td>\n",
       "    </tr>\n",
       "    <tr>\n",
       "      <th>15</th>\n",
       "      <td>0.789474</td>\n",
       "      <td>0.274194</td>\n",
       "      <td>0.850000</td>\n",
       "    </tr>\n",
       "    <tr>\n",
       "      <th>16</th>\n",
       "      <td>0.842105</td>\n",
       "      <td>0.129032</td>\n",
       "      <td>0.888889</td>\n",
       "    </tr>\n",
       "    <tr>\n",
       "      <th>17</th>\n",
       "      <td>0.894737</td>\n",
       "      <td>0.000000</td>\n",
       "      <td>0.000000</td>\n",
       "    </tr>\n",
       "    <tr>\n",
       "      <th>18</th>\n",
       "      <td>0.947368</td>\n",
       "      <td>0.000000</td>\n",
       "      <td>0.000000</td>\n",
       "    </tr>\n",
       "    <tr>\n",
       "      <th>19</th>\n",
       "      <td>1.000000</td>\n",
       "      <td>0.000000</td>\n",
       "      <td>0.000000</td>\n",
       "    </tr>\n",
       "  </tbody>\n",
       "</table>\n",
       "</div>"
      ],
      "text/plain": [
       "    threshold    recall  precision\n",
       "0    0.000000  1.000000   0.310000\n",
       "1    0.052632  0.919355   0.327586\n",
       "2    0.105263  0.854839   0.373239\n",
       "3    0.157895  0.854839   0.427419\n",
       "4    0.210526  0.822581   0.463636\n",
       "5    0.263158  0.774194   0.466019\n",
       "6    0.315789  0.774194   0.500000\n",
       "7    0.368421  0.741935   0.534884\n",
       "8    0.421053  0.725806   0.600000\n",
       "9    0.473684  0.709677   0.619718\n",
       "10   0.526316  0.677419   0.700000\n",
       "11   0.578947  0.677419   0.763636\n",
       "12   0.631579  0.564516   0.777778\n",
       "13   0.684211  0.467742   0.783784\n",
       "14   0.736842  0.354839   0.785714\n",
       "15   0.789474  0.274194   0.850000\n",
       "16   0.842105  0.129032   0.888889\n",
       "17   0.894737  0.000000   0.000000\n",
       "18   0.947368  0.000000   0.000000\n",
       "19   1.000000  0.000000   0.000000"
      ]
     },
     "execution_count": 23,
     "metadata": {},
     "output_type": "execute_result"
    }
   ],
   "source": [
    "from sklearn.metrics import accuracy_score, recall_score, precision_score\n",
    "thresholds = np.linspace(0, 1, 20)\n",
    "\n",
    "scores = []\n",
    "\n",
    "for t in thresholds:\n",
    "    recall = recall_score(y_val, y_pred >= t)\n",
    "    precision = precision_score(y_val, y_pred >= t)\n",
    "    scores.append((t, recall, precision))\n",
    "    \n",
    "scores_df = pd.DataFrame(scores, columns=['threshold', 'recall', 'precision'])\n",
    "scores_df"
   ]
  },
  {
   "cell_type": "code",
   "execution_count": 24,
   "id": "4c149c24",
   "metadata": {},
   "outputs": [
    {
     "data": {
      "text/plain": [
       "<matplotlib.legend.Legend at 0x19e1bdc1f70>"
      ]
     },
     "execution_count": 24,
     "metadata": {},
     "output_type": "execute_result"
    },
    {
     "data": {
      "image/png": "[encoded data removed]",
      "text/plain": [
       "<Figure size 432x288 with 1 Axes>"
      ]
     },
     "metadata": {
      "needs_background": "light"
     },
     "output_type": "display_data"
    }
   ],
   "source": [
    "plt.plot(scores_df.threshold, scores_df.precision, label='precision')\n",
    "plt.plot(scores_df.threshold, scores_df.recall, label='recall')\n",
    "\n",
    "plt.legend()"
   ]
  },
  {
   "cell_type": "markdown",
   "id": "542c1012",
   "metadata": {},
   "source": [
    "As we increase the threshold to focus on predictions we’re more confident about, precision rises; however, recall decreases as we begin to miss instances that fall below this confidence level.\n",
    "\n",
    "We can disregard the section of the chart beyond a threshold of 0.8, as there are no instances in our validation set with predicted probabilities above this point—resulting in both precision and recall values dropping to zero there."
   ]
  },
  {
   "cell_type": "markdown",
   "id": "abbfb327",
   "metadata": {},
   "source": [
    "In our case of automated medical diagnosis, achieving a high recall is crucial to avoid missing patients with malignant tumors. Missing a malignant case could lead to a lack of timely treatment, which is far more detrimental than incorrectly classifying healthy patients as malignant. False positives can still be corrected during follow-up examinations by medical experts, making high recall the priority in this context."
   ]
  },
  {
   "cell_type": "markdown",
   "id": "20d3c69c",
   "metadata": {},
   "source": [
    "### F1 Score<a id=\"f1\">"
   ]
  },
  {
   "cell_type": "markdown",
   "id": "cba61ea9",
   "metadata": {},
   "source": [
    "A metric that combines both precision and recall is called the **F1 score**, which is their harmonic mean. The harmonic mean is used instead of the arithmetic mean because it balances the two metrics more effectively, giving a lower score if either precision or recall is very low, which helps in cases where we want both metrics to be high.\n",
    "\n",
    "Here's a sample custom implementation of the F1 score, which receives precision and recall as parameters."
   ]
  },
  {
   "cell_type": "code",
   "execution_count": 25,
   "id": "338fca8c",
   "metadata": {},
   "outputs": [
    {
     "data": {
      "text/plain": [
       "0.6825396825396826"
      ]
     },
     "execution_count": 25,
     "metadata": {},
     "output_type": "execute_result"
    }
   ],
   "source": [
    "recall = tp / (tp + fn)\n",
    "precision = tp / (tp + fp)\n",
    "\n",
    "f1 = 2*precision*recall / (precision + recall)\n",
    "f1"
   ]
  },
  {
   "cell_type": "code",
   "execution_count": 26,
   "id": "15b041b7",
   "metadata": {},
   "outputs": [],
   "source": [
    "def f1_score_custom(recall, precision):\n",
    "    return 2*precision*recall / (precision + recall)"
   ]
  },
  {
   "cell_type": "code",
   "execution_count": 27,
   "id": "7eea7162",
   "metadata": {},
   "outputs": [
    {
     "data": {
      "text/plain": [
       "0.6825396825396826"
      ]
     },
     "execution_count": 27,
     "metadata": {},
     "output_type": "execute_result"
    }
   ],
   "source": [
    "f1_score_custom(precision, recall)"
   ]
  },
  {
   "cell_type": "markdown",
   "id": "8b140764",
   "metadata": {},
   "source": [
    "When we call this function with one argument being low, such as `recall = 0.1` and a high `precision = 0.99`, it returns an F1 score of 0.18, effectively weighting the score toward the lower value (recall). This behavior emphasizes the importance of balancing both precision and recall in the F1 metric."
   ]
  },
  {
   "cell_type": "code",
   "execution_count": 28,
   "id": "74f37ca9",
   "metadata": {},
   "outputs": [
    {
     "data": {
      "text/plain": [
       "0.18165137614678897"
      ]
     },
     "execution_count": 28,
     "metadata": {},
     "output_type": "execute_result"
    }
   ],
   "source": [
    "f1_score_custom(0.1, 0.99)"
   ]
  },
  {
   "cell_type": "markdown",
   "id": "1c22cc6c",
   "metadata": {},
   "source": [
    "The `f1_score` function in `sklearn` accepts the true and predicted classes as arguments, allowing it to automatically calculate precision and recall before computing the F1 score."
   ]
  },
  {
   "cell_type": "code",
   "execution_count": 29,
   "id": "7cb7692f",
   "metadata": {},
   "outputs": [
    {
     "data": {
      "text/plain": [
       "0.6825396825396826"
      ]
     },
     "execution_count": 29,
     "metadata": {},
     "output_type": "execute_result"
    }
   ],
   "source": [
    "from sklearn.metrics import f1_score\n",
    "\n",
    "f1_score(y_val, (y_pred >= 0.5))"
   ]
  },
  {
   "cell_type": "markdown",
   "id": "e5e8b6ad",
   "metadata": {},
   "source": [
    "### Confusion Matrix<a id=\"cm\">"
   ]
  },
  {
   "cell_type": "markdown",
   "id": "17a626cd",
   "metadata": {},
   "source": [
    "The **confusion matrix** is another valuable tool for assessing model behavior, offering a detailed view of true positives (TP), false negatives (FN), false positives (FP), and true negatives (TN). Let's create a confusion matrix using the computed values at a classification threshold of 0.5."
   ]
  },
  {
   "cell_type": "code",
   "execution_count": 30,
   "id": "25a67d73",
   "metadata": {},
   "outputs": [],
   "source": [
    "actual_pos = (y_val == 1)\n",
    "actual_neg = (y_val == 0)\n",
    "\n",
    "pred_pos = (y_pred >= 0.5)\n",
    "pred_neg = (y_pred < 0.5)\n",
    "\n",
    "tp = (actual_pos & pred_pos).sum()\n",
    "tn = (actual_neg & pred_neg).sum()\n",
    "fp = (actual_neg & pred_pos).sum()\n",
    "fn = (actual_pos & pred_neg).sum()"
   ]
  },
  {
   "cell_type": "code",
   "execution_count": 31,
   "id": "5865f02c",
   "metadata": {},
   "outputs": [
    {
     "data": {
      "text/plain": [
       "array([[117,  21],\n",
       "       [ 19,  43]], dtype=int64)"
      ]
     },
     "execution_count": 31,
     "metadata": {},
     "output_type": "execute_result"
    }
   ],
   "source": [
    "confusion_matrix = np.array([\n",
    "    [tn, fp],\n",
    "    [fn, tp]\n",
    "])\n",
    "confusion_matrix"
   ]
  },
  {
   "cell_type": "markdown",
   "id": "712e7720",
   "metadata": {},
   "source": [
    "Usually we would not compute the numbers ourselves, but use the `sklearn` implementation to save time; we only need to provide the actual and predicted classes from our dataset as arguments."
   ]
  },
  {
   "cell_type": "code",
   "execution_count": 32,
   "id": "41a7d2af",
   "metadata": {},
   "outputs": [
    {
     "data": {
      "text/plain": [
       "array([[117,  21],\n",
       "       [ 19,  43]], dtype=int64)"
      ]
     },
     "execution_count": 32,
     "metadata": {},
     "output_type": "execute_result"
    }
   ],
   "source": [
    "from sklearn.metrics import confusion_matrix\n",
    "\n",
    "confusion_matrix(y_val, (y_pred >= 0.5))"
   ]
  },
  {
   "cell_type": "markdown",
   "id": "98fc3a1d",
   "metadata": {},
   "source": [
    "By setting `normalize='true'`, we obtain the normalized values in the confusion matrix, giving us proportion for each class in the confusion matrix."
   ]
  },
  {
   "cell_type": "code",
   "execution_count": 33,
   "id": "266714b9",
   "metadata": {},
   "outputs": [
    {
     "data": {
      "text/plain": [
       "array([[0.84782609, 0.15217391],\n",
       "       [0.30645161, 0.69354839]])"
      ]
     },
     "execution_count": 33,
     "metadata": {},
     "output_type": "execute_result"
    }
   ],
   "source": [
    "confusion_matrix(y_val, (y_pred >= 0.5), normalize='true')"
   ]
  },
  {
   "cell_type": "markdown",
   "id": "4defa52c",
   "metadata": {},
   "source": [
    "### ROC - AUC<a id=\"ra\">"
   ]
  },
  {
   "cell_type": "markdown",
   "id": "582216da",
   "metadata": {},
   "source": [
    "The **ROC (Receiver Operating Characteristic) curve** is a tool for evaluating model performance, showing the trade-off between two key metrics: the true positive rate (TPR) and the false positive rate (FPR). \n",
    "\n",
    "- **True Positive Rate (TPR)** represents the proportion of positive class instances correctly identified:\n",
    "  \n",
    "  $\\text{TPR} = \\frac{\\text{TP}}{\\text{TP} + \\text{FN}}$\n",
    "\n",
    "\n",
    "- **False Positive Rate (FPR)** represents the proportion of negative class instances incorrectly classified as positive:\n",
    "\n",
    "  $\\text{FPR} = \\frac{\\text{FP}}{\\text{FP} + \\text{TN}}$\n",
    "  \n",
    "\n",
    "The ROC curve plots TPR against FPR across various classification thresholds, providing insight into model sensitivity and the rate of false alarms."
   ]
  },
  {
   "cell_type": "markdown",
   "id": "a550c1af",
   "metadata": {},
   "source": [
    "Let’s begin by calculating the True Positive Rate (TPR) and False Positive Rate (FPR). We’ll then compute these values across the full range of classification thresholds to analyze model performance."
   ]
  },
  {
   "cell_type": "code",
   "execution_count": 34,
   "id": "ad8f02b0",
   "metadata": {},
   "outputs": [
    {
     "data": {
      "text/plain": [
       "(0.6935483870967742, 0.15217391304347827)"
      ]
     },
     "execution_count": 34,
     "metadata": {},
     "output_type": "execute_result"
    }
   ],
   "source": [
    "tpr = tp / (tp + fn)\n",
    "fpr = fp / (fp + tn)\n",
    "\n",
    "tpr, fpr"
   ]
  },
  {
   "cell_type": "code",
   "execution_count": 35,
   "id": "925155f2",
   "metadata": {},
   "outputs": [],
   "source": [
    "from sklearn.metrics import accuracy_score\n",
    "thresholds = np.linspace(0, 1, 20)\n",
    "\n",
    "scores = []\n",
    "\n",
    "for t in thresholds:\n",
    "    pred_pos = (y_pred >= t)\n",
    "    pred_neg = (y_pred < t)\n",
    "\n",
    "    tp = (actual_pos & pred_pos).sum()\n",
    "    tn = (actual_neg & pred_neg).sum()\n",
    "    fp = (actual_neg & pred_pos).sum()\n",
    "    fn = (actual_pos & pred_neg).sum()\n",
    "                \n",
    "    scores.append((t, tp, tn, fp, fn))\n",
    "    \n",
    "scores_df = pd.DataFrame(scores, columns=['threshold', 'tp', 'tn', 'fp', 'fn'])\n",
    "\n",
    "scores_df['tpr'] = scores_df['tp'] / (scores_df['tp'] + scores_df['fn'])\n",
    "scores_df['fpr'] = scores_df['fp'] / (scores_df['fp'] + scores_df['tn'])"
   ]
  },
  {
   "cell_type": "markdown",
   "id": "54b656eb",
   "metadata": {},
   "source": [
    "Now we can visualize it:"
   ]
  },
  {
   "cell_type": "code",
   "execution_count": 36,
   "id": "7d59832a",
   "metadata": {},
   "outputs": [
    {
     "data": {
      "text/plain": [
       "<matplotlib.legend.Legend at 0x19e1bde5d90>"
      ]
     },
     "execution_count": 36,
     "metadata": {},
     "output_type": "execute_result"
    },
    {
     "data": {
      "image/png": "[encoded data removed]",
      "text/plain": [
       "<Figure size 432x288 with 1 Axes>"
      ]
     },
     "metadata": {
      "needs_background": "light"
     },
     "output_type": "display_data"
    }
   ],
   "source": [
    "plt.plot(scores_df.threshold, scores_df.tpr, label='TPR')\n",
    "plt.plot(scores_df.threshold, scores_df.fpr, label='FPR')\n",
    "plt.xlabel('threshold')\n",
    "plt.ylabel('metric value')\n",
    "plt.legend()"
   ]
  },
  {
   "cell_type": "markdown",
   "id": "79eafc1a",
   "metadata": {},
   "source": [
    "By reversing the chart to plot the False Positive Rate (FPR) against the True Positive Rate (TPR), we obtain the ROC curve."
   ]
  },
  {
   "cell_type": "code",
   "execution_count": 37,
   "id": "964d210e",
   "metadata": {},
   "outputs": [
    {
     "data": {
      "text/plain": [
       "Text(0.5, 1.0, 'ROC Curve')"
      ]
     },
     "execution_count": 37,
     "metadata": {},
     "output_type": "execute_result"
    },
    {
     "data": {
      "image/png": "[encoded data removed]",
      "text/plain": [
       "<Figure size 432x288 with 1 Axes>"
      ]
     },
     "metadata": {
      "needs_background": "light"
     },
     "output_type": "display_data"
    }
   ],
   "source": [
    "plt.plot(scores_df['fpr'], scores_df['tpr'])\n",
    "plt.xlabel(\"False Positive Rate\")\n",
    "plt.ylabel(\"True Positive Rate\")\n",
    "plt.title(\"ROC Curve\")"
   ]
  },
  {
   "cell_type": "markdown",
   "id": "05f6af52",
   "metadata": {},
   "source": [
    "It’s challenging to assess our model’s performance without a baseline for comparison. Let’s create the same chart for a random model (which predicts 0 or 1 randomly) to provide a reference point."
   ]
  },
  {
   "cell_type": "code",
   "execution_count": 38,
   "id": "85fbaf81",
   "metadata": {},
   "outputs": [],
   "source": [
    "y_rand = np.random.uniform(0, 1, size=len(y_val))"
   ]
  },
  {
   "cell_type": "code",
   "execution_count": 39,
   "id": "1c455c6f",
   "metadata": {},
   "outputs": [
    {
     "data": {
      "text/plain": [
       "Text(0, 0.5, 'True Positive Rate')"
      ]
     },
     "execution_count": 39,
     "metadata": {},
     "output_type": "execute_result"
    },
    {
     "data": {
      "image/png": "[encoded data removed]",
      "text/plain": [
       "<Figure size 432x288 with 1 Axes>"
      ]
     },
     "metadata": {
      "needs_background": "light"
     },
     "output_type": "display_data"
    }
   ],
   "source": [
    "from sklearn.metrics import accuracy_score\n",
    "thresholds = np.linspace(0, 1, 20)\n",
    "\n",
    "scores = []\n",
    "\n",
    "for t in thresholds:\n",
    "    pred_pos = (y_rand >= t)\n",
    "    pred_neg = (y_rand < t)\n",
    "\n",
    "    tp = (actual_pos & pred_pos).sum()\n",
    "    tn = (actual_neg & pred_neg).sum()\n",
    "    fp = (actual_neg & pred_pos).sum()\n",
    "    fn = (actual_pos & pred_neg).sum()\n",
    "                \n",
    "    scores.append((t, tp, tn, fp, fn))\n",
    "    \n",
    "scores_df = pd.DataFrame(scores, columns=['threshold', 'tp', 'tn', 'fp', 'fn'])\n",
    "\n",
    "scores_df['tpr'] = scores_df['tp'] / (scores_df['tp'] + scores_df['fn'])\n",
    "scores_df['fpr'] = scores_df['fp'] / (scores_df['fp'] + scores_df['tn'])\n",
    "\n",
    "plt.plot(scores_df['fpr'], scores_df['tpr'])\n",
    "plt.xlabel(\"False Positive Rate\")\n",
    "plt.ylabel(\"True Positive Rate\")"
   ]
  },
  {
   "cell_type": "markdown",
   "id": "ad25cec2",
   "metadata": {},
   "source": [
    "For a random model, the ROC curve is always a diagonal line. If our model’s ROC curve lies above this line, it indicates that our model performs better than random guessing. Think of it this way: for a given False Positive Rate (FPR), we want to achieve the highest possible True Positive Rate (TPR)."
   ]
  },
  {
   "cell_type": "markdown",
   "id": "c45d238b",
   "metadata": {},
   "source": [
    "A metric that condenses the ROC curve into a single value is called AUC (Area Under the Curve). It represents the area under the ROC curve, with an AUC of 0.5 corresponding to a random model and a maximum value of 1 indicating an ideal model.\n",
    "\n",
    "sklearn provides a built-in implementation of the AUC metric for easy calculation."
   ]
  },
  {
   "cell_type": "code",
   "execution_count": 40,
   "id": "c1a7cc8b",
   "metadata": {},
   "outputs": [
    {
     "data": {
      "text/plain": [
       "0.770687237026648"
      ]
     },
     "execution_count": 40,
     "metadata": {},
     "output_type": "execute_result"
    }
   ],
   "source": [
    "from sklearn.metrics import roc_auc_score\n",
    "\n",
    "roc_auc_score(y_val, (y_pred >= 0.5))"
   ]
  },
  {
   "cell_type": "markdown",
   "id": "7d958f80",
   "metadata": {},
   "source": [
    "### Which classification metric to choose when:<a id=\"guide-cm\">"
   ]
  },
  {
   "cell_type": "markdown",
   "id": "4ed2db92",
   "metadata": {},
   "source": [
    "Choosing the right classification metric depends on the specific goals of the model, the nature of the dataset, and the consequences of different types of errors. Here’s a guide to selecting appropriate metrics based on different scenarios:\n",
    "\n",
    "1. **Accuracy**: \n",
    "   - **Use when**: The dataset is balanced, and both classes are equally important.\n",
    "   - **Avoid when**: The dataset is imbalanced, as accuracy may be misleading by favoring the majority class.\n",
    "\n",
    "2. **Precision**:\n",
    "   - **Use when**: False positives are costly. For example, in spam detection, you may want high precision to minimize the chance of misclassifying legitimate emails as spam.\n",
    "   - **Avoid when**: Missing positive instances (false negatives) is more critical than avoiding false positives.\n",
    "\n",
    "3. **Recall**:\n",
    "   - **Use when**: False negatives are costly. For instance, in medical diagnosis, high recall is crucial to ensure that as many positive cases as possible (e.g., malignant tumors) are identified.\n",
    "   - **Avoid when**: False positives are more detrimental than false negatives.\n",
    "\n",
    "4. **F1 Score**:\n",
    "   - **Use when**: You need a balance between precision and recall, especially in cases where both false positives and false negatives are significant. The F1 score is useful when the dataset is imbalanced and neither precision nor recall alone is sufficient.\n",
    "   - **Avoid when**: The dataset is balanced, and there’s no need to balance between precision and recall. In such cases, accuracy may be a simpler and more interpretable metric.\n",
    "\n",
    "6. **ROC-AUC (Receiver Operating Characteristic - Area Under the Curve)**:\n",
    "   - **Use when**: You need to evaluate the trade-off between the true positive rate and false positive rate across various thresholds. ROC-AUC is especially useful when comparing the performance of multiple models.\n",
    "   - **Avoid when**: The dataset is highly imbalanced.\n",
    "   \n",
    "Selecting the right metric ensures that the model evaluation aligns with the goals of the application, helping you make informed decisions about model performance and any required adjustments."
   ]
  },
  {
   "cell_type": "markdown",
   "id": "6425c5f6",
   "metadata": {},
   "source": [
    "## Regression Metrics<a id=\"regression\">"
   ]
  },
  {
   "cell_type": "markdown",
   "id": "c10f6705",
   "metadata": {},
   "source": [
    "In regression, instead of classifying the instance, we need to predict a continous value.\n",
    "Let’s load the house prices dataset we worked with previously. As you may recall, our task is to predict the sale price of a house based on multiple features."
   ]
  },
  {
   "cell_type": "code",
   "execution_count": 41,
   "id": "97829f24",
   "metadata": {},
   "outputs": [],
   "source": [
    "df = pd.read_csv('data/house_prices_multiple_features.csv')"
   ]
  },
  {
   "cell_type": "code",
   "execution_count": 42,
   "id": "3af044d2",
   "metadata": {},
   "outputs": [],
   "source": [
    "from sklearn.compose import ColumnTransformer\n",
    "from sklearn.preprocessing import OrdinalEncoder\n",
    "from sklearn.pipeline import Pipeline\n",
    "from sklearn.impute import SimpleImputer\n",
    "from sklearn.preprocessing import StandardScaler\n",
    "\n",
    "numerical_transformer = Pipeline(steps=[\n",
    "    ('imputer', SimpleImputer()), \n",
    "    ('scaler', StandardScaler()) \n",
    "])\n",
    "\n",
    "categorical_transformer = Pipeline(steps=[\n",
    "    ('encoder', OrdinalEncoder(categories=[['Fa', 'TA', 'Gd', 'Ex']])) \n",
    "])\n",
    "\n",
    "preprocessor = ColumnTransformer(transformers=[\n",
    "    ('num', numerical_transformer, ['OverallQual', 'GrLivArea', 'BedroomAbvGr', 'GarageArea', 'YearBuilt']),  \n",
    "    ('cat', categorical_transformer, ['KitchenQual'])  \n",
    "])"
   ]
  },
  {
   "cell_type": "code",
   "execution_count": 43,
   "id": "7483d3d1",
   "metadata": {},
   "outputs": [],
   "source": [
    "X_train, X_val, y_train, y_val = train_test_split(df.drop(columns='SalePrice'), df['SalePrice'], random_state=0, test_size=0.3)"
   ]
  },
  {
   "cell_type": "code",
   "execution_count": 44,
   "id": "6d436333",
   "metadata": {},
   "outputs": [],
   "source": [
    "X_train_transformed = preprocessor.fit_transform(X_train)\n",
    "X_val_transformed = preprocessor.transform(X_val)"
   ]
  },
  {
   "cell_type": "code",
   "execution_count": 45,
   "id": "763bf3d9",
   "metadata": {},
   "outputs": [
    {
     "data": {
      "text/html": [
       "<style>#sk-container-id-2 {color: black;background-color: white;}#sk-container-id-2 pre{padding: 0;}#sk-container-id-2 div.sk-toggleable {background-color: white;}#sk-container-id-2 label.sk-toggleable__label {cursor: pointer;display: block;width: 100%;margin-bottom: 0;padding: 0.3em;box-sizing: border-box;text-align: center;}#sk-container-id-2 label.sk-toggleable__label-arrow:before {content: \"▸\";float: left;margin-right: 0.25em;color: #696969;}#sk-container-id-2 label.sk-toggleable__label-arrow:hover:before {color: black;}#sk-container-id-2 div.sk-estimator:hover label.sk-toggleable__label-arrow:before {color: black;}#sk-container-id-2 div.sk-toggleable__content {max-height: 0;max-width: 0;overflow: hidden;text-align: left;background-color: #f0f8ff;}#sk-container-id-2 div.sk-toggleable__content pre {margin: 0.2em;color: black;border-radius: 0.25em;background-color: #f0f8ff;}#sk-container-id-2 input.sk-toggleable__control:checked~div.sk-toggleable__content {max-height: 200px;max-width: 100%;overflow: auto;}#sk-container-id-2 input.sk-toggleable__control:checked~label.sk-toggleable__label-arrow:before {content: \"▾\";}#sk-container-id-2 div.sk-estimator input.sk-toggleable__control:checked~label.sk-toggleable__label {background-color: #d4ebff;}#sk-container-id-2 div.sk-label input.sk-toggleable__control:checked~label.sk-toggleable__label {background-color: #d4ebff;}#sk-container-id-2 input.sk-hidden--visually {border: 0;clip: rect(1px 1px 1px 1px);clip: rect(1px, 1px, 1px, 1px);height: 1px;margin: -1px;overflow: hidden;padding: 0;position: absolute;width: 1px;}#sk-container-id-2 div.sk-estimator {font-family: monospace;background-color: #f0f8ff;border: 1px dotted black;border-radius: 0.25em;box-sizing: border-box;margin-bottom: 0.5em;}#sk-container-id-2 div.sk-estimator:hover {background-color: #d4ebff;}#sk-container-id-2 div.sk-parallel-item::after {content: \"\";width: 100%;border-bottom: 1px solid gray;flex-grow: 1;}#sk-container-id-2 div.sk-label:hover label.sk-toggleable__label {background-color: #d4ebff;}#sk-container-id-2 div.sk-serial::before {content: \"\";position: absolute;border-left: 1px solid gray;box-sizing: border-box;top: 0;bottom: 0;left: 50%;z-index: 0;}#sk-container-id-2 div.sk-serial {display: flex;flex-direction: column;align-items: center;background-color: white;padding-right: 0.2em;padding-left: 0.2em;position: relative;}#sk-container-id-2 div.sk-item {position: relative;z-index: 1;}#sk-container-id-2 div.sk-parallel {display: flex;align-items: stretch;justify-content: center;background-color: white;position: relative;}#sk-container-id-2 div.sk-item::before, #sk-container-id-2 div.sk-parallel-item::before {content: \"\";position: absolute;border-left: 1px solid gray;box-sizing: border-box;top: 0;bottom: 0;left: 50%;z-index: -1;}#sk-container-id-2 div.sk-parallel-item {display: flex;flex-direction: column;z-index: 1;position: relative;background-color: white;}#sk-container-id-2 div.sk-parallel-item:first-child::after {align-self: flex-end;width: 50%;}#sk-container-id-2 div.sk-parallel-item:last-child::after {align-self: flex-start;width: 50%;}#sk-container-id-2 div.sk-parallel-item:only-child::after {width: 0;}#sk-container-id-2 div.sk-dashed-wrapped {border: 1px dashed gray;margin: 0 0.4em 0.5em 0.4em;box-sizing: border-box;padding-bottom: 0.4em;background-color: white;}#sk-container-id-2 div.sk-label label {font-family: monospace;font-weight: bold;display: inline-block;line-height: 1.2em;}#sk-container-id-2 div.sk-label-container {text-align: center;}#sk-container-id-2 div.sk-container {/* jupyter's `normalize.less` sets `[hidden] { display: none; }` but bootstrap.min.css set `[hidden] { display: none !important; }` so we also need the `!important` here to be able to override the default hidden behavior on the sphinx rendered scikit-learn.org. See: https://github.com/scikit-learn/scikit-learn/issues/21755 */display: inline-block !important;position: relative;}#sk-container-id-2 div.sk-text-repr-fallback {display: none;}</style><div id=\"sk-container-id-2\" class=\"sk-top-container\"><div class=\"sk-text-repr-fallback\"><pre>LinearRegression()</pre><b>In a Jupyter environment, please rerun this cell to show the HTML representation or trust the notebook. <br />On GitHub, the HTML representation is unable to render, please try loading this page with nbviewer.org.</b></div><div class=\"sk-container\" hidden><div class=\"sk-item\"><div class=\"sk-estimator sk-toggleable\"><input class=\"sk-toggleable__control sk-hidden--visually\" id=\"sk-estimator-id-2\" type=\"checkbox\" checked><label for=\"sk-estimator-id-2\" class=\"sk-toggleable__label sk-toggleable__label-arrow\">LinearRegression</label><div class=\"sk-toggleable__content\"><pre>LinearRegression()</pre></div></div></div></div></div>"
      ],
      "text/plain": [
       "LinearRegression()"
      ]
     },
     "execution_count": 45,
     "metadata": {},
     "output_type": "execute_result"
    }
   ],
   "source": [
    "from sklearn.linear_model import LinearRegression\n",
    "\n",
    "model = LinearRegression()\n",
    "\n",
    "model.fit(X_train_transformed, y_train)"
   ]
  },
  {
   "cell_type": "code",
   "execution_count": 46,
   "id": "516ec146",
   "metadata": {},
   "outputs": [],
   "source": [
    "y_pred = model.predict(X_val_transformed)"
   ]
  },
  {
   "cell_type": "markdown",
   "id": "686f65fc",
   "metadata": {},
   "source": [
    "### MSE<a id=\"mse\">"
   ]
  },
  {
   "cell_type": "markdown",
   "id": "daf84904",
   "metadata": {},
   "source": [
    "The Mean Squared Error (MSE) metric calculates the average of the squared differences between actual values and predicted values. It is computed as follows:\n",
    "\n",
    "$\\text{MSE} = \\frac{1}{n} \\sum_{i=1}^{n} (y_i - \\hat{y}_i)^2$\n",
    "\n",
    "where $y_i$ represents the actual values, $\\hat{y}_i$ the predicted values, and $n$ is the total number of observations.\n",
    "\n",
    "Below you can find a custom implementation:"
   ]
  },
  {
   "cell_type": "code",
   "execution_count": 47,
   "id": "5ea7cbc0",
   "metadata": {},
   "outputs": [],
   "source": [
    "def mse(y_true, y_pred):\n",
    "    return np.mean((y_true - y_pred)**2)"
   ]
  },
  {
   "cell_type": "code",
   "execution_count": 48,
   "id": "4a02f1c0",
   "metadata": {},
   "outputs": [
    {
     "data": {
      "text/plain": [
       "1840279553.2686558"
      ]
     },
     "execution_count": 48,
     "metadata": {},
     "output_type": "execute_result"
    }
   ],
   "source": [
    "mse(y_val, y_pred)"
   ]
  },
  {
   "cell_type": "markdown",
   "id": "c9dccc8d",
   "metadata": {},
   "source": [
    "Interpreting MSE can be challenging because it squares all errors, making them less intuitive to understand. An alternative metric, the Root Mean Squared Error (RMSE), normalizes the result by taking the square root of the average of squared differences."
   ]
  },
  {
   "cell_type": "markdown",
   "id": "eb7794b9",
   "metadata": {},
   "source": [
    "### RMSE<a id=\"rmse\">"
   ]
  },
  {
   "cell_type": "markdown",
   "id": "c5bf68af",
   "metadata": {},
   "source": [
    "\n",
    "RMSE is calculated as follows:\n",
    "\n",
    "$\\text{RMSE} = \\sqrt{\\frac{1}{n} \\sum_{i=1}^{n} (y_i - \\hat{y}_i)^2}$\n",
    "\n",
    "\n",
    "where $y_i$ represents the actual values, $\\hat{y}_i$ the predicted values, and $n$ is the total number of observations. RMSE is in the same unit as the target variable, making it easier to interpret."
   ]
  },
  {
   "cell_type": "code",
   "execution_count": 49,
   "id": "197d6382",
   "metadata": {},
   "outputs": [],
   "source": [
    "def rmse(y_true, y_pred):\n",
    "    return np.sqrt(np.mean((y_true-y_pred)**2))\n"
   ]
  },
  {
   "cell_type": "code",
   "execution_count": 50,
   "id": "190864c4",
   "metadata": {},
   "outputs": [
    {
     "data": {
      "text/plain": [
       "42898.47961488444"
      ]
     },
     "execution_count": 50,
     "metadata": {},
     "output_type": "execute_result"
    }
   ],
   "source": [
    "rmse(y_val, y_pred)"
   ]
  },
  {
   "cell_type": "markdown",
   "id": "7952f762",
   "metadata": {},
   "source": [
    "RMSE on the validation set for predicting house price is 42898.48. Based on this, we can understand that, on average, our model's predictions differ from the actual house prices by approximately $42,898."
   ]
  },
  {
   "cell_type": "markdown",
   "id": "89949d26",
   "metadata": {},
   "source": [
    "### MAE<a id=\"mae\">"
   ]
  },
  {
   "cell_type": "markdown",
   "id": "13dc408f",
   "metadata": {},
   "source": [
    "MAE is another metric for regression tasks; it computes the mean absolute error. The formula is:\n",
    "\n",
    "$\\text{MAE} = \\frac{1}{n} \\sum_{i=1}^{n} | \\hat{y}_i - y_i |$\n",
    "\n",
    "where $\\hat{y}_i$ represents the predicted values, $y_i$ the actual values, and $n$ the number of observations.\n",
    "\n",
    "Compared to RMSE, MAE is more robust to outliers because it calculates the average of absolute errors rather than squaring them. This way, large errors don’t get amplified, making MAE less sensitive to individual large deviations and providing a better estimate of typical error in cases where outliers are present."
   ]
  },
  {
   "cell_type": "code",
   "execution_count": 51,
   "id": "52bc85f7",
   "metadata": {},
   "outputs": [],
   "source": [
    "def mae(y_true, y_pred):\n",
    "    return np.mean(np.abs(y_true-y_pred))"
   ]
  },
  {
   "cell_type": "code",
   "execution_count": 52,
   "id": "0a446786",
   "metadata": {},
   "outputs": [
    {
     "data": {
      "text/plain": [
       "25799.878436840398"
      ]
     },
     "execution_count": 52,
     "metadata": {},
     "output_type": "execute_result"
    }
   ],
   "source": [
    "mae(y_val, y_pred)"
   ]
  },
  {
   "cell_type": "markdown",
   "id": "83c7be2d",
   "metadata": {},
   "source": [
    "### MAPE<a id=\"mape\">"
   ]
  },
  {
   "cell_type": "markdown",
   "id": "15f042db",
   "metadata": {},
   "source": [
    "MAPE (Mean Absolute Percentage Error) is a regression metric that calculates the average absolute percentage difference between predicted and actual values, providing a measure of prediction accuracy in percentage terms. The formula is:\n",
    "\n",
    "$\\text{MAPE} = \\frac{1}{n} \\sum_{i=1}^{n} \\left| \\frac{y_i - \\hat{y}_i}{y_i} \\right| \\times 100$\n",
    "\n",
    "where $\\hat{y}_i$ represents the predicted values, $y_i$ the actual values, and $n$ the number of observations.\n",
    "\n",
    "**Advantages:**\n",
    "- **Interpretability**: Since MAPE expresses error as a percentage, it is easy to interpret, making it intuitive for stakeholders to understand model accuracy.\n",
    "- **Scale Independence**: MAPE is not affected by the scale of data, allowing comparisons across different datasets or variables.\n",
    "\n",
    "**Disadvantages:**\n",
    "- **Division by Zero**: If actual values $y_i$ include zero, MAPE becomes undefined or skewed, which can lead to misleading results.\n",
    "- **Sensitivity to Small Values**: When actual values are very close to zero, even small prediction errors cause large percentage errors, potentially inflating the MAPE. This makes it less reliable for datasets with values near zero."
   ]
  },
  {
   "cell_type": "code",
   "execution_count": 53,
   "id": "f1da1477",
   "metadata": {},
   "outputs": [],
   "source": [
    "def mape(y_true, y_pred):\n",
    "    return np.mean(np.abs((y_true-y_pred) / y_true)) * 100"
   ]
  },
  {
   "cell_type": "code",
   "execution_count": 54,
   "id": "e3939f39",
   "metadata": {},
   "outputs": [
    {
     "data": {
      "text/plain": [
       "15.103872594333199"
      ]
     },
     "execution_count": 54,
     "metadata": {},
     "output_type": "execute_result"
    }
   ],
   "source": [
    "mape(y_val, y_pred) # result in percentages"
   ]
  },
  {
   "cell_type": "markdown",
   "id": "1a6ee6fe",
   "metadata": {},
   "source": [
    "### R squared<a id=\"r2\">"
   ]
  },
  {
   "cell_type": "markdown",
   "id": "7af5b4f3",
   "metadata": {},
   "source": [
    "R², or the coefficient of determination, is another regression metric that measures how well your model explains the variance in the target variable compared to a baseline of simply using the average (mean) prediction. An R² value of 1 means the model perfectly explains the variance, while an R² of 0 means it performs no better than predicting the mean of the target values.\n",
    "\n",
    "It’s computed using the formula:\n",
    "\n",
    "$$\n",
    "R^2 = 1 - \\frac{\\sum_{i=1}^{n} (y_i - \\hat{y}_i)^2}{\\sum_{i=1}^{n} (y_i - \\bar{y})^2}\n",
    "$$\n",
    "\n",
    "where:\n",
    "- $y_i$ are the actual values,\n",
    "- $\\hat{y}_i$ are the predicted values,\n",
    "- $\\bar{y}$ is the mean of the actual values, and\n",
    "- $n$ is the number of observations.\n",
    "\n",
    "In essence, R² compares your model’s predictions to the average prediction (mean of actual values), showing how much better (or worse) your model performs relative to this baseline. A negative R² indicates that the model performs worse than the mean prediction."
   ]
  },
  {
   "cell_type": "code",
   "execution_count": 55,
   "id": "908611b7",
   "metadata": {},
   "outputs": [],
   "source": [
    "def r2_score(y_true, y_pred):\n",
    "    total_variance = np.sum((y_true - np.mean(y_true)) ** 2)\n",
    "    residual_variance = np.sum((y_true - y_pred) ** 2)\n",
    "    return 1 - (residual_variance / total_variance)"
   ]
  },
  {
   "cell_type": "code",
   "execution_count": 56,
   "id": "9b968765",
   "metadata": {},
   "outputs": [
    {
     "data": {
      "text/plain": [
       "0.7289318200985097"
      ]
     },
     "execution_count": 56,
     "metadata": {},
     "output_type": "execute_result"
    }
   ],
   "source": [
    "r2_score(y_val, y_pred)"
   ]
  },
  {
   "cell_type": "markdown",
   "id": "6b7225c9",
   "metadata": {},
   "source": [
    "Here’s how you can use these regression metric implementations from `sklearn`:\n",
    "\n"
   ]
  },
  {
   "cell_type": "code",
   "execution_count": 57,
   "id": "8ffbfd7c",
   "metadata": {},
   "outputs": [
    {
     "name": "stdout",
     "output_type": "stream",
     "text": [
      "MSE: 1840279553.2686565\n",
      "RMSE: 42898.47961488445\n",
      "MAE: 25799.878436840398\n",
      "MAPE: 0.15103872594333204\n",
      "R-squared: 0.7289318200985097\n"
     ]
    }
   ],
   "source": [
    "from sklearn.metrics import mean_squared_error as mse, mean_absolute_error as mae, mean_absolute_percentage_error as mape, r2_score as r2\n",
    "import numpy as np\n",
    "\n",
    "# Assuming y_val and y_pred are your actual and predicted values\n",
    "mse_value = mse(y_val, y_pred)\n",
    "rmse_value = np.sqrt(mse_value)  # RMSE is the square root of MSE\n",
    "mae_value = mae(y_val, y_pred)\n",
    "mape_value = mape(y_val, y_pred)\n",
    "r2_value = r2(y_val, y_pred)\n",
    "\n",
    "print(f\"MSE: {mse_value}\")\n",
    "print(f\"RMSE: {rmse_value}\")\n",
    "print(f\"MAE: {mae_value}\")\n",
    "print(f\"MAPE: {mape_value}\")\n",
    "print(f\"R-squared: {r2_value}\")"
   ]
  },
  {
   "cell_type": "markdown",
   "id": "d7dd8eac",
   "metadata": {},
   "source": [
    "### Advantages/Disadvantages:<a id=\"reg-other\">"
   ]
  },
  {
   "cell_type": "markdown",
   "id": "9ea56677",
   "metadata": {},
   "source": [
    "$MSE$ (Mean Squared Error) is commonly used in model training because it is mathematically simple and works well with gradient-based optimization. By squaring the errors, it places more emphasis on larger discrepancies, making it highly sensitive to outliers. This can skew the metric when the dataset includes extreme values. Additionally, MSE leaves the result in squared units, which can make interpretation less intuitive.\n",
    "\n",
    "$RMSE$ (Root Mean Squared Error) is the square root of MSE, converting the error metric back to the original units of the target variable. This makes RMSE easier to interpret compared to MSE and retains the property of emphasizing larger errors, but in the same units as the target, enhancing interpretability.\n",
    "\n",
    "$MAE$ (Mean Absolute Error) is the average of absolute errors, presented in the same units as the target variable. It’s less sensitive to outliers than MSE or RMSE, treating all errors equally, and is useful when you want a straightforward, interpretable error metric without penalizing larger errors more heavily.\n",
    "\n",
    "$MAPE$ (Mean Absolute Percentage Error) expresses errors as a percentage of actual values, making it suitable for business and financial contexts where relative accuracy is key. However, it can inflate errors with small or zero values, so it’s best for datasets with consistently positive values.\n",
    "\n",
    "$R^2$ (R-squared) measures the proportion of variance in the target variable explained by the model, comparing model predictions to the mean of the target variable. An $R^2$ of 1 indicates a perfect fit, while 0 suggests the model performs no better than the mean. This metric provides insight into the model’s explanatory power rather than direct error measurement. $R^2$ can be misleading in the presence of overfitting or if the relationship is nonlinear.\n",
    "\n",
    "In practice, a combination of these metrics is often used to gain a comprehensive view of model performance."
   ]
  },
  {
   "cell_type": "markdown",
   "id": "3ecb6d5f",
   "metadata": {},
   "source": [
    "## Model Validation<a id=\"validation\">"
   ]
  },
  {
   "cell_type": "markdown",
   "id": "b353a29e",
   "metadata": {},
   "source": [
    "Let's load the CreditScoring dataset from a previous lecture. Our goal is to predict a client's status—specifically, whether they defaulted or not on their credit."
   ]
  },
  {
   "cell_type": "code",
   "execution_count": 58,
   "id": "83818d49",
   "metadata": {},
   "outputs": [],
   "source": [
    "df = pd.read_csv('data/CreditScoring_final.csv')\n",
    "df = df[df.status.notna()]"
   ]
  },
  {
   "cell_type": "code",
   "execution_count": 59,
   "id": "6f690cfc",
   "metadata": {},
   "outputs": [
    {
     "data": {
      "text/html": [
       "<div>\n",
       "<style scoped>\n",
       "    .dataframe tbody tr th:only-of-type {\n",
       "        vertical-align: middle;\n",
       "    }\n",
       "\n",
       "    .dataframe tbody tr th {\n",
       "        vertical-align: top;\n",
       "    }\n",
       "\n",
       "    .dataframe thead th {\n",
       "        text-align: right;\n",
       "    }\n",
       "</style>\n",
       "<table border=\"1\" class=\"dataframe\">\n",
       "  <thead>\n",
       "    <tr style=\"text-align: right;\">\n",
       "      <th></th>\n",
       "      <th>status</th>\n",
       "      <th>seniority</th>\n",
       "      <th>home</th>\n",
       "      <th>time</th>\n",
       "      <th>age</th>\n",
       "      <th>marital</th>\n",
       "      <th>records</th>\n",
       "      <th>job</th>\n",
       "      <th>expenses</th>\n",
       "      <th>income</th>\n",
       "      <th>assets</th>\n",
       "      <th>debt</th>\n",
       "      <th>amount</th>\n",
       "      <th>price</th>\n",
       "    </tr>\n",
       "  </thead>\n",
       "  <tbody>\n",
       "    <tr>\n",
       "      <th>0</th>\n",
       "      <td>ok</td>\n",
       "      <td>5</td>\n",
       "      <td>owner</td>\n",
       "      <td>18</td>\n",
       "      <td>29</td>\n",
       "      <td>married</td>\n",
       "      <td>0</td>\n",
       "      <td>fixed</td>\n",
       "      <td>45</td>\n",
       "      <td>142</td>\n",
       "      <td>6000</td>\n",
       "      <td>3000</td>\n",
       "      <td>450</td>\n",
       "      <td>1678</td>\n",
       "    </tr>\n",
       "    <tr>\n",
       "      <th>1</th>\n",
       "      <td>ok</td>\n",
       "      <td>12</td>\n",
       "      <td>owner</td>\n",
       "      <td>36</td>\n",
       "      <td>56</td>\n",
       "      <td>married</td>\n",
       "      <td>0</td>\n",
       "      <td>fixed</td>\n",
       "      <td>75</td>\n",
       "      <td>205</td>\n",
       "      <td>5500</td>\n",
       "      <td>1950</td>\n",
       "      <td>275</td>\n",
       "      <td>300</td>\n",
       "    </tr>\n",
       "    <tr>\n",
       "      <th>2</th>\n",
       "      <td>ok</td>\n",
       "      <td>2</td>\n",
       "      <td>parents</td>\n",
       "      <td>36</td>\n",
       "      <td>19</td>\n",
       "      <td>married</td>\n",
       "      <td>0</td>\n",
       "      <td>fixed</td>\n",
       "      <td>35</td>\n",
       "      <td>162</td>\n",
       "      <td>4000</td>\n",
       "      <td>100</td>\n",
       "      <td>400</td>\n",
       "      <td>570</td>\n",
       "    </tr>\n",
       "    <tr>\n",
       "      <th>3</th>\n",
       "      <td>ok</td>\n",
       "      <td>10</td>\n",
       "      <td>owner</td>\n",
       "      <td>48</td>\n",
       "      <td>50</td>\n",
       "      <td>married</td>\n",
       "      <td>0</td>\n",
       "      <td>freelance</td>\n",
       "      <td>45</td>\n",
       "      <td>128</td>\n",
       "      <td>11500</td>\n",
       "      <td>0</td>\n",
       "      <td>500</td>\n",
       "      <td>1195</td>\n",
       "    </tr>\n",
       "    <tr>\n",
       "      <th>4</th>\n",
       "      <td>ok</td>\n",
       "      <td>2</td>\n",
       "      <td>parents</td>\n",
       "      <td>36</td>\n",
       "      <td>34</td>\n",
       "      <td>married</td>\n",
       "      <td>0</td>\n",
       "      <td>fixed</td>\n",
       "      <td>60</td>\n",
       "      <td>400</td>\n",
       "      <td>9800</td>\n",
       "      <td>0</td>\n",
       "      <td>900</td>\n",
       "      <td>1316</td>\n",
       "    </tr>\n",
       "    <tr>\n",
       "      <th>...</th>\n",
       "      <td>...</td>\n",
       "      <td>...</td>\n",
       "      <td>...</td>\n",
       "      <td>...</td>\n",
       "      <td>...</td>\n",
       "      <td>...</td>\n",
       "      <td>...</td>\n",
       "      <td>...</td>\n",
       "      <td>...</td>\n",
       "      <td>...</td>\n",
       "      <td>...</td>\n",
       "      <td>...</td>\n",
       "      <td>...</td>\n",
       "      <td>...</td>\n",
       "    </tr>\n",
       "    <tr>\n",
       "      <th>3113</th>\n",
       "      <td>ok</td>\n",
       "      <td>20</td>\n",
       "      <td>other</td>\n",
       "      <td>60</td>\n",
       "      <td>39</td>\n",
       "      <td>married</td>\n",
       "      <td>0</td>\n",
       "      <td>fixed</td>\n",
       "      <td>60</td>\n",
       "      <td>119</td>\n",
       "      <td>0</td>\n",
       "      <td>0</td>\n",
       "      <td>1300</td>\n",
       "      <td>1639</td>\n",
       "    </tr>\n",
       "    <tr>\n",
       "      <th>3114</th>\n",
       "      <td>default</td>\n",
       "      <td>2</td>\n",
       "      <td>priv</td>\n",
       "      <td>60</td>\n",
       "      <td>53</td>\n",
       "      <td>married</td>\n",
       "      <td>0</td>\n",
       "      <td>fixed</td>\n",
       "      <td>75</td>\n",
       "      <td>85</td>\n",
       "      <td>7000</td>\n",
       "      <td>0</td>\n",
       "      <td>1050</td>\n",
       "      <td>1172</td>\n",
       "    </tr>\n",
       "    <tr>\n",
       "      <th>3115</th>\n",
       "      <td>ok</td>\n",
       "      <td>8</td>\n",
       "      <td>owner</td>\n",
       "      <td>48</td>\n",
       "      <td>52</td>\n",
       "      <td>married</td>\n",
       "      <td>0</td>\n",
       "      <td>fixed</td>\n",
       "      <td>60</td>\n",
       "      <td>105</td>\n",
       "      <td>3500</td>\n",
       "      <td>0</td>\n",
       "      <td>1000</td>\n",
       "      <td>1887</td>\n",
       "    </tr>\n",
       "    <tr>\n",
       "      <th>3116</th>\n",
       "      <td>ok</td>\n",
       "      <td>2</td>\n",
       "      <td>owner</td>\n",
       "      <td>36</td>\n",
       "      <td>30</td>\n",
       "      <td>married</td>\n",
       "      <td>0</td>\n",
       "      <td>fixed</td>\n",
       "      <td>45</td>\n",
       "      <td>350</td>\n",
       "      <td>4000</td>\n",
       "      <td>0</td>\n",
       "      <td>800</td>\n",
       "      <td>1800</td>\n",
       "    </tr>\n",
       "    <tr>\n",
       "      <th>3117</th>\n",
       "      <td>ok</td>\n",
       "      <td>1</td>\n",
       "      <td>owner</td>\n",
       "      <td>36</td>\n",
       "      <td>31</td>\n",
       "      <td>married</td>\n",
       "      <td>0</td>\n",
       "      <td>fixed</td>\n",
       "      <td>45</td>\n",
       "      <td>197</td>\n",
       "      <td>8000</td>\n",
       "      <td>300</td>\n",
       "      <td>1590</td>\n",
       "      <td>1597</td>\n",
       "    </tr>\n",
       "  </tbody>\n",
       "</table>\n",
       "<p>3117 rows × 14 columns</p>\n",
       "</div>"
      ],
      "text/plain": [
       "       status  seniority     home  time  age  marital  records        job  \\\n",
       "0          ok          5    owner    18   29  married        0      fixed   \n",
       "1          ok         12    owner    36   56  married        0      fixed   \n",
       "2          ok          2  parents    36   19  married        0      fixed   \n",
       "3          ok         10    owner    48   50  married        0  freelance   \n",
       "4          ok          2  parents    36   34  married        0      fixed   \n",
       "...       ...        ...      ...   ...  ...      ...      ...        ...   \n",
       "3113       ok         20    other    60   39  married        0      fixed   \n",
       "3114  default          2     priv    60   53  married        0      fixed   \n",
       "3115       ok          8    owner    48   52  married        0      fixed   \n",
       "3116       ok          2    owner    36   30  married        0      fixed   \n",
       "3117       ok          1    owner    36   31  married        0      fixed   \n",
       "\n",
       "      expenses  income  assets  debt  amount  price  \n",
       "0           45     142    6000  3000     450   1678  \n",
       "1           75     205    5500  1950     275    300  \n",
       "2           35     162    4000   100     400    570  \n",
       "3           45     128   11500     0     500   1195  \n",
       "4           60     400    9800     0     900   1316  \n",
       "...        ...     ...     ...   ...     ...    ...  \n",
       "3113        60     119       0     0    1300   1639  \n",
       "3114        75      85    7000     0    1050   1172  \n",
       "3115        60     105    3500     0    1000   1887  \n",
       "3116        45     350    4000     0     800   1800  \n",
       "3117        45     197    8000   300    1590   1597  \n",
       "\n",
       "[3117 rows x 14 columns]"
      ]
     },
     "execution_count": 59,
     "metadata": {},
     "output_type": "execute_result"
    }
   ],
   "source": [
    "df"
   ]
  },
  {
   "cell_type": "markdown",
   "id": "adcbfb48",
   "metadata": {},
   "source": [
    "Previously, we split our data into only training and validation sets. In this approach, as we adjust model parameters to improve the validation score, we risk gradually overfitting the validation set. This means our predictions become overly optimistic, as the model adapts specifically to perform well on the validation data. \n",
    "\n",
    "To mitigate this, it's recommended to split the data into three parts: a training set, a validation set, and a test set.\n",
    "\n",
    "- The **training set** is used to train the model.\n",
    "- The **validation set** is used for tuning model parameters and selecting optimal data transformations.\n",
    "- The **test set** is reserved solely for evaluating the model's final accuracy, ensuring an unbiased performance estimate."
   ]
  },
  {
   "cell_type": "markdown",
   "id": "3c4ccf95",
   "metadata": {},
   "source": [
    "We can achieve this split by calling `train_test_split` twice. A common proportion is to allocate 60% of the data to the training set, 20% to the validation set, and 20% to the test set.\n",
    "\n",
    "First, we call `train_test_split` with a test ratio of 0.2 to separate the data into a combined `train_val` set and a test set. Then, we call `train_test_split` again on the `train_val` set with a ratio of 0.25. Since 0.25 of the remaining 80% is 20% of the original data, this effectively splits the dataset into 60% training, 20% validation, and 20% test."
   ]
  },
  {
   "cell_type": "code",
   "execution_count": 60,
   "id": "c43bd8d3",
   "metadata": {},
   "outputs": [],
   "source": [
    "X = df.drop(columns='status')\n",
    "y = df['status']\n",
    "\n",
    "X_train_val, X_test, y_train_val, y_test = train_test_split(X, y, test_size=0.2, random_state=1)\n",
    "X_train, X_val, y_train, y_val = train_test_split(X_train_val, y_train_val, test_size=0.25, random_state=1)"
   ]
  },
  {
   "cell_type": "markdown",
   "id": "f91b2499",
   "metadata": {},
   "source": [
    "After splitting, we train the model on training set and tune the params on validation set."
   ]
  },
  {
   "cell_type": "code",
   "execution_count": 61,
   "id": "e1174ba0",
   "metadata": {},
   "outputs": [
    {
     "data": {
      "text/plain": [
       "((1869, 13), (624, 13), (624, 13))"
      ]
     },
     "execution_count": 61,
     "metadata": {},
     "output_type": "execute_result"
    }
   ],
   "source": [
    "X_train.shape, X_val.shape, X_test.shape"
   ]
  },
  {
   "cell_type": "code",
   "execution_count": 62,
   "id": "05c9236d",
   "metadata": {},
   "outputs": [],
   "source": [
    "class_mapping = {'ok': 0, 'default': 1}\n",
    "\n",
    "y_train = y_train.map(class_mapping)\n",
    "y_val = y_val.map(class_mapping)\n",
    "y_test = y_test.map(class_mapping)\n",
    "y_train_val = y_train_val.map(class_mapping)"
   ]
  },
  {
   "cell_type": "code",
   "execution_count": 63,
   "id": "fc45f4b4",
   "metadata": {},
   "outputs": [],
   "source": [
    "categorical_cols = ['home', 'marital', 'job']\n",
    "numerical_cols = ['seniority', 'time', 'age', 'records', 'expenses', 'income', 'assets', 'debt', 'amount', 'price']\n",
    "\n",
    "preprocessor = ColumnTransformer(\n",
    "    transformers=[\n",
    "        ('num', Pipeline(steps=[\n",
    "            ('imputer', SimpleImputer(strategy='mean')),  \n",
    "        ]), numerical_cols),\n",
    "        \n",
    "        ('cat', Pipeline(steps=[\n",
    "            ('imputer', SimpleImputer(strategy='most_frequent')),  \n",
    "            ('encoder', OrdinalEncoder())\n",
    "        ]), categorical_cols)\n",
    "    ])"
   ]
  },
  {
   "cell_type": "code",
   "execution_count": 64,
   "id": "c51a156b",
   "metadata": {},
   "outputs": [],
   "source": [
    "X_train_transformed = preprocessor.fit_transform(X_train)\n",
    "X_val_transformed = preprocessor.transform(X_val)\n",
    "X_test_transformed = preprocessor.transform(X_test)\n",
    "X_train_val_transformed = preprocessor.transform(X_train_val)"
   ]
  },
  {
   "cell_type": "code",
   "execution_count": 65,
   "id": "428c08b8",
   "metadata": {},
   "outputs": [
    {
     "data": {
      "text/plain": [
       "0.636144578313253"
      ]
     },
     "execution_count": 65,
     "metadata": {},
     "output_type": "execute_result"
    }
   ],
   "source": [
    "from sklearn.ensemble import RandomForestClassifier\n",
    "\n",
    "model = RandomForestClassifier(class_weight='balanced', max_depth=1, random_state=0)\n",
    "model.fit(X_train_transformed, y_train)\n",
    "\n",
    "y_pred = model.predict(X_val_transformed)\n",
    "\n",
    "f1_score(y_val, y_pred)"
   ]
  },
  {
   "cell_type": "code",
   "execution_count": 66,
   "id": "c0d73067",
   "metadata": {},
   "outputs": [],
   "source": [
    "## --- here we would tune model params ---"
   ]
  },
  {
   "cell_type": "markdown",
   "id": "3dc5f18b",
   "metadata": {},
   "source": [
    "After identifying the optimal parameters using the validation set, we call `predict` on the test set to obtain a final accuracy estimate. This final estimate will be used to report the model's performance."
   ]
  },
  {
   "cell_type": "code",
   "execution_count": 67,
   "id": "b83a8c80",
   "metadata": {},
   "outputs": [],
   "source": [
    "y_pred = model.predict(X_test_transformed)"
   ]
  },
  {
   "cell_type": "code",
   "execution_count": 68,
   "id": "a9dc11a5",
   "metadata": {},
   "outputs": [
    {
     "data": {
      "text/plain": [
       "0.6071428571428571"
      ]
     },
     "execution_count": 68,
     "metadata": {},
     "output_type": "execute_result"
    }
   ],
   "source": [
    "f1_score(y_test, y_pred)"
   ]
  },
  {
   "cell_type": "markdown",
   "id": "4257c934",
   "metadata": {},
   "source": [
    "Accuracy on the test set is usually slightly lower than on the validation set because the model is often fine-tuned to perform well on the validation set, leading to some level of overfitting. The test set, being entirely unseen during parameter tuning, provides a more realistic measure of how the model generalizes to new data."
   ]
  },
  {
   "cell_type": "markdown",
   "id": "a6369d36",
   "metadata": {},
   "source": [
    "### Cross-Validation"
   ]
  },
  {
   "cell_type": "markdown",
   "id": "081bb04f",
   "metadata": {},
   "source": [
    "Cross-validation offers a more robust approach to validating the model and finding the optimal parameters. Instead of using a single portion of the data for validation (e.g., 20%), we utilize the entire `train_val` set by dividing it into *n* equal parts, or \"folds.\" In each iteration, one fold is used for validation while the remaining folds are used for training. This process results in training *n* models, each evaluated on a unique validation fold. The final validation score is then calculated by averaging the scores from each fold, providing a more reliable measure of model performance."
   ]
  },
  {
   "cell_type": "markdown",
   "id": "dcc0e5e3",
   "metadata": {},
   "source": [
    "<img src=\"images/cross_validation.PNG\" style=\"float: left; margin-right: 10px; width: 500px\" />\n"
   ]
  },
  {
   "cell_type": "markdown",
   "id": "906ed111",
   "metadata": {},
   "source": [
    "This diagram illustrates k-fold cross-validation with a train-test split:\n",
    "\n",
    "1. **Initial Split**: The full dataset is split into a training set and a separate test set.\n",
    "\n",
    "2. **k-Fold Cross-Validation**: The training set is divided into *k* equal folds (here, 5). In each round, one fold is used for validation, and the other *k-1* folds are used for training. This process repeats until every fold has been the validation set once.\n",
    "\n",
    "3. **Average Validation Score**: The model’s validation performance is averaged across all *k* folds, providing a robust measure of performance.\n",
    "\n",
    "4. **Final Test Evaluation**: After selecting optimal parameters, the model is retrained on the entire training set and evaluated on the test set for an unbiased accuracy estimate. \n",
    "\n",
    "This method reduces overfitting and ensures a more reliable assessment."
   ]
  },
  {
   "cell_type": "markdown",
   "id": "7cc4cf54",
   "metadata": {},
   "source": [
    "Cross validation is particularly recommended when our dataset is not large."
   ]
  },
  {
   "cell_type": "code",
   "execution_count": 69,
   "id": "63128132",
   "metadata": {},
   "outputs": [],
   "source": [
    "from sklearn.model_selection import KFold"
   ]
  },
  {
   "cell_type": "code",
   "execution_count": 70,
   "id": "7d7b0e83",
   "metadata": {},
   "outputs": [],
   "source": [
    "kfold = KFold(n_splits=5, shuffle=True, random_state=0)\n",
    "\n",
    "train_idx, val_idx = next(kfold.split(X_train_val_transformed, y_train_val))"
   ]
  },
  {
   "cell_type": "code",
   "execution_count": 71,
   "id": "ce41eefb",
   "metadata": {},
   "outputs": [
    {
     "data": {
      "text/plain": [
       "(1994, 499)"
      ]
     },
     "execution_count": 71,
     "metadata": {},
     "output_type": "execute_result"
    }
   ],
   "source": [
    "len(train_idx), len(val_idx)"
   ]
  },
  {
   "cell_type": "code",
   "execution_count": 72,
   "id": "5045072d",
   "metadata": {},
   "outputs": [],
   "source": [
    "scores = []\n",
    "\n",
    "for train_idx, val_idx in kfold.split(X_train_val_transformed, y_train_val):\n",
    "    X_train_curr = X_train_val_transformed[train_idx]\n",
    "    X_val_curr = X_train_val_transformed[val_idx]\n",
    "    \n",
    "    y_train_curr = y_train_val.iloc[train_idx]\n",
    "    y_val_curr = y_train_val.iloc[val_idx]\n",
    "    \n",
    "    model = RandomForestClassifier(class_weight='balanced', max_depth=5, random_state=0)\n",
    "    model.fit(X_train_curr, y_train_curr)\n",
    "    \n",
    "    y_pred = model.predict(X_val_curr)\n",
    "    f1 = f1_score(y_val_curr, y_pred)\n",
    "    \n",
    "    scores.append(f1)"
   ]
  },
  {
   "cell_type": "code",
   "execution_count": 73,
   "id": "211a9688",
   "metadata": {},
   "outputs": [
    {
     "data": {
      "text/plain": [
       "[0.6191950464396284,\n",
       " 0.6229508196721312,\n",
       " 0.6230529595015577,\n",
       " 0.6455696202531644,\n",
       " 0.6761363636363636]"
      ]
     },
     "execution_count": 73,
     "metadata": {},
     "output_type": "execute_result"
    }
   ],
   "source": [
    "scores"
   ]
  },
  {
   "cell_type": "code",
   "execution_count": 74,
   "id": "e902d71e",
   "metadata": {},
   "outputs": [
    {
     "data": {
      "text/plain": [
       "(0.637380961900569, 0.021509455911063215)"
      ]
     },
     "execution_count": 74,
     "metadata": {},
     "output_type": "execute_result"
    }
   ],
   "source": [
    "np.mean(scores), np.std(scores)"
   ]
  },
  {
   "cell_type": "markdown",
   "id": "57b3aae8",
   "metadata": {},
   "source": [
    "We can achieve the same result using the `cross_val_score` function directly. It takes the model, the training-validation dataset, the number of folds, and the scoring function, returning the validation score for each fold automatically."
   ]
  },
  {
   "cell_type": "code",
   "execution_count": 75,
   "id": "204d9d23",
   "metadata": {},
   "outputs": [],
   "source": [
    "from sklearn.model_selection import cross_val_score\n",
    "from sklearn.metrics import f1_score, make_scorer\n",
    "\n",
    "f1_scorer = make_scorer(f1_score)\n",
    "\n",
    "scores = cross_val_score(model, X_train_val_transformed, y_train_val, cv=5, scoring=f1_scorer)"
   ]
  },
  {
   "cell_type": "code",
   "execution_count": 76,
   "id": "b83b0942",
   "metadata": {},
   "outputs": [
    {
     "data": {
      "text/plain": [
       "array([0.66049383, 0.64516129, 0.5942492 , 0.6038961 , 0.61538462])"
      ]
     },
     "execution_count": 76,
     "metadata": {},
     "output_type": "execute_result"
    }
   ],
   "source": [
    "scores"
   ]
  },
  {
   "cell_type": "code",
   "execution_count": 77,
   "id": "c7aa71d7",
   "metadata": {},
   "outputs": [
    {
     "data": {
      "text/plain": [
       "0.6238370076083498"
      ]
     },
     "execution_count": 77,
     "metadata": {},
     "output_type": "execute_result"
    }
   ],
   "source": [
    "np.mean(scores)"
   ]
  },
  {
   "cell_type": "markdown",
   "id": "527d1bed",
   "metadata": {},
   "source": [
    "The slight variation in scores between using KFold and cross_val_score function is due to shuffling the dataset, which results in slightly different fold compositions across each cross-validation run"
   ]
  }
 ],
 "metadata": {
  "kernelspec": {
   "display_name": "Python 3",
   "language": "python",
   "name": "python3"
  },
  "language_info": {
   "codemirror_mode": {
    "name": "ipython",
    "version": 3
   },
   "file_extension": ".py",
   "mimetype": "text/x-python",
   "name": "python",
   "nbconvert_exporter": "python",
   "pygments_lexer": "ipython3",
   "version": "3.8.8"
  }
 },
 "nbformat": 4,
 "nbformat_minor": 5
}
