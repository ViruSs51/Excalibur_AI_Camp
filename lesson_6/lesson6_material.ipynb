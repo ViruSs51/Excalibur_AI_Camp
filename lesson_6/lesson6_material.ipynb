{
 "cells": [
  {
   "cell_type": "markdown",
   "metadata": {},
   "source": [
    "# **Lesson 6: Advanced Pandas II**"
   ]
  },
  {
   "cell_type": "code",
   "execution_count": 48,
   "metadata": {},
   "outputs": [],
   "source": [
    "# All imports\n",
    "import pandas as pd\n",
    "import numpy as np\n",
    "from datetime import datetime\n",
    "import matplotlib.pyplot as plt"
   ]
  },
  {
   "cell_type": "markdown",
   "metadata": {},
   "source": [
    "\n",
    "## **1. Data Manipulation**\n",
    "\n",
    "### **Combining and Merging DataFrames**\n",
    "\n",
    "#### **concat():**"
   ]
  },
  {
   "cell_type": "code",
   "execution_count": 19,
   "metadata": {},
   "outputs": [
    {
     "name": "stdout",
     "output_type": "stream",
     "text": [
      "Vertical Concatenation:\n",
      "    A   B\n",
      "0  A0  B0\n",
      "1  A1  B1\n",
      "2  A2  B2\n",
      "0  A3  B3\n",
      "1  A4  B4\n",
      "2  A5  B5\n",
      "Horizontal Concatenation:\n",
      "    A   B   A   B\n",
      "0  A0  B0  A3  B3\n",
      "1  A1  B1  A4  B4\n",
      "2  A2  B2  A5  B5\n"
     ]
    }
   ],
   "source": [
    "# DataFrames to concatenate\n",
    "df1 = pd.DataFrame({'A': ['A0', 'A1', 'A2'], 'B': ['B0', 'B1', 'B2']})\n",
    "df2 = pd.DataFrame({'A': ['A3', 'A4', 'A5'], 'B': ['B3', 'B4', 'B5']})\n",
    "\n",
    "# Concatenating along rows (default axis=0)\n",
    "print(\"Vertical Concatenation:\")\n",
    "result = pd.concat([df1, df2])\n",
    "print(result)\n",
    "\n",
    "# Concatenating along columns\n",
    "print(\"Horizontal Concatenation:\")\n",
    "result = pd.concat([df1, df2], axis=1)\n",
    "print(result)"
   ]
  },
  {
   "cell_type": "markdown",
   "metadata": {},
   "source": [
    "#### **merge() Method**\n",
    "The `merge()` method is similar to SQL joins, allowing you to combine DataFrames based on a key column. It offers multiple join operations:\n",
    "\n",
    "- **Inner Join**: Keeps only rows with keys in both DataFrames.\n",
    "- **Outer Join**: Includes all keys from both DataFrames, filling missing values with NaN.\n",
    "- **Left Join**: Preserves keys from the left DataFrame.\n",
    "- **Right Join**: Preserves keys from the right DataFrame."
   ]
  },
  {
   "cell_type": "code",
   "execution_count": 21,
   "metadata": {},
   "outputs": [
    {
     "name": "stdout",
     "output_type": "stream",
     "text": [
      "DataFrame 1:\n",
      "  key   A\n",
      "0  K0  A0\n",
      "1  K1  A1\n",
      "2  K2  A2\n",
      "3  K3  A3\n",
      "\n",
      "DataFrame 2:\n",
      "  key   B\n",
      "0  K1  B1\n",
      "1  K2  B2\n",
      "2  K3  B3\n",
      "3  K4  B4\n",
      "\n",
      "Inner Join Result:\n",
      "  key   A   B\n",
      "0  K1  A1  B1\n",
      "1  K2  A2  B2\n",
      "2  K3  A3  B3\n",
      "\n",
      "Outer Join Result:\n",
      "  key    A    B\n",
      "0  K0   A0  NaN\n",
      "1  K1   A1   B1\n",
      "2  K2   A2   B2\n",
      "3  K3   A3   B3\n",
      "4  K4  NaN   B4\n",
      "\n",
      "Left Join Result:\n",
      "  key   A    B\n",
      "0  K0  A0  NaN\n",
      "1  K1  A1   B1\n",
      "2  K2  A2   B2\n",
      "3  K3  A3   B3\n",
      "\n",
      "Right Join Result:\n",
      "  key    A   B\n",
      "0  K1   A1  B1\n",
      "1  K2   A2  B2\n",
      "2  K3   A3  B3\n",
      "3  K4  NaN  B4\n"
     ]
    }
   ],
   "source": [
    "# Create two sample DataFrames with overlapping and non-overlapping keys\n",
    "df1 = pd.DataFrame({\n",
    "    'key': ['K0', 'K1', 'K2', 'K3'],\n",
    "    'A': ['A0', 'A1', 'A2', 'A3']\n",
    "})\n",
    "\n",
    "df2 = pd.DataFrame({\n",
    "    'key': ['K1', 'K2', 'K3', 'K4'],\n",
    "    'B': ['B1', 'B2', 'B3', 'B4']\n",
    "})\n",
    "\n",
    "print(\"DataFrame 1:\")\n",
    "print(df1)\n",
    "print(\"\\nDataFrame 2:\")\n",
    "print(df2)\n",
    "\n",
    "# Inner Join: Returns only the intersection of the keys\n",
    "print(\"\\nInner Join Result:\")\n",
    "result_inner = pd.merge(df1, df2, on='key', how='inner')\n",
    "print(result_inner)\n",
    "\n",
    "# Outer Join: Returns union of keys, and fills missing values with NaN\n",
    "print(\"\\nOuter Join Result:\")\n",
    "result_outer = pd.merge(df1, df2, on='key', how='outer')\n",
    "print(result_outer)\n",
    "\n",
    "# Left Join: Returns all keys from the left DataFrame with corresponding matches from the right\n",
    "print(\"\\nLeft Join Result:\")\n",
    "result_left = pd.merge(df1, df2, on='key', how='left')\n",
    "print(result_left)\n",
    "\n",
    "# Right Join: Returns all keys from the right DataFrame with corresponding matches from the left\n",
    "print(\"\\nRight Join Result:\")\n",
    "result_right = pd.merge(df1, df2, on='key', how='right')\n",
    "print(result_right)"
   ]
  },
  {
   "cell_type": "markdown",
   "metadata": {},
   "source": [
    "#### **join() Method**\n",
    "The `join()` method is mainly used when you have indexed DataFrames and you'd like to perform a join based on the index."
   ]
  },
  {
   "cell_type": "code",
   "execution_count": 22,
   "metadata": {},
   "outputs": [
    {
     "name": "stdout",
     "output_type": "stream",
     "text": [
      "Index-Based Inner Join:\n",
      "     A   B\n",
      "K0  A0  B1\n",
      "K2  A2  B2\n",
      "Index-Based Outer Join:\n",
      "      A    B\n",
      "K0   A0   B1\n",
      "K1   A1  NaN\n",
      "K2   A2   B2\n",
      "K3  NaN   B3\n"
     ]
    }
   ],
   "source": [
    "# DataFrames to join\n",
    "df1 = pd.DataFrame({'A': ['A0', 'A1', 'A2']}, index=['K0', 'K1', 'K2'])\n",
    "df2 = pd.DataFrame({'B': ['B1', 'B2', 'B3']}, index=['K0', 'K2', 'K3'])\n",
    "\n",
    "# Using index to join\n",
    "print(\"Index-Based Inner Join:\")\n",
    "result = df1.join(df2, how='inner')\n",
    "print(result)\n",
    "\n",
    "# Outer join on indexes\n",
    "print(\"Index-Based Outer Join:\")\n",
    "result = df1.join(df2, how='outer')\n",
    "print(result)"
   ]
  },
  {
   "cell_type": "markdown",
   "metadata": {},
   "source": [
    "### **Grouping and Aggregating Data**\n",
    "\n",
    "Grouping and aggregating your data allows you to generate insights by summarizing information.\n",
    "\n",
    "#### **groupby() Method**\n",
    "The `groupby()` function is used for grouping data and then applying aggregation functions like `sum`, `mean`, etc.\n"
   ]
  },
  {
   "cell_type": "code",
   "execution_count": 23,
   "metadata": {},
   "outputs": [
    {
     "name": "stdout",
     "output_type": "stream",
     "text": [
      "Sum by Category:\n",
      "          Values\n",
      "Category        \n",
      "A             40\n",
      "B             60\n",
      "Mean by Category:\n",
      "          Values\n",
      "Category        \n",
      "A           20.0\n",
      "B           30.0\n",
      "Aggregate Mean and Sum:\n",
      "         Values    \n",
      "           mean sum\n",
      "Category           \n",
      "A          20.0  40\n",
      "B          30.0  60\n"
     ]
    }
   ],
   "source": [
    "# Example DataFrame\n",
    "df = pd.DataFrame({\n",
    "    'Category': ['A', 'B', 'A', 'B'],\n",
    "    'Values': [10, 20, 30, 40]\n",
    "})\n",
    "\n",
    "grouped = df.groupby('Category')\n",
    "print(\"Sum by Category:\")\n",
    "print(grouped.sum())\n",
    "\n",
    "print(\"Mean by Category:\")\n",
    "print(grouped.mean())\n",
    "\n",
    "print(\"Aggregate Mean and Sum:\")\n",
    "print(grouped.agg(['mean', 'sum']))"
   ]
  },
  {
   "cell_type": "markdown",
   "metadata": {},
   "source": [
    "#### **pivot_table() Method**\n",
    "The `pivot_table()` is used for multi-dimensional summarization, similar to Excel's pivot tables. It allows creating a new table with aggregated data."
   ]
  },
  {
   "cell_type": "code",
   "execution_count": 53,
   "metadata": {},
   "outputs": [
    {
     "name": "stdout",
     "output_type": "stream",
     "text": [
      "DataFrame:\n",
      "     A    B      C  D\n",
      "0  foo  one  small  1\n",
      "1  bar  one  large  2\n",
      "2  foo  two  small  3\n",
      "3  bar  two  small  4\n",
      "Pivot Table:\n",
      "C        large  small\n",
      "A   B                \n",
      "bar one    2.0    NaN\n",
      "    two    NaN    4.0\n",
      "foo one    NaN    1.0\n",
      "    two    NaN    3.0\n"
     ]
    }
   ],
   "source": [
    "# Example DataFrame\n",
    "df = pd.DataFrame({\n",
    "    'A': ['foo', 'bar', 'foo', 'bar'],\n",
    "    'B': ['one', 'one', 'two', 'two'],\n",
    "    'C': ['small', 'large', 'small', 'small'],\n",
    "    'D': [1, 2, 3, 4]\n",
    "})\n",
    "\n",
    "print(\"DataFrame:\")\n",
    "print(df)\n",
    "# Creating a pivot table\n",
    "print(\"Pivot Table:\")\n",
    "pivot = df.pivot_table(values='D', index=['A', 'B'], columns=['C'], aggfunc=\"sum\")\n",
    "print(pivot)"
   ]
  },
  {
   "cell_type": "markdown",
   "metadata": {},
   "source": [
    "\n",
    "#### **crosstab() Method**\n",
    "The `crosstab()` function is used for computing a cross-tabulation of two (or more) factors, often for frequency counting."
   ]
  },
  {
   "cell_type": "code",
   "execution_count": 54,
   "metadata": {},
   "outputs": [
    {
     "name": "stdout",
     "output_type": "stream",
     "text": [
      "\n",
      "Survey Data:\n",
      "    Platform  Gender\n",
      "0    Twitter  Female\n",
      "1  Instagram    Male\n",
      "2    Twitter    Male\n",
      "3  Instagram  Female\n",
      "4   Facebook  Female\n",
      "5   Facebook    Male\n",
      "\n",
      "Cross-tabulation of Platform by Gender:\n",
      "Gender     Female  Male\n",
      "Platform               \n",
      "Facebook        1     1\n",
      "Instagram       1     1\n",
      "Twitter         1     1\n"
     ]
    }
   ],
   "source": [
    "# Survey data of platform preferences\n",
    "survey_data = pd.DataFrame({\n",
    "    'Platform': ['Twitter', 'Instagram', 'Twitter', 'Instagram', 'Facebook', 'Facebook'],\n",
    "    'Gender': ['Female', 'Male', 'Male', 'Female', 'Female', 'Male']\n",
    "})\n",
    "\n",
    "print(\"\\nSurvey Data:\")\n",
    "print(survey_data)\n",
    "\n",
    "# Cross-tabulation of platform preferences by gender\n",
    "print(\"\\nCross-tabulation of Platform by Gender:\")\n",
    "platform_gender_crosstab = pd.crosstab(survey_data['Platform'], survey_data['Gender'])\n",
    "print(platform_gender_crosstab)"
   ]
  },
  {
   "cell_type": "code",
   "execution_count": 55,
   "metadata": {},
   "outputs": [
    {
     "name": "stdout",
     "output_type": "stream",
     "text": [
      "\n",
      "Purchase Data:\n",
      "  Age Group     Category\n",
      "0     18-25  Electronics\n",
      "1     26-35     Clothing\n",
      "2     18-25  Electronics\n",
      "3     26-35     Clothing\n",
      "4     36-45    Groceries\n",
      "5     36-45    Groceries\n",
      "6     26-35  Electronics\n",
      "\n",
      "Cross-tabulation of Product Categories by Age Group:\n",
      "Age Group    18-25  26-35  36-45\n",
      "Category                        \n",
      "Clothing         0      2      0\n",
      "Electronics      2      1      0\n",
      "Groceries        0      0      2\n"
     ]
    }
   ],
   "source": [
    "# Purchase data with age groups and product categories\n",
    "purchase_data = pd.DataFrame({\n",
    "    'Age Group': ['18-25', '26-35', '18-25', '26-35', '36-45', '36-45', '26-35'],\n",
    "    'Category': ['Electronics', 'Clothing', 'Electronics', 'Clothing', 'Groceries', 'Groceries', 'Electronics']\n",
    "})\n",
    "\n",
    "print(\"\\nPurchase Data:\")\n",
    "print(purchase_data)\n",
    "\n",
    "# Cross-tabulation to analyze product category purchases by age group\n",
    "print(\"\\nCross-tabulation of Product Categories by Age Group:\")\n",
    "category_age_crosstab = pd.crosstab(purchase_data['Category'], purchase_data['Age Group'])\n",
    "print(category_age_crosstab)"
   ]
  },
  {
   "cell_type": "markdown",
   "metadata": {},
   "source": [
    "### **Reshaping Data**\n",
    "\n",
    "Reshaping involves changing the layout of your data to make further analysis more manageable.\n",
    "\n",
    "#### **stack() and unstack() Methods**\n",
    "These functions are used to pivot DataFrames with multi-level indexes."
   ]
  },
  {
   "cell_type": "code",
   "execution_count": 28,
   "metadata": {},
   "outputs": [
    {
     "name": "stdout",
     "output_type": "stream",
     "text": [
      "Original Data:\n",
      "        C\n",
      "A   B    \n",
      "one A  10\n",
      "    B  20\n",
      "two A  30\n",
      "    B  40\n",
      "Stacked Data:\n",
      "A    B   \n",
      "one  A  C    10\n",
      "     B  C    20\n",
      "two  A  C    30\n",
      "     B  C    40\n",
      "dtype: int64\n",
      "Unstacked Data:\n",
      "        C\n",
      "A   B    \n",
      "one A  10\n",
      "    B  20\n",
      "two A  30\n",
      "    B  40\n"
     ]
    }
   ],
   "source": [
    "# Example DataFrame with MultiIndex\n",
    "df = pd.DataFrame({\n",
    "    'A': ['one', 'one', 'two', 'two'],\n",
    "    'B': ['A', 'B', 'A', 'B'],\n",
    "    'C': [10, 20, 30, 40]\n",
    "})\n",
    "df = df.set_index(['A', 'B'])\n",
    "\n",
    "print(\"Original Data:\")\n",
    "print(df)\n",
    "\n",
    "# Stacking\n",
    "print(\"Stacked Data:\")\n",
    "stacked = df.stack()\n",
    "print(stacked)\n",
    "\n",
    "# Unstacking\n",
    "print(\"Unstacked Data:\")\n",
    "unstacked = stacked.unstack()\n",
    "print(unstacked)"
   ]
  },
  {
   "cell_type": "markdown",
   "metadata": {},
   "source": [
    "#### **melt() Method**\n",
    "The `melt()` function is used to convert a wide-format DataFrame into a long-format one, useful for data visualization libraries.\n"
   ]
  },
  {
   "cell_type": "code",
   "execution_count": 56,
   "metadata": {},
   "outputs": [
    {
     "name": "stdout",
     "output_type": "stream",
     "text": [
      "Original DataFrame:\n",
      "   Student  Math  Science\n",
      "0    Alice    85       88\n",
      "1      Bob    90       92\n",
      "2  Charlie    78       89\n",
      "\n",
      "Melted DataFrame:\n",
      "   Student  Subject  Score\n",
      "0    Alice     Math     85\n",
      "1      Bob     Math     90\n",
      "2  Charlie     Math     78\n",
      "3    Alice  Science     88\n",
      "4      Bob  Science     92\n",
      "5  Charlie  Science     89\n"
     ]
    }
   ],
   "source": [
    "# A DataFrame with student names as rows and subjects as columns\n",
    "df = pd.DataFrame({\n",
    "    'Student': ['Alice', 'Bob', 'Charlie'],\n",
    "    'Math': [85, 90, 78],\n",
    "    'Science': [88, 92, 89]\n",
    "})\n",
    "\n",
    "print(\"Original DataFrame:\")\n",
    "print(df)\n",
    "\n",
    "# Using melt to reshape the DataFrame\n",
    "print(\"\\nMelted DataFrame:\")\n",
    "melted = pd.melt(df, id_vars=['Student'], value_vars=['Math', 'Science'], var_name='Subject', value_name='Score')\n",
    "print(melted)"
   ]
  },
  {
   "cell_type": "code",
   "execution_count": 57,
   "metadata": {},
   "outputs": [
    {
     "name": "stdout",
     "output_type": "stream",
     "text": [
      "\n",
      "Original Sales Data:\n",
      "  Region   Q1   Q2   Q3   Q4\n",
      "0   East  200  220  250  300\n",
      "1   West  150  180  200  220\n",
      "2  South  210  230  270  300\n",
      "3  North  180  190  210  230\n",
      "\n",
      "Melted Sales Data:\n",
      "   Region Quarter  Sales\n",
      "0    East      Q1    200\n",
      "1    West      Q1    150\n",
      "2   South      Q1    210\n",
      "3   North      Q1    180\n",
      "4    East      Q2    220\n",
      "5    West      Q2    180\n",
      "6   South      Q2    230\n",
      "7   North      Q2    190\n",
      "8    East      Q3    250\n",
      "9    West      Q3    200\n",
      "10  South      Q3    270\n",
      "11  North      Q3    210\n",
      "12   East      Q4    300\n",
      "13   West      Q4    220\n",
      "14  South      Q4    300\n",
      "15  North      Q4    230\n"
     ]
    }
   ],
   "source": [
    "# Sales data for different regions and quarters\n",
    "sales_data = pd.DataFrame({\n",
    "    'Region': ['East', 'West', 'South', 'North'],\n",
    "    'Q1': [200, 150, 210, 180],\n",
    "    'Q2': [220, 180, 230, 190],\n",
    "    'Q3': [250, 200, 270, 210],\n",
    "    'Q4': [300, 220, 300, 230]\n",
    "})\n",
    "\n",
    "print(\"\\nOriginal Sales Data:\")\n",
    "print(sales_data)\n",
    "\n",
    "# Melting for easier plotting or analysis\n",
    "print(\"\\nMelted Sales Data:\")\n",
    "melted_sales = pd.melt(sales_data, id_vars=['Region'], var_name='Quarter', value_name='Sales')\n",
    "print(melted_sales)"
   ]
  },
  {
   "cell_type": "markdown",
   "metadata": {},
   "source": [
    "\n",
    "## **2. Time Series Analysis**\n",
    "\n",
    "Pandas supports robust handling of time series data, which is critical for analyzing time-dependent data.\n",
    "\n",
    "### **Datetime Conversion**\n",
    "Converting strings to datetime objects allows for efficient analysis and manipulation of date information.\n"
   ]
  },
  {
   "cell_type": "code",
   "execution_count": 30,
   "metadata": {},
   "outputs": [
    {
     "name": "stdout",
     "output_type": "stream",
     "text": [
      "     date_str  value       date\n",
      "0  2023-01-01     10 2023-01-01\n",
      "1  2023-02-01     20 2023-02-01\n",
      "2  2023-03-01     30 2023-03-01\n"
     ]
    }
   ],
   "source": [
    "# Converting a column to datetime\n",
    "df = pd.DataFrame({\n",
    "    'date_str': ['2023-01-01', '2023-02-01', '2023-03-01'],\n",
    "    'value': [10, 20, 30]\n",
    "})\n",
    "df['date'] = pd.to_datetime(df['date_str'])\n",
    "print(df)"
   ]
  },
  {
   "cell_type": "markdown",
   "metadata": {},
   "source": [
    "### **Date Indexing and Selection**\n",
    "Using datetime indexes facilitates easy slicing and selection of data over periods.\n"
   ]
  },
  {
   "cell_type": "code",
   "execution_count": 40,
   "metadata": {},
   "outputs": [
    {
     "name": "stdout",
     "output_type": "stream",
     "text": [
      "            value\n",
      "date             \n",
      "2023-01-01     10\n",
      "2023-01-02     20\n",
      "2023-01-03     30\n",
      "2023-01-04     40\n",
      "2023-01-05     50\n",
      "Data for Single Day:\n",
      "value    20\n",
      "Name: 2023-01-02 00:00:00, dtype: int64\n",
      "Data for Range of Dates:\n",
      "            value\n",
      "date             \n",
      "2023-01-02     20\n",
      "2023-01-03     30\n",
      "2023-01-04     40\n"
     ]
    }
   ],
   "source": [
    "# Example DataFrame with datetime index\n",
    "df = pd.DataFrame({\n",
    "    'date': pd.date_range(start='1/1/2023', periods=5, freq='D'),\n",
    "    'value': [10, 20, 30, 40, 50]\n",
    "})\n",
    "df.set_index('date', inplace=True)\n",
    "print(df)\n",
    "\n",
    "# Selecting data by date\n",
    "print(\"Data for Single Day:\")\n",
    "print(df.loc['2023-01-02'])\n",
    "print(\"Data for Range of Dates:\")\n",
    "print(df.loc['2023-01-02':'2023-01-04'])"
   ]
  },
  {
   "cell_type": "markdown",
   "metadata": {},
   "source": [
    "### **Time Series-specific Operations**\n",
    "Pandas offers specialized operations for time series, such as `resampling` and `rolling`.\n"
   ]
  },
  {
   "cell_type": "code",
   "execution_count": 41,
   "metadata": {},
   "outputs": [
    {
     "name": "stdout",
     "output_type": "stream",
     "text": [
      "Resampled Data:\n",
      "            value\n",
      "date             \n",
      "2023-01-01     30\n",
      "2023-01-03     70\n",
      "2023-01-05     50\n",
      "Rolling Mean:\n",
      "            value\n",
      "date             \n",
      "2023-01-01    NaN\n",
      "2023-01-02   15.0\n",
      "2023-01-03   25.0\n",
      "2023-01-04   35.0\n",
      "2023-01-05   45.0\n"
     ]
    }
   ],
   "source": [
    "# Resampling\n",
    "print(\"Resampled Data:\")\n",
    "resampled = df.resample('2D').sum()\n",
    "print(resampled)\n",
    "\n",
    "# Rolling windows\n",
    "print(\"Rolling Mean:\")\n",
    "rolling = df.rolling(window=2).mean()\n",
    "print(rolling)"
   ]
  },
  {
   "cell_type": "markdown",
   "metadata": {},
   "source": [
    "## **3. Advanced Data Selection and Manipulation**\n",
    "\n",
    "### **Transformation Functions**\n",
    "\n",
    "Transformation functions like `apply`, and `map` are used to perform operations on DataFrames.\n"
   ]
  },
  {
   "cell_type": "code",
   "execution_count": 51,
   "metadata": {},
   "outputs": [
    {
     "name": "stdout",
     "output_type": "stream",
     "text": [
      "Square Root of DataFrame:\n",
      "          A         B\n",
      "0  1.000000  3.162278\n",
      "1  1.414214  4.472136\n",
      "2  1.732051  5.477226\n",
      "Sum of Rows:\n",
      "0    11\n",
      "1    22\n",
      "2    33\n",
      "dtype: int64\n",
      "Doubling 'A' Values using map:\n",
      "   A   B\n",
      "0  2  10\n",
      "1  4  20\n",
      "2  6  30\n"
     ]
    }
   ],
   "source": [
    "# Example DataFrame\n",
    "df = pd.DataFrame({\n",
    "    'A': [1, 2, 3],\n",
    "    'B': [10, 20, 30]\n",
    "})\n",
    "\n",
    "# Applying functions element-wise\n",
    "print(\"Square Root of DataFrame:\")\n",
    "print(df.apply(np.sqrt))  # Apply to each column\n",
    "print(\"Sum of Rows:\")\n",
    "print(df.apply(np.sum, axis=1))  # Apply to each row\n",
    "\n",
    "# Applying a function element-wise to Series using map()\n",
    "print(\"Doubling 'A' Values using map:\")\n",
    "df['A'] = df['A'].map(lambda x: x*2)\n",
    "print(df)"
   ]
  },
  {
   "cell_type": "markdown",
   "metadata": {},
   "source": [
    "## **4. Visualization with Pandas**\n",
    "\n",
    "Visualization is crucial for data exploration and understanding trends and patterns.\n",
    "\n",
    "### **Basic Plotting**\n",
    "Pandas provides simple interface for plotting directly from DataFrames."
   ]
  },
  {
   "cell_type": "code",
   "execution_count": 47,
   "metadata": {},
   "outputs": [
    {
     "name": "stdout",
     "output_type": "stream",
     "text": [
      "Line Plot:\n",
      "Bar Plot:\n",
      "Scatter Plot:\n"
     ]
    },
    {
     "data": {
      "text/plain": [
       "<Axes: xlabel='A', ylabel='B'>"
      ]
     },
     "execution_count": 47,
     "metadata": {},
     "output_type": "execute_result"
    },
    {
     "data": {
      "image/png": "[encoded data removed]",
      "text/plain": [
       "<Figure size 640x480 with 1 Axes>"
      ]
     },
     "metadata": {},
     "output_type": "display_data"
    },
    {
     "data": {
      "image/png": "[encoded data removed]",
      "text/plain": [
       "<Figure size 640x480 with 1 Axes>"
      ]
     },
     "metadata": {},
     "output_type": "display_data"
    },
    {
     "data": {
      "image/png": "[encoded data removed]",
      "text/plain": [
       "<Figure size 640x480 with 1 Axes>"
      ]
     },
     "metadata": {},
     "output_type": "display_data"
    }
   ],
   "source": [
    "# Sample DataFrame\n",
    "df = pd.DataFrame({\n",
    "    'A': [1, 2, 3, 4],\n",
    "    'B': [10, 20, 30, 40]\n",
    "})\n",
    "\n",
    "# Line plot\n",
    "print(\"Line Plot:\")\n",
    "df.plot() # you might need to install matplotlib with pip install matplotlib\n",
    "\n",
    "# Bar plot\n",
    "print(\"Bar Plot:\")\n",
    "df.plot(kind='bar')\n",
    "\n",
    "# Scatter plot\n",
    "print(\"Scatter Plot:\")\n",
    "df.plot(kind='scatter', x='A', y='B')"
   ]
  },
  {
   "cell_type": "markdown",
   "metadata": {},
   "source": [
    "## **5. Optimization and Performance**\n",
    "\n",
    "### **Memory Usage**\n",
    "Understanding and optimizing memory usage can significantly improve performance, especially with large datasets.\n"
   ]
  },
  {
   "cell_type": "code",
   "execution_count": 50,
   "metadata": {},
   "outputs": [
    {
     "name": "stdout",
     "output_type": "stream",
     "text": [
      "Memory Usage:\n",
      "Index         132\n",
      "int_col        24\n",
      "float_col      24\n",
      "object_col    150\n",
      "dtype: int64\n",
      "Optimized Memory Usage:\n",
      "Index         132\n",
      "int_col         3\n",
      "float_col      12\n",
      "object_col    150\n",
      "dtype: int64\n"
     ]
    }
   ],
   "source": [
    "# Checking DataFrame memory usage\n",
    "df_memory = pd.DataFrame({\n",
    "    'int_col': [1, 2, 3],\n",
    "    'float_col': [4.0, 5.0, 6.0],\n",
    "    'object_col': ['a', 'b', 'c']\n",
    "})\n",
    "print(\"Memory Usage:\")\n",
    "print(df_memory.memory_usage(deep=True))\n",
    "\n",
    "# Downcasting data types to save memory\n",
    "df_memory['int_col'] = pd.to_numeric(df_memory['int_col'], downcast='unsigned')\n",
    "df_memory['float_col'] = pd.to_numeric(df_memory['float_col'], downcast='float')\n",
    "print(\"Optimized Memory Usage:\")\n",
    "print(df_memory.memory_usage(deep=True))"
   ]
  }
 ],
 "metadata": {
  "kernelspec": {
   "display_name": "oop",
   "language": "python",
   "name": "python3"
  },
  "language_info": {
   "codemirror_mode": {
    "name": "ipython",
    "version": 3
   },
   "file_extension": ".py",
   "mimetype": "text/x-python",
   "name": "python",
   "nbconvert_exporter": "python",
   "pygments_lexer": "ipython3",
   "version": "3.12.5"
  }
 },
 "nbformat": 4,
 "nbformat_minor": 2
}
