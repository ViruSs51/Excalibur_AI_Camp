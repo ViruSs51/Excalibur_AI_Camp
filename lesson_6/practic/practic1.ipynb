{
 "cells": [
  {
   "cell_type": "code",
   "execution_count": 1,
   "metadata": {},
   "outputs": [],
   "source": [
    "import pandas as pd\n",
    "import numpy as np\n",
    "import matplotlib.pyplot as plt\n",
    "from datetime import datetime"
   ]
  },
  {
   "cell_type": "code",
   "execution_count": 2,
   "metadata": {},
   "outputs": [
    {
     "name": "stdout",
     "output_type": "stream",
     "text": [
      "Vertical: \n",
      "    A   B\n",
      "0   1   5\n",
      "1   2   6\n",
      "2   3   7\n",
      "3   4   8\n",
      "4   9  13\n",
      "5  10  14\n",
      "6  11  15\n",
      "7  12  16\n",
      "\n",
      "Horizontal: \n",
      "   A  B   A   B\n",
      "0  1  5   9  13\n",
      "1  2  6  10  14\n",
      "2  3  7  11  15\n",
      "3  4  8  12  16\n"
     ]
    }
   ],
   "source": [
    "df1 = pd.DataFrame({'A': [1, 2, 3, 4], 'B': [5, 6, 7, 8]})\n",
    "df2 = pd.DataFrame({'A': [9, 10, 11, 12], 'B': [13, 14, 15, 16]})\n",
    "\n",
    "print('Vertical: ')\n",
    "concat_vertical = pd.concat([df1, df2])\n",
    "print(concat_vertical.reset_index(drop=True)) #reset_index face indexele in ordine, daca concatinezi 2 df, va fi 0,1,2,3,0,1,2,3; Dar cu aceasta functie va fi 0,1,2,3,4,5,6,7; Iar drop=True elimina coloana cu Index care se creaza in timp ce ruleaza functia data\n",
    "\n",
    "print('\\nHorizontal: ')\n",
    "concat_horizontal = pd.concat([df1, df2], axis=1)\n",
    "print(concat_horizontal)"
   ]
  },
  {
   "cell_type": "code",
   "execution_count": 3,
   "metadata": {},
   "outputs": [
    {
     "data": {
      "text/html": [
       "<div>\n",
       "<style scoped>\n",
       "    .dataframe tbody tr th:only-of-type {\n",
       "        vertical-align: middle;\n",
       "    }\n",
       "\n",
       "    .dataframe tbody tr th {\n",
       "        vertical-align: top;\n",
       "    }\n",
       "\n",
       "    .dataframe thead th {\n",
       "        text-align: right;\n",
       "    }\n",
       "</style>\n",
       "<table border=\"1\" class=\"dataframe\">\n",
       "  <thead>\n",
       "    <tr style=\"text-align: right;\">\n",
       "      <th></th>\n",
       "      <th>A</th>\n",
       "      <th>A</th>\n",
       "    </tr>\n",
       "  </thead>\n",
       "  <tbody>\n",
       "    <tr>\n",
       "      <th>0</th>\n",
       "      <td>1</td>\n",
       "      <td>9</td>\n",
       "    </tr>\n",
       "    <tr>\n",
       "      <th>1</th>\n",
       "      <td>2</td>\n",
       "      <td>10</td>\n",
       "    </tr>\n",
       "    <tr>\n",
       "      <th>2</th>\n",
       "      <td>3</td>\n",
       "      <td>11</td>\n",
       "    </tr>\n",
       "    <tr>\n",
       "      <th>3</th>\n",
       "      <td>4</td>\n",
       "      <td>12</td>\n",
       "    </tr>\n",
       "  </tbody>\n",
       "</table>\n",
       "</div>"
      ],
      "text/plain": [
       "   A   A\n",
       "0  1   9\n",
       "1  2  10\n",
       "2  3  11\n",
       "3  4  12"
      ]
     },
     "execution_count": 3,
     "metadata": {},
     "output_type": "execute_result"
    }
   ],
   "source": [
    "concat_horizontal['A']"
   ]
  },
  {
   "cell_type": "code",
   "execution_count": 4,
   "metadata": {},
   "outputs": [
    {
     "name": "stdout",
     "output_type": "stream",
     "text": [
      "  conectare   d\n",
      "0        K0  D1\n",
      "1        K1  D2\n",
      "2        K2  D3\n",
      "3        K3  D4\n",
      "  conectare   b\n",
      "0        K1  B1\n",
      "1        K2  B2\n",
      "2        K3  B3\n",
      "3        K4  B4\n"
     ]
    }
   ],
   "source": [
    "df1 = pd.DataFrame({\n",
    "    'conectare': ['K0', 'K1', 'K2', 'K3'],\n",
    "    'd': ['D1', 'D2', 'D3', 'D4']\n",
    "})\n",
    "\n",
    "df2 = pd.DataFrame({\n",
    "    'conectare': ['K1', 'K2', 'K3', 'K4'],\n",
    "    'b': ['B1', 'B2', 'B3', 'B4']\n",
    "})\n",
    "\n",
    "print(df1)\n",
    "print(df2)"
   ]
  },
  {
   "cell_type": "markdown",
   "metadata": {},
   "source": [
    "Pentru a concatina 2 DataFrame dar in dependenta de datele care sunt prezente in ambele dataframe-uri in coloana cheie(on) folosim functia **pd.merge()**\n",
    "1. inner join &larr; Uneste DataFrame-urile in asa mod ca in DataFrame nou sa fie doar randurile care sunt comune in ambele DataFrame-uri in coloana cheie\n",
    "2. outer join &larr; Uneste DataFrame-urile in asa mod ca in DataFrame nou sa fie toate randurile din ambele DataFrame-uri, dar acolo unde alte coloane pentru coloana cheie nu are careva valoare, sa fie NaN\n",
    "3. left join &larr; Uneste DataFrame-urile in asa mod ca in DataFrame nou sa fie toate datele din DataFrame-ul al doilea(dreapta) din parametrele functiei, dar datele din primul, acolo unde nu sunt sa se inlocuiasca cu NaN\n",
    "4. right join &larr; Uneste DataFrame-urile in asa mod ca in DataFrame nou sa fie toate datele din primul(stanga) DataFrame din parametrele functiei, dar datele din al 2-a, acolo unde nu sunt sa se inlocuiasca cu NaN"
   ]
  },
  {
   "cell_type": "code",
   "execution_count": 5,
   "metadata": {},
   "outputs": [
    {
     "name": "stdout",
     "output_type": "stream",
     "text": [
      "  conectare   d   b\n",
      "0        K1  D2  B1\n",
      "1        K2  D3  B2\n",
      "2        K3  D4  B3\n",
      "  conectare    d    b\n",
      "0        K0   D1  NaN\n",
      "1        K1   D2   B1\n",
      "2        K2   D3   B2\n",
      "3        K3   D4   B3\n",
      "4        K4  NaN   B4\n",
      "  conectare   d    b\n",
      "0        K0  D1  NaN\n",
      "1        K1  D2   B1\n",
      "2        K2  D3   B2\n",
      "3        K3  D4   B3\n",
      "  conectare    d   b\n",
      "0        K1   D2  B1\n",
      "1        K2   D3  B2\n",
      "2        K3   D4  B3\n",
      "3        K4  NaN  B4\n"
     ]
    }
   ],
   "source": [
    "result_inner = pd.merge(df1, df2, on='conectare', how='inner')\n",
    "print(result_inner)\n",
    "\n",
    "result_outer = pd.merge(df1, df2, on='conectare', how='outer')\n",
    "print(result_outer)\n",
    "\n",
    "result_left = pd.merge(df1, df2, on='conectare', how='left')\n",
    "print(result_left)\n",
    "\n",
    "result_right = pd.merge(df1, df2, on='conectare', how='right')\n",
    "print(result_right)"
   ]
  },
  {
   "cell_type": "code",
   "execution_count": 6,
   "metadata": {},
   "outputs": [
    {
     "name": "stdout",
     "output_type": "stream",
     "text": [
      "   column1\n",
      "B0      K0\n",
      "B1      K1\n",
      "B5      K2\n",
      "B4      K3\n",
      "   column2\n",
      "B1      K1\n",
      "B2      K2\n",
      "B3      K3\n",
      "B4      K4\n"
     ]
    }
   ],
   "source": [
    "df1 = pd.DataFrame({\n",
    "    'column1': ['K0', 'K1', 'K2', 'K3']\n",
    "}, index=['B0', 'B1', 'B5', 'B4'])\n",
    "\n",
    "df2 = pd.DataFrame({\n",
    "    'column2': ['K1', 'K2', 'K3', 'K4']\n",
    "}, index=['B1', 'B2', 'B3', 'B4'])\n",
    "\n",
    "print(df1)\n",
    "print(df2)"
   ]
  },
  {
   "cell_type": "markdown",
   "metadata": {},
   "source": [
    "Pentru a concatena cum si functia **pd.merge()** dar nu dupa coloana cheie, dar dupa index-urile in DataFrame, folosim functia **pd.join**"
   ]
  },
  {
   "cell_type": "code",
   "execution_count": 7,
   "metadata": {},
   "outputs": [
    {
     "data": {
      "text/html": [
       "<div>\n",
       "<style scoped>\n",
       "    .dataframe tbody tr th:only-of-type {\n",
       "        vertical-align: middle;\n",
       "    }\n",
       "\n",
       "    .dataframe tbody tr th {\n",
       "        vertical-align: top;\n",
       "    }\n",
       "\n",
       "    .dataframe thead th {\n",
       "        text-align: right;\n",
       "    }\n",
       "</style>\n",
       "<table border=\"1\" class=\"dataframe\">\n",
       "  <thead>\n",
       "    <tr style=\"text-align: right;\">\n",
       "      <th></th>\n",
       "      <th>column1</th>\n",
       "      <th>column2</th>\n",
       "    </tr>\n",
       "  </thead>\n",
       "  <tbody>\n",
       "    <tr>\n",
       "      <th>B0</th>\n",
       "      <td>K0</td>\n",
       "      <td>NaN</td>\n",
       "    </tr>\n",
       "    <tr>\n",
       "      <th>B1</th>\n",
       "      <td>K1</td>\n",
       "      <td>K1</td>\n",
       "    </tr>\n",
       "    <tr>\n",
       "      <th>B2</th>\n",
       "      <td>NaN</td>\n",
       "      <td>K2</td>\n",
       "    </tr>\n",
       "    <tr>\n",
       "      <th>B3</th>\n",
       "      <td>NaN</td>\n",
       "      <td>K3</td>\n",
       "    </tr>\n",
       "    <tr>\n",
       "      <th>B4</th>\n",
       "      <td>K3</td>\n",
       "      <td>K4</td>\n",
       "    </tr>\n",
       "    <tr>\n",
       "      <th>B5</th>\n",
       "      <td>K2</td>\n",
       "      <td>NaN</td>\n",
       "    </tr>\n",
       "  </tbody>\n",
       "</table>\n",
       "</div>"
      ],
      "text/plain": [
       "   column1 column2\n",
       "B0      K0     NaN\n",
       "B1      K1      K1\n",
       "B2     NaN      K2\n",
       "B3     NaN      K3\n",
       "B4      K3      K4\n",
       "B5      K2     NaN"
      ]
     },
     "execution_count": 7,
     "metadata": {},
     "output_type": "execute_result"
    }
   ],
   "source": [
    "result_join = df1.join(df2, how='outer')\n",
    "result_join"
   ]
  },
  {
   "cell_type": "markdown",
   "metadata": {},
   "source": [
    "**DataFrame.groupby()** &larr; Grumeaza dupa coloana cheie toate cele lalte coloane, dupa care putem efectua diferite operatii cu ele"
   ]
  },
  {
   "cell_type": "code",
   "execution_count": 8,
   "metadata": {},
   "outputs": [
    {
     "name": "stdout",
     "output_type": "stream",
     "text": [
      "      values  money\n",
      "keys               \n",
      "ea         6      6\n",
      "el        20     17\n",
      "     values           money          \n",
      "        sum      mean   sum      mean\n",
      "keys                                 \n",
      "ea        6  6.000000     6  6.000000\n",
      "el       20  6.666667    17  5.666667\n"
     ]
    }
   ],
   "source": [
    "df1 = pd.DataFrame({'keys': ['el', 'ea', 'el', 'el'], 'values': [5, 6, 7, 8], 'money': [2, 6, 7, 8]})\n",
    "\n",
    "grouping = df1.groupby('keys')\n",
    "print(grouping.sum())\n",
    "print(grouping.agg(['sum', 'mean']))"
   ]
  },
  {
   "cell_type": "code",
   "execution_count": 9,
   "metadata": {},
   "outputs": [
    {
     "data": {
      "text/html": [
       "<div>\n",
       "<style scoped>\n",
       "    .dataframe tbody tr th:only-of-type {\n",
       "        vertical-align: middle;\n",
       "    }\n",
       "\n",
       "    .dataframe tbody tr th {\n",
       "        vertical-align: top;\n",
       "    }\n",
       "\n",
       "    .dataframe thead th {\n",
       "        text-align: right;\n",
       "    }\n",
       "</style>\n",
       "<table border=\"1\" class=\"dataframe\">\n",
       "  <thead>\n",
       "    <tr style=\"text-align: right;\">\n",
       "      <th></th>\n",
       "      <th>values</th>\n",
       "      <th>money</th>\n",
       "    </tr>\n",
       "  </thead>\n",
       "  <tbody>\n",
       "    <tr>\n",
       "      <th>ea</th>\n",
       "      <td>6</td>\n",
       "      <td>6</td>\n",
       "    </tr>\n",
       "    <tr>\n",
       "      <th>el</th>\n",
       "      <td>20</td>\n",
       "      <td>17</td>\n",
       "    </tr>\n",
       "  </tbody>\n",
       "</table>\n",
       "</div>"
      ],
      "text/plain": [
       "    values  money\n",
       "ea       6      6\n",
       "el      20     17"
      ]
     },
     "execution_count": 9,
     "metadata": {},
     "output_type": "execute_result"
    }
   ],
   "source": [
    "pd.DataFrame({\n",
    "    'values': [df1[df1['keys'] == 'ea']['values'].sum(), df1[df1['keys'] == 'el']['values'].sum()],\n",
    "    'money': [df1[df1['keys'] == 'ea']['money'].sum(), df1[df1['keys'] == 'el']['money'].sum()]\n",
    "}, index=['ea', 'el'])"
   ]
  },
  {
   "cell_type": "code",
   "execution_count": 10,
   "metadata": {},
   "outputs": [
    {
     "name": "stdout",
     "output_type": "stream",
     "text": [
      "     A      B    C  D\n",
      "0  foo  small  two  1\n",
      "1  bar  large  one  2\n",
      "2  foo  small  two  3\n",
      "3  foo  large  one  4\n",
      "4  bar  large  two  5\n"
     ]
    }
   ],
   "source": [
    "df = pd.DataFrame({\n",
    "    'A': ['foo', 'bar', 'foo', 'foo', 'bar'],\n",
    "    'B': ['small', 'large', 'small', 'large', 'large'],\n",
    "    'C': ['two', 'one', 'two', 'one', 'two'],\n",
    "    'D': [1, 2, 3, 4, 5]\n",
    "})\n",
    "\n",
    "print(df)\n"
   ]
  },
  {
   "cell_type": "markdown",
   "metadata": {},
   "source": [
    "**pivot_table** &larr; Restructureaza tabelul in DataFrame dupa criterile indicate in atributurile functiei"
   ]
  },
  {
   "cell_type": "code",
   "execution_count": 11,
   "metadata": {},
   "outputs": [
    {
     "name": "stdout",
     "output_type": "stream",
     "text": [
      "B        large  small\n",
      "A   C                \n",
      "bar one    2.0    NaN\n",
      "    two    5.0    NaN\n",
      "foo one    4.0    NaN\n",
      "    two    NaN    4.0\n"
     ]
    }
   ],
   "source": [
    "print(df.pivot_table(values='D', index=['A', 'C'],  columns=['B'], aggfunc='sum'))"
   ]
  },
  {
   "cell_type": "code",
   "execution_count": 12,
   "metadata": {},
   "outputs": [
    {
     "data": {
      "text/html": [
       "<div>\n",
       "<style scoped>\n",
       "    .dataframe tbody tr th:only-of-type {\n",
       "        vertical-align: middle;\n",
       "    }\n",
       "\n",
       "    .dataframe tbody tr th {\n",
       "        vertical-align: top;\n",
       "    }\n",
       "\n",
       "    .dataframe thead th {\n",
       "        text-align: right;\n",
       "    }\n",
       "</style>\n",
       "<table border=\"1\" class=\"dataframe\">\n",
       "  <thead>\n",
       "    <tr style=\"text-align: right;\">\n",
       "      <th></th>\n",
       "      <th>Car wheels</th>\n",
       "      <th>Gender</th>\n",
       "      <th>Permis</th>\n",
       "    </tr>\n",
       "  </thead>\n",
       "  <tbody>\n",
       "    <tr>\n",
       "      <th>0</th>\n",
       "      <td>3</td>\n",
       "      <td>Male</td>\n",
       "      <td>True</td>\n",
       "    </tr>\n",
       "    <tr>\n",
       "      <th>1</th>\n",
       "      <td>4</td>\n",
       "      <td>Male</td>\n",
       "      <td>True</td>\n",
       "    </tr>\n",
       "    <tr>\n",
       "      <th>2</th>\n",
       "      <td>4</td>\n",
       "      <td>Female</td>\n",
       "      <td>False</td>\n",
       "    </tr>\n",
       "    <tr>\n",
       "      <th>3</th>\n",
       "      <td>3</td>\n",
       "      <td>Female</td>\n",
       "      <td>False</td>\n",
       "    </tr>\n",
       "    <tr>\n",
       "      <th>4</th>\n",
       "      <td>3</td>\n",
       "      <td>Female</td>\n",
       "      <td>True</td>\n",
       "    </tr>\n",
       "    <tr>\n",
       "      <th>5</th>\n",
       "      <td>4</td>\n",
       "      <td>Female</td>\n",
       "      <td>False</td>\n",
       "    </tr>\n",
       "    <tr>\n",
       "      <th>6</th>\n",
       "      <td>6</td>\n",
       "      <td>Male</td>\n",
       "      <td>False</td>\n",
       "    </tr>\n",
       "  </tbody>\n",
       "</table>\n",
       "</div>"
      ],
      "text/plain": [
       "   Car wheels  Gender  Permis\n",
       "0           3    Male    True\n",
       "1           4    Male    True\n",
       "2           4  Female   False\n",
       "3           3  Female   False\n",
       "4           3  Female    True\n",
       "5           4  Female   False\n",
       "6           6    Male   False"
      ]
     },
     "execution_count": 12,
     "metadata": {},
     "output_type": "execute_result"
    }
   ],
   "source": [
    "df_cars = pd.DataFrame({\n",
    "    'Car wheels': [3, 4, 4, 3, 3, 4, 6],\n",
    "    'Gender': ['Male', 'Male', 'Female', 'Female', 'Female', 'Female', 'Male'],\n",
    "    'Permis': [True, True, False, False, True, False, False]\n",
    "})\n",
    "\n",
    "df_cars"
   ]
  },
  {
   "cell_type": "code",
   "execution_count": 13,
   "metadata": {},
   "outputs": [
    {
     "data": {
      "text/html": [
       "<div>\n",
       "<style scoped>\n",
       "    .dataframe tbody tr th:only-of-type {\n",
       "        vertical-align: middle;\n",
       "    }\n",
       "\n",
       "    .dataframe tbody tr th {\n",
       "        vertical-align: top;\n",
       "    }\n",
       "\n",
       "    .dataframe thead tr th {\n",
       "        text-align: left;\n",
       "    }\n",
       "\n",
       "    .dataframe thead tr:last-of-type th {\n",
       "        text-align: right;\n",
       "    }\n",
       "</style>\n",
       "<table border=\"1\" class=\"dataframe\">\n",
       "  <thead>\n",
       "    <tr>\n",
       "      <th>Gender</th>\n",
       "      <th colspan=\"2\" halign=\"left\">Female</th>\n",
       "      <th colspan=\"2\" halign=\"left\">Male</th>\n",
       "    </tr>\n",
       "    <tr>\n",
       "      <th>Permis</th>\n",
       "      <th>False</th>\n",
       "      <th>True</th>\n",
       "      <th>False</th>\n",
       "      <th>True</th>\n",
       "    </tr>\n",
       "    <tr>\n",
       "      <th>Car wheels</th>\n",
       "      <th></th>\n",
       "      <th></th>\n",
       "      <th></th>\n",
       "      <th></th>\n",
       "    </tr>\n",
       "  </thead>\n",
       "  <tbody>\n",
       "    <tr>\n",
       "      <th>3</th>\n",
       "      <td>1</td>\n",
       "      <td>1</td>\n",
       "      <td>0</td>\n",
       "      <td>1</td>\n",
       "    </tr>\n",
       "    <tr>\n",
       "      <th>4</th>\n",
       "      <td>2</td>\n",
       "      <td>0</td>\n",
       "      <td>0</td>\n",
       "      <td>1</td>\n",
       "    </tr>\n",
       "    <tr>\n",
       "      <th>6</th>\n",
       "      <td>0</td>\n",
       "      <td>0</td>\n",
       "      <td>1</td>\n",
       "      <td>0</td>\n",
       "    </tr>\n",
       "  </tbody>\n",
       "</table>\n",
       "</div>"
      ],
      "text/plain": [
       "Gender     Female        Male      \n",
       "Permis      False True  False True \n",
       "Car wheels                         \n",
       "3               1     1     0     1\n",
       "4               2     0     0     1\n",
       "6               0     0     1     0"
      ]
     },
     "execution_count": 13,
     "metadata": {},
     "output_type": "execute_result"
    }
   ],
   "source": [
    "result = pd.crosstab(df_cars['Car wheels'], [df_cars['Gender'], df_cars['Permis']])\n",
    "result"
   ]
  },
  {
   "cell_type": "code",
   "execution_count": 75,
   "metadata": {},
   "outputs": [
    {
     "name": "stdout",
     "output_type": "stream",
     "text": [
      "  Student  Mate  Informatica\n",
      "0  Valera    10           11\n",
      "1   Dorin     8            6\n",
      "2   Sasha     9            4\n"
     ]
    }
   ],
   "source": [
    "note = pd.DataFrame({\n",
    "    'Student': ['Valera', 'Dorin', 'Sasha'],\n",
    "    'Mate': [10, 8, 9],\n",
    "    'Informatica': [11, 6, 4]\n",
    "})\n",
    "\n",
    "print(note)"
   ]
  },
  {
   "cell_type": "code",
   "execution_count": 76,
   "metadata": {},
   "outputs": [
    {
     "name": "stdout",
     "output_type": "stream",
     "text": [
      "  Student      Subiect  Note\n",
      "0  Valera         Mate    10\n",
      "1   Dorin         Mate     8\n",
      "2   Sasha         Mate     9\n",
      "3  Valera  Informatica    11\n",
      "4   Dorin  Informatica     6\n",
      "5   Sasha  Informatica     4\n"
     ]
    }
   ],
   "source": [
    "print(pd.melt(note, id_vars=['Student'], value_vars=['Mate', 'Informatica'], var_name='Subiect', value_name='Note'))"
   ]
  },
  {
   "cell_type": "code",
   "execution_count": 77,
   "metadata": {},
   "outputs": [
    {
     "name": "stdout",
     "output_type": "stream",
     "text": [
      "         date  value\n",
      "0  2023-11-11      1\n",
      "1  2000-01-12      2\n",
      "2  1997-02-02      3\n",
      "3  2023-10-11      4\n",
      "4  2020-01-12      5\n",
      "5  1907-01-12      6\n",
      "<class 'pandas.core.frame.DataFrame'>\n",
      "RangeIndex: 6 entries, 0 to 5\n",
      "Data columns (total 2 columns):\n",
      " #   Column  Non-Null Count  Dtype \n",
      "---  ------  --------------  ----- \n",
      " 0   date    6 non-null      object\n",
      " 1   value   6 non-null      int64 \n",
      "dtypes: int64(1), object(1)\n",
      "memory usage: 224.0+ bytes\n",
      "None\n"
     ]
    }
   ],
   "source": [
    "time = pd.DataFrame({\n",
    "    'date': ['2023-11-11', '2000-01-12', '1997-02-02', '2023-10-11', '2020-01-12', '1907-01-12'],\n",
    "    'value': [1, 2, 3, 4, 5, 6]\n",
    "})\n",
    "\n",
    "print(time)\n",
    "print(time.info())"
   ]
  },
  {
   "cell_type": "code",
   "execution_count": 78,
   "metadata": {},
   "outputs": [
    {
     "name": "stdout",
     "output_type": "stream",
     "text": [
      "<class 'pandas.core.frame.DataFrame'>\n",
      "RangeIndex: 6 entries, 0 to 5\n",
      "Data columns (total 2 columns):\n",
      " #   Column  Non-Null Count  Dtype         \n",
      "---  ------  --------------  -----         \n",
      " 0   date    6 non-null      datetime64[ns]\n",
      " 1   value   6 non-null      int64         \n",
      "dtypes: datetime64[ns](1), int64(1)\n",
      "memory usage: 224.0 bytes\n",
      "None\n"
     ]
    }
   ],
   "source": [
    "time['date'] = pd.to_datetime(time['date'])\n",
    "\n",
    "print(time.info())"
   ]
  },
  {
   "cell_type": "markdown",
   "metadata": {},
   "source": [
    "Timpul de date **datetime** pot fi comparate intre ele"
   ]
  },
  {
   "cell_type": "code",
   "execution_count": 79,
   "metadata": {},
   "outputs": [
    {
     "name": "stdout",
     "output_type": "stream",
     "text": [
      "2023-11-11 00:00:00\n",
      "2000-01-12 00:00:00\n",
      "True\n",
      "8704 days 00:00:00\n"
     ]
    }
   ],
   "source": [
    "print(time['date'].iloc[0])\n",
    "print(time['date'].iloc[1])\n",
    "print(time['date'].iloc[0]>=time['date'].iloc[1])\n",
    "print(time['date'].iloc[0]-time['date'].iloc[1])"
   ]
  },
  {
   "cell_type": "code",
   "execution_count": 80,
   "metadata": {},
   "outputs": [],
   "source": [
    "time.set_index('date', inplace=True, drop=True)\n"
   ]
  },
  {
   "cell_type": "code",
   "execution_count": 81,
   "metadata": {},
   "outputs": [
    {
     "name": "stdout",
     "output_type": "stream",
     "text": [
      "            value\n",
      "date             \n",
      "2023-11-11      1\n",
      "2000-01-12      2\n",
      "1997-02-02      3\n",
      "2023-10-11      4\n",
      "2020-01-12      5\n",
      "1907-01-12      6\n",
      "            value\n",
      "date             \n",
      "2023-11-11      1\n",
      "2000-01-12      2\n",
      "2023-10-11      4\n",
      "2020-01-12      5\n"
     ]
    }
   ],
   "source": [
    "print(time)\n",
    "print(time.loc['2000-01-12':])"
   ]
  },
  {
   "cell_type": "code",
   "execution_count": 82,
   "metadata": {},
   "outputs": [
    {
     "data": {
      "text/html": [
       "<div>\n",
       "<style scoped>\n",
       "    .dataframe tbody tr th:only-of-type {\n",
       "        vertical-align: middle;\n",
       "    }\n",
       "\n",
       "    .dataframe tbody tr th {\n",
       "        vertical-align: top;\n",
       "    }\n",
       "\n",
       "    .dataframe thead th {\n",
       "        text-align: right;\n",
       "    }\n",
       "</style>\n",
       "<table border=\"1\" class=\"dataframe\">\n",
       "  <thead>\n",
       "    <tr style=\"text-align: right;\">\n",
       "      <th></th>\n",
       "      <th>value</th>\n",
       "    </tr>\n",
       "    <tr>\n",
       "      <th>date</th>\n",
       "      <th></th>\n",
       "    </tr>\n",
       "  </thead>\n",
       "  <tbody>\n",
       "    <tr>\n",
       "      <th>2023-11-11</th>\n",
       "      <td>NaN</td>\n",
       "    </tr>\n",
       "    <tr>\n",
       "      <th>2000-01-12</th>\n",
       "      <td>NaN</td>\n",
       "    </tr>\n",
       "    <tr>\n",
       "      <th>1997-02-02</th>\n",
       "      <td>6.0</td>\n",
       "    </tr>\n",
       "    <tr>\n",
       "      <th>2023-10-11</th>\n",
       "      <td>9.0</td>\n",
       "    </tr>\n",
       "    <tr>\n",
       "      <th>2020-01-12</th>\n",
       "      <td>12.0</td>\n",
       "    </tr>\n",
       "    <tr>\n",
       "      <th>1907-01-12</th>\n",
       "      <td>15.0</td>\n",
       "    </tr>\n",
       "  </tbody>\n",
       "</table>\n",
       "</div>"
      ],
      "text/plain": [
       "            value\n",
       "date             \n",
       "2023-11-11    NaN\n",
       "2000-01-12    NaN\n",
       "1997-02-02    6.0\n",
       "2023-10-11    9.0\n",
       "2020-01-12   12.0\n",
       "1907-01-12   15.0"
      ]
     },
     "execution_count": 82,
     "metadata": {},
     "output_type": "execute_result"
    }
   ],
   "source": [
    "time.rolling(window=3).sum()"
   ]
  },
  {
   "cell_type": "code",
   "execution_count": 83,
   "metadata": {},
   "outputs": [
    {
     "data": {
      "text/html": [
       "<div>\n",
       "<style scoped>\n",
       "    .dataframe tbody tr th:only-of-type {\n",
       "        vertical-align: middle;\n",
       "    }\n",
       "\n",
       "    .dataframe tbody tr th {\n",
       "        vertical-align: top;\n",
       "    }\n",
       "\n",
       "    .dataframe thead th {\n",
       "        text-align: right;\n",
       "    }\n",
       "</style>\n",
       "<table border=\"1\" class=\"dataframe\">\n",
       "  <thead>\n",
       "    <tr style=\"text-align: right;\">\n",
       "      <th></th>\n",
       "      <th>value</th>\n",
       "    </tr>\n",
       "    <tr>\n",
       "      <th>date</th>\n",
       "      <th></th>\n",
       "    </tr>\n",
       "  </thead>\n",
       "  <tbody>\n",
       "    <tr>\n",
       "      <th>1907-01-31</th>\n",
       "      <td>6</td>\n",
       "    </tr>\n",
       "    <tr>\n",
       "      <th>1907-02-28</th>\n",
       "      <td>0</td>\n",
       "    </tr>\n",
       "    <tr>\n",
       "      <th>1907-03-31</th>\n",
       "      <td>0</td>\n",
       "    </tr>\n",
       "    <tr>\n",
       "      <th>1907-04-30</th>\n",
       "      <td>0</td>\n",
       "    </tr>\n",
       "    <tr>\n",
       "      <th>1907-05-31</th>\n",
       "      <td>0</td>\n",
       "    </tr>\n",
       "    <tr>\n",
       "      <th>...</th>\n",
       "      <td>...</td>\n",
       "    </tr>\n",
       "    <tr>\n",
       "      <th>2023-07-31</th>\n",
       "      <td>0</td>\n",
       "    </tr>\n",
       "    <tr>\n",
       "      <th>2023-08-31</th>\n",
       "      <td>0</td>\n",
       "    </tr>\n",
       "    <tr>\n",
       "      <th>2023-09-30</th>\n",
       "      <td>0</td>\n",
       "    </tr>\n",
       "    <tr>\n",
       "      <th>2023-10-31</th>\n",
       "      <td>4</td>\n",
       "    </tr>\n",
       "    <tr>\n",
       "      <th>2023-11-30</th>\n",
       "      <td>1</td>\n",
       "    </tr>\n",
       "  </tbody>\n",
       "</table>\n",
       "<p>1403 rows × 1 columns</p>\n",
       "</div>"
      ],
      "text/plain": [
       "            value\n",
       "date             \n",
       "1907-01-31      6\n",
       "1907-02-28      0\n",
       "1907-03-31      0\n",
       "1907-04-30      0\n",
       "1907-05-31      0\n",
       "...           ...\n",
       "2023-07-31      0\n",
       "2023-08-31      0\n",
       "2023-09-30      0\n",
       "2023-10-31      4\n",
       "2023-11-30      1\n",
       "\n",
       "[1403 rows x 1 columns]"
      ]
     },
     "execution_count": 83,
     "metadata": {},
     "output_type": "execute_result"
    }
   ],
   "source": [
    "time.resample('1ME').sum()"
   ]
  },
  {
   "cell_type": "code",
   "execution_count": 86,
   "metadata": {},
   "outputs": [
    {
     "data": {
      "text/plain": [
       "<Axes: >"
      ]
     },
     "execution_count": 86,
     "metadata": {},
     "output_type": "execute_result"
    },
    {
     "data": {
      "image/png": "[encoded data removed]",
      "text/plain": [
       "<Figure size 640x480 with 1 Axes>"
      ]
     },
     "metadata": {},
     "output_type": "display_data"
    }
   ],
   "source": [
    "note = pd.DataFrame({\n",
    "    'Student': ['Valera', 'Dorin', 'Sasha'],\n",
    "    'Mate': [10, 8, 9],\n",
    "    'Informatica': [11, 6, 4]\n",
    "})\n",
    "\n",
    "note.plot()"
   ]
  },
  {
   "cell_type": "code",
   "execution_count": 87,
   "metadata": {},
   "outputs": [
    {
     "data": {
      "text/plain": [
       "<Axes: >"
      ]
     },
     "execution_count": 87,
     "metadata": {},
     "output_type": "execute_result"
    },
    {
     "data": {
      "image/png": "[encoded data removed]",
      "text/plain": [
       "<Figure size 640x480 with 1 Axes>"
      ]
     },
     "metadata": {},
     "output_type": "display_data"
    }
   ],
   "source": [
    "note.plot(kind='bar')"
   ]
  },
  {
   "cell_type": "code",
   "execution_count": 88,
   "metadata": {},
   "outputs": [
    {
     "data": {
      "text/plain": [
       "<Axes: xlabel='Mate', ylabel='Informatica'>"
      ]
     },
     "execution_count": 88,
     "metadata": {},
     "output_type": "execute_result"
    },
    {
     "data": {
      "image/png": "[encoded data removed]",
      "text/plain": [
       "<Figure size 640x480 with 1 Axes>"
      ]
     },
     "metadata": {},
     "output_type": "display_data"
    }
   ],
   "source": [
    "note.plot(kind='scatter', x='Mate', y='Informatica')"
   ]
  },
  {
   "cell_type": "code",
   "execution_count": null,
   "metadata": {},
   "outputs": [],
   "source": []
  }
 ],
 "metadata": {
  "kernelspec": {
   "display_name": "Python 3",
   "language": "python",
   "name": "python3"
  },
  "language_info": {
   "codemirror_mode": {
    "name": "ipython",
    "version": 3
   },
   "file_extension": ".py",
   "mimetype": "text/x-python",
   "name": "python",
   "nbconvert_exporter": "python",
   "pygments_lexer": "ipython3",
   "version": "3.10.7"
  }
 },
 "nbformat": 4,
 "nbformat_minor": 2
}
