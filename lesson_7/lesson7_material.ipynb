{
 "cells": [
  {
   "cell_type": "markdown",
   "metadata": {},
   "source": [
    "# **Lesson 7: Data Collection and Preprocessing**"
   ]
  },
  {
   "cell_type": "code",
   "execution_count": 1,
   "metadata": {},
   "outputs": [],
   "source": [
    "# All imports\n",
    "import pandas as pd\n",
    "import numpy as np\n",
    "import matplotlib.pyplot as plt\n",
    "from datetime import datetime"
   ]
  },
  {
   "cell_type": "markdown",
   "metadata": {},
   "source": [
    "---\n",
    "\n",
    "## **1. Data Collection**\n",
    "\n",
    "### **1.1 Data Sources and Collection Methods**\n",
    "\n",
    "#### **Common Data Sources**\n",
    "- **APIs:** Application Programming Interfaces, such as Twitter API or Alpha Vantage for financial data.\n",
    "- **Web Scraping:** Using libraries like `BeautifulSoup` or `Scrapy` to extract data from websites.\n",
    "- **Databases:** SQL databases like MySQL and PostgreSQL or NoSQL databases like MongoDB.\n",
    "- **Public Datasets:** Websites like Kaggle or UCI Machine Learning Repository.\n",
    "- **CSV/Excel Files:** Flat files stored on local machines or data lakes."
   ]
  },
  {
   "cell_type": "code",
   "execution_count": 2,
   "metadata": {},
   "outputs": [
    {
     "name": "stdout",
     "output_type": "stream",
     "text": [
      "Original DataFrame:\n",
      "      Name    Age              Email    JoinDate    Salary\n",
      "0    Alice   25.0  alice@example.com  2021-01-01   70000.0\n",
      "1      Bob   30.0               None  2020-06-15   50000.0\n",
      "2  Charlie   35.0   charlie@somemail        None       NaN\n",
      "3      NaN    NaN                 na  2019-07-20       0.0\n",
      "4      Eva  105.0     eva@domain.com          NA  150000.0\n"
     ]
    }
   ],
   "source": [
    "# Example: Creating a sample DataFrame for illustration\n",
    "data = {\n",
    "    'Name': ['Alice', 'Bob', 'Charlie', np.nan, 'Eva'],\n",
    "    'Age': [25, 30, 35, None, 105],\n",
    "    'Email': ['alice@example.com', None, 'charlie@somemail', 'na', 'eva@domain.com'],\n",
    "    'JoinDate': ['2021-01-01', '2020-06-15', None, '2019-07-20', 'NA'],\n",
    "    'Salary': [70000, 50000, None, 0, 150000]\n",
    "}\n",
    "\n",
    "df = pd.DataFrame(data)\n",
    "print(\"Original DataFrame:\")\n",
    "print(df)"
   ]
  },
  {
   "cell_type": "markdown",
   "metadata": {},
   "source": [
    "---\n",
    "\n",
    "## **2. Data Preprocessing**\n",
    "\n",
    "### **2.1 Data Cleaning and Preprocessing Techniques**\n",
    "\n",
    "Data cleaning identifies and corrects inaccuracies, removes irrelevant information, and fills gaps in the data to enhance its quality.\n",
    "\n",
    "---\n",
    "\n",
    "### **Step 1: Find the Dirt**\n",
    "\n",
    "#### **Identifying Common Issues:**\n",
    "- **Missing Values:** Check for NaN or null values.\n",
    "- **Outliers:** Extreme values that may skew or misrepresent your data.\n",
    "- **Inconsistencies:** Different representations of the same information.\n",
    "- **Invalid Data:** Data that doesn't make logical sense.\n"
   ]
  },
  {
   "cell_type": "code",
   "execution_count": 3,
   "metadata": {},
   "outputs": [
    {
     "name": "stdout",
     "output_type": "stream",
     "text": [
      "\n",
      "Missing Values per Column:\n",
      "Name        1\n",
      "Age         1\n",
      "Email       1\n",
      "JoinDate    1\n",
      "Salary      1\n",
      "dtype: int64\n"
     ]
    },
    {
     "data": {
      "image/png": "[encoded data removed]",
      "text/plain": [
       "<Figure size 640x480 with 1 Axes>"
      ]
     },
     "metadata": {},
     "output_type": "display_data"
    }
   ],
   "source": [
    "# Check for missing data\n",
    "print(\"\\nMissing Values per Column:\")\n",
    "print(df.isnull().sum())\n",
    "\n",
    "# Visualize possible outliers\n",
    "plt.hist(df['Salary'], bins=20)\n",
    "plt.title('Distribution of Salaries')\n",
    "plt.xlabel('Salary')\n",
    "plt.ylabel('Frequency')\n",
    "plt.show()"
   ]
  },
  {
   "cell_type": "markdown",
   "metadata": {},
   "source": [
    "---\n",
    "\n",
    "### **Step 2: Scrub the Dirt**\n",
    "\n",
    "#### **2.1 Handling Missing Data**\n",
    "\n",
    "- **Remove Missing Data**"
   ]
  },
  {
   "cell_type": "code",
   "execution_count": 4,
   "metadata": {},
   "outputs": [],
   "source": [
    "# Dropping rows with missing Name and Age\n",
    "df_cleaned = df.dropna(subset=['Name', 'Age'])"
   ]
  },
  {
   "cell_type": "markdown",
   "metadata": {},
   "source": [
    "- **Replace with Aggregates**"
   ]
  },
  {
   "cell_type": "code",
   "execution_count": 5,
   "metadata": {},
   "outputs": [
    {
     "name": "stderr",
     "output_type": "stream",
     "text": [
      "/var/folders/dt/tgmydmjd1g354lgxy3yn76g40000gn/T/ipykernel_37586/634815321.py:2: FutureWarning: A value is trying to be set on a copy of a DataFrame or Series through chained assignment using an inplace method.\n",
      "The behavior will change in pandas 3.0. This inplace method will never work because the intermediate object on which we are setting values always behaves as a copy.\n",
      "\n",
      "For example, when doing 'df[col].method(value, inplace=True)', try using 'df.method({col: value}, inplace=True)' or df[col] = df[col].method(value) instead, to perform the operation inplace on the original object.\n",
      "\n",
      "\n",
      "  df_cleaned['Email'].fillna('unknown@unknown.com', inplace=True)\n",
      "/var/folders/dt/tgmydmjd1g354lgxy3yn76g40000gn/T/ipykernel_37586/634815321.py:2: SettingWithCopyWarning: \n",
      "A value is trying to be set on a copy of a slice from a DataFrame\n",
      "\n",
      "See the caveats in the documentation: https://pandas.pydata.org/pandas-docs/stable/user_guide/indexing.html#returning-a-view-versus-a-copy\n",
      "  df_cleaned['Email'].fillna('unknown@unknown.com', inplace=True)\n"
     ]
    }
   ],
   "source": [
    "# Impute missing email with a placeholder\n",
    "df_cleaned['Email'].fillna('unknown@unknown.com', inplace=True)"
   ]
  },
  {
   "cell_type": "markdown",
   "metadata": {},
   "source": [
    "- **Recode Missing Data**"
   ]
  },
  {
   "cell_type": "code",
   "execution_count": 6,
   "metadata": {},
   "outputs": [
    {
     "name": "stderr",
     "output_type": "stream",
     "text": [
      "/var/folders/dt/tgmydmjd1g354lgxy3yn76g40000gn/T/ipykernel_37586/1300245141.py:2: FutureWarning: A value is trying to be set on a copy of a DataFrame or Series through chained assignment using an inplace method.\n",
      "The behavior will change in pandas 3.0. This inplace method will never work because the intermediate object on which we are setting values always behaves as a copy.\n",
      "\n",
      "For example, when doing 'df[col].method(value, inplace=True)', try using 'df.method({col: value}, inplace=True)' or df[col] = df[col].method(value) instead, to perform the operation inplace on the original object.\n",
      "\n",
      "\n",
      "  df_cleaned['JoinDate'].replace('NA', np.nan, inplace=True)\n",
      "/var/folders/dt/tgmydmjd1g354lgxy3yn76g40000gn/T/ipykernel_37586/1300245141.py:2: SettingWithCopyWarning: \n",
      "A value is trying to be set on a copy of a slice from a DataFrame\n",
      "\n",
      "See the caveats in the documentation: https://pandas.pydata.org/pandas-docs/stable/user_guide/indexing.html#returning-a-view-versus-a-copy\n",
      "  df_cleaned['JoinDate'].replace('NA', np.nan, inplace=True)\n",
      "/var/folders/dt/tgmydmjd1g354lgxy3yn76g40000gn/T/ipykernel_37586/1300245141.py:3: SettingWithCopyWarning: \n",
      "A value is trying to be set on a copy of a slice from a DataFrame.\n",
      "Try using .loc[row_indexer,col_indexer] = value instead\n",
      "\n",
      "See the caveats in the documentation: https://pandas.pydata.org/pandas-docs/stable/user_guide/indexing.html#returning-a-view-versus-a-copy\n",
      "  df_cleaned['Joined'] = df_cleaned['JoinDate'].notnull().astype(int)\n"
     ]
    }
   ],
   "source": [
    "# Recode `JoinDate` NaNs as \"unknown\"\n",
    "df_cleaned['JoinDate'].replace('NA', np.nan, inplace=True)\n",
    "df_cleaned['Joined'] = df_cleaned['JoinDate'].notnull().astype(int)"
   ]
  },
  {
   "cell_type": "markdown",
   "metadata": {},
   "source": [
    "**Interpolate Missing Data**\n",
    "\n",
    "Interpolation can estimate missing values by using the data before and after the missing point. This is especially useful for time series data."
   ]
  },
  {
   "cell_type": "code",
   "execution_count": 15,
   "metadata": {},
   "outputs": [
    {
     "name": "stdout",
     "output_type": "stream",
     "text": [
      "        time  value\n",
      "0 2023-01-01    1.0\n",
      "1 2023-01-02    2.0\n",
      "2 2023-01-03    3.0\n",
      "3 2023-01-04    4.0\n",
      "4 2023-01-05    5.0\n"
     ]
    }
   ],
   "source": [
    "# Sample DataFrame\n",
    "data = {'time': pd.date_range(start='2023-01-01', periods=5), 'value': [1, np.nan, np.nan, 4, 5]}\n",
    "df = pd.DataFrame(data)\n",
    "\n",
    "# Interpolating missing values\n",
    "df['value'] = df['value'].interpolate(method='linear')\n",
    "print(df)"
   ]
  },
  {
   "cell_type": "markdown",
   "metadata": {},
   "source": [
    "### 2. **Forward Fill/Backward Fill (Imputation Using Nearby Values)**\n",
    "\n",
    "- **Forward Fill**: Use the last known value to fill the missing value.\n",
    "- **Backward Fill**: Use the next known value to fill the missing value."
   ]
  },
  {
   "cell_type": "code",
   "execution_count": 17,
   "metadata": {},
   "outputs": [],
   "source": [
    "# Forward fill method\n",
    "df['value'] = df['value'].ffill()\n",
    "\n",
    "# Backward fill method\n",
    "df['value'] = df['value'].bfill()"
   ]
  },
  {
   "cell_type": "markdown",
   "metadata": {},
   "source": [
    "### 3. **Using a Model to Predict Missing Values**\n",
    "\n",
    "Use machine learning models to predict what the missing values might be based on other features in the dataset."
   ]
  },
  {
   "cell_type": "markdown",
   "metadata": {},
   "source": [
    "### 4. **Custom Function for Imputation**\n",
    "\n",
    "You can define a custom function that applies specific rules for imputing missing values based on domain knowledge."
   ]
  },
  {
   "cell_type": "markdown",
   "metadata": {},
   "source": [
    "#### **2.2 Handling Outliers**\n",
    "- **Detecting Outliers using IQR**"
   ]
  },
  {
   "cell_type": "code",
   "execution_count": 7,
   "metadata": {},
   "outputs": [],
   "source": [
    "# Remove outliers from Salary\n",
    "Q1 = df_cleaned['Salary'].quantile(0.25)\n",
    "Q3 = df_cleaned['Salary'].quantile(0.75)\n",
    "IQR = Q3 - Q1\n",
    "filter = (df_cleaned['Salary'] >= Q1 - 1.5 * IQR) & (df_cleaned['Salary'] <= Q3 + 1.5 * IQR)\n",
    "df_cleaned = df_cleaned.loc[filter]"
   ]
  },
  {
   "cell_type": "markdown",
   "metadata": {},
   "source": [
    "- **Handling Outliers**\n",
    "  - **Remove**: `df = df[(df['column'] >= lower_limit) & (df['column'] <= upper_limit)]`\n",
    "  - **Segment**: `df['category'] = np.where(condition, 'outlier', 'normal')`\n",
    "\n",
    "#### **2.3 Contaminated and Inconsistent Data**"
   ]
  },
  {
   "cell_type": "code",
   "execution_count": 8,
   "metadata": {},
   "outputs": [],
   "source": [
    "# Ensure emails are lower-cased\n",
    "df_cleaned['Email'] = df_cleaned['Email'].str.lower().str.strip()"
   ]
  },
  {
   "cell_type": "markdown",
   "metadata": {},
   "source": [
    "#### **2.4 Invalid Data**"
   ]
  },
  {
   "cell_type": "code",
   "execution_count": 9,
   "metadata": {},
   "outputs": [],
   "source": [
    "# Removing logically invalid values\n",
    "df_cleaned = df_cleaned[df_cleaned['Age'] <= 100]"
   ]
  },
  {
   "cell_type": "markdown",
   "metadata": {},
   "source": [
    "#### **2.5 Duplicate Data**"
   ]
  },
  {
   "cell_type": "code",
   "execution_count": 10,
   "metadata": {},
   "outputs": [],
   "source": [
    "# Removing duplicates\n",
    "df_cleaned.drop_duplicates(inplace=True)"
   ]
  },
  {
   "cell_type": "markdown",
   "metadata": {},
   "source": [
    "\n",
    "#### **2.6 Data Type Issues**\n",
    "\n",
    "- **Strings:**"
   ]
  },
  {
   "cell_type": "code",
   "execution_count": 13,
   "metadata": {},
   "outputs": [],
   "source": [
    "# Standardize casing and remove whitespace\n",
    "# df['column'] = df['column'].str.lower().str.strip()"
   ]
  },
  {
   "cell_type": "markdown",
   "metadata": {},
   "source": [
    "- **Dates:**"
   ]
  },
  {
   "cell_type": "code",
   "execution_count": 12,
   "metadata": {},
   "outputs": [],
   "source": [
    "# Converting to datetime\n",
    "df_cleaned['JoinDate'] = pd.to_datetime(df_cleaned['JoinDate'], errors='coerce')"
   ]
  },
  {
   "cell_type": "markdown",
   "metadata": {},
   "source": [
    "\n",
    "---\n",
    "\n",
    "### **3. Rinse and Repeat**\n",
    "\n",
    "- **Iterate Through the Cleaning Process**\n",
    "  - Continually reassess and refine data quality.\n",
    "  - Visualize data to identify new potential inconsistencies or issues.\n"
   ]
  },
  {
   "cell_type": "markdown",
   "metadata": {},
   "source": [
    "\n",
    "---"
   ]
  }
 ],
 "metadata": {
  "kernelspec": {
   "display_name": "oop",
   "language": "python",
   "name": "python3"
  },
  "language_info": {
   "codemirror_mode": {
    "name": "ipython",
    "version": 3
   },
   "file_extension": ".py",
   "mimetype": "text/x-python",
   "name": "python",
   "nbconvert_exporter": "python",
   "pygments_lexer": "ipython3",
   "version": "3.12.5"
  }
 },
 "nbformat": 4,
 "nbformat_minor": 2
}
